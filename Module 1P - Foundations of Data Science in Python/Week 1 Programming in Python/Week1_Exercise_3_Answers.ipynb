{
 "cells": [
  {
   "cell_type": "markdown",
   "metadata": {},
   "source": [
    "#### Import Libraries"
   ]
  },
  {
   "cell_type": "code",
   "execution_count": 1,
   "metadata": {
    "ExecuteTime": {
     "end_time": "2019-08-08T01:22:44.362072Z",
     "start_time": "2019-08-08T01:22:44.041090Z"
    }
   },
   "outputs": [],
   "source": [
    "import numpy as np\n",
    "import pandas as pd"
   ]
  },
  {
   "cell_type": "markdown",
   "metadata": {},
   "source": [
    "#### Ex.3.1 Create a dictionary to combine four Series from the four columns in the following table：\n",
    "|&nbsp;|   name     | age | gender | height |\n",
    "|-|:----------:|:---:|:------:|:------:|\n",
    "|0| Emma       |  21 | Female |  163   |\n",
    "|1| Tommy      |  26 |  Male  |  177   |\n",
    "|2| Mike       |  23 |  Male  |  154   |\n",
    "|3| Steven     |  28 |  Male  |  168   |\n",
    "|4| Emily      |  25 | Female |  160   |\n",
    "|5| Gloria     |  23 | Female |  166   |"
   ]
  },
  {
   "cell_type": "code",
   "execution_count": 2,
   "metadata": {
    "ExecuteTime": {
     "end_time": "2019-08-08T01:22:44.372395Z",
     "start_time": "2019-08-08T01:22:44.364114Z"
    },
    "scrolled": true
   },
   "outputs": [
    {
     "name": "stdout",
     "output_type": "stream",
     "text": [
      "{'name': 0      Emma\n",
      "1     Tommy\n",
      "2      Mike\n",
      "3    Steven\n",
      "4     Emily\n",
      "5    Gloria\n",
      "dtype: object, 'age': 0    21\n",
      "1    26\n",
      "2    23\n",
      "3    28\n",
      "4    25\n",
      "5    23\n",
      "dtype: int64, 'gender': 0    Female\n",
      "1      Male\n",
      "2      Male\n",
      "3      Male\n",
      "4    Female\n",
      "5    Female\n",
      "dtype: object, 'height': 0    163\n",
      "1    177\n",
      "2    154\n",
      "3    168\n",
      "4    160\n",
      "5    166\n",
      "dtype: int64}\n"
     ]
    }
   ],
   "source": [
    "# code for Ex.3.1\n",
    "dictionary = {\n",
    "                  'name'       : pd.Series(['Emma', 'Tommy', 'Mike', 'Steven', 'Emily', 'Gloria']),\n",
    "                  'age'        : pd.Series([21, 26, 23, 28, 25, 23]), \n",
    "                  'gender'     : pd.Series(['Female', 'Male', 'Male', 'Male', 'Female', 'Female']),\n",
    "                  'height'     : pd.Series([163, 177, 154, 168, 160, 166])\n",
    "             }\n",
    "print(dictionary)"
   ]
  },
  {
   "cell_type": "markdown",
   "metadata": {},
   "source": [
    "#### Ex.3.2 Create a DataFrame the same to the table in Ex.3.1 from a dictionary of Series："
   ]
  },
  {
   "cell_type": "code",
   "execution_count": 3,
   "metadata": {
    "ExecuteTime": {
     "end_time": "2019-08-08T01:22:44.380601Z",
     "start_time": "2019-08-08T01:22:44.375741Z"
    }
   },
   "outputs": [],
   "source": [
    "# code for Ex.3.2\n",
    "\n",
    "df = pd.DataFrame(dictionary)"
   ]
  },
  {
   "cell_type": "code",
   "execution_count": 4,
   "metadata": {
    "ExecuteTime": {
     "end_time": "2019-08-08T01:22:44.409296Z",
     "start_time": "2019-08-08T01:22:44.383585Z"
    }
   },
   "outputs": [
    {
     "data": {
      "text/html": [
       "<div>\n",
       "<style scoped>\n",
       "    .dataframe tbody tr th:only-of-type {\n",
       "        vertical-align: middle;\n",
       "    }\n",
       "\n",
       "    .dataframe tbody tr th {\n",
       "        vertical-align: top;\n",
       "    }\n",
       "\n",
       "    .dataframe thead th {\n",
       "        text-align: right;\n",
       "    }\n",
       "</style>\n",
       "<table border=\"1\" class=\"dataframe\">\n",
       "  <thead>\n",
       "    <tr style=\"text-align: right;\">\n",
       "      <th></th>\n",
       "      <th>age</th>\n",
       "      <th>gender</th>\n",
       "      <th>height</th>\n",
       "      <th>name</th>\n",
       "    </tr>\n",
       "  </thead>\n",
       "  <tbody>\n",
       "    <tr>\n",
       "      <th>0</th>\n",
       "      <td>21</td>\n",
       "      <td>Female</td>\n",
       "      <td>163</td>\n",
       "      <td>Emma</td>\n",
       "    </tr>\n",
       "    <tr>\n",
       "      <th>1</th>\n",
       "      <td>26</td>\n",
       "      <td>Male</td>\n",
       "      <td>177</td>\n",
       "      <td>Tommy</td>\n",
       "    </tr>\n",
       "    <tr>\n",
       "      <th>2</th>\n",
       "      <td>23</td>\n",
       "      <td>Male</td>\n",
       "      <td>154</td>\n",
       "      <td>Mike</td>\n",
       "    </tr>\n",
       "    <tr>\n",
       "      <th>3</th>\n",
       "      <td>28</td>\n",
       "      <td>Male</td>\n",
       "      <td>168</td>\n",
       "      <td>Steven</td>\n",
       "    </tr>\n",
       "    <tr>\n",
       "      <th>4</th>\n",
       "      <td>25</td>\n",
       "      <td>Female</td>\n",
       "      <td>160</td>\n",
       "      <td>Emily</td>\n",
       "    </tr>\n",
       "    <tr>\n",
       "      <th>5</th>\n",
       "      <td>23</td>\n",
       "      <td>Female</td>\n",
       "      <td>166</td>\n",
       "      <td>Gloria</td>\n",
       "    </tr>\n",
       "  </tbody>\n",
       "</table>\n",
       "</div>"
      ],
      "text/plain": [
       "   age  gender  height    name\n",
       "0   21  Female     163    Emma\n",
       "1   26    Male     177   Tommy\n",
       "2   23    Male     154    Mike\n",
       "3   28    Male     168  Steven\n",
       "4   25  Female     160   Emily\n",
       "5   23  Female     166  Gloria"
      ]
     },
     "execution_count": 4,
     "metadata": {},
     "output_type": "execute_result"
    }
   ],
   "source": [
    "# (optional) rearrange the order of columns (default order of columns follows the order of alphabet)\n",
    "\n",
    "df = df[df.columns.sort_values()]\n",
    "df"
   ]
  },
  {
   "cell_type": "markdown",
   "metadata": {},
   "source": [
    "#### Ex.3.3 Pick out all the male items and assign them to a new DataFrame df_male"
   ]
  },
  {
   "cell_type": "code",
   "execution_count": 5,
   "metadata": {
    "ExecuteTime": {
     "end_time": "2019-08-08T01:22:44.423763Z",
     "start_time": "2019-08-08T01:22:44.411739Z"
    }
   },
   "outputs": [
    {
     "data": {
      "text/html": [
       "<div>\n",
       "<style scoped>\n",
       "    .dataframe tbody tr th:only-of-type {\n",
       "        vertical-align: middle;\n",
       "    }\n",
       "\n",
       "    .dataframe tbody tr th {\n",
       "        vertical-align: top;\n",
       "    }\n",
       "\n",
       "    .dataframe thead th {\n",
       "        text-align: right;\n",
       "    }\n",
       "</style>\n",
       "<table border=\"1\" class=\"dataframe\">\n",
       "  <thead>\n",
       "    <tr style=\"text-align: right;\">\n",
       "      <th></th>\n",
       "      <th>age</th>\n",
       "      <th>gender</th>\n",
       "      <th>height</th>\n",
       "      <th>name</th>\n",
       "    </tr>\n",
       "  </thead>\n",
       "  <tbody>\n",
       "    <tr>\n",
       "      <th>1</th>\n",
       "      <td>26</td>\n",
       "      <td>Male</td>\n",
       "      <td>177</td>\n",
       "      <td>Tommy</td>\n",
       "    </tr>\n",
       "    <tr>\n",
       "      <th>2</th>\n",
       "      <td>23</td>\n",
       "      <td>Male</td>\n",
       "      <td>154</td>\n",
       "      <td>Mike</td>\n",
       "    </tr>\n",
       "    <tr>\n",
       "      <th>3</th>\n",
       "      <td>28</td>\n",
       "      <td>Male</td>\n",
       "      <td>168</td>\n",
       "      <td>Steven</td>\n",
       "    </tr>\n",
       "  </tbody>\n",
       "</table>\n",
       "</div>"
      ],
      "text/plain": [
       "   age gender  height    name\n",
       "1   26   Male     177   Tommy\n",
       "2   23   Male     154    Mike\n",
       "3   28   Male     168  Steven"
      ]
     },
     "execution_count": 5,
     "metadata": {},
     "output_type": "execute_result"
    }
   ],
   "source": [
    "# code for Ex.3.3\n",
    "\n",
    "df_male = df[df.gender=='Male']\n",
    "df_male"
   ]
  },
  {
   "cell_type": "markdown",
   "metadata": {},
   "source": [
    "#### Ex.3.4 Check the average age and average height of these six students"
   ]
  },
  {
   "cell_type": "code",
   "execution_count": 6,
   "metadata": {
    "ExecuteTime": {
     "end_time": "2019-08-08T01:22:44.434987Z",
     "start_time": "2019-08-08T01:22:44.425952Z"
    }
   },
   "outputs": [
    {
     "data": {
      "text/plain": [
       "age        24.333333\n",
       "height    164.666667\n",
       "dtype: float64"
      ]
     },
     "execution_count": 6,
     "metadata": {},
     "output_type": "execute_result"
    }
   ],
   "source": [
    "# code for Ex.3.4\n",
    "\n",
    "df.mean()"
   ]
  },
  {
   "cell_type": "markdown",
   "metadata": {},
   "source": [
    "#### Ex.3.5 Is there any relationship between height and age?"
   ]
  },
  {
   "cell_type": "code",
   "execution_count": 7,
   "metadata": {
    "ExecuteTime": {
     "end_time": "2019-08-08T01:22:44.445811Z",
     "start_time": "2019-08-08T01:22:44.437049Z"
    }
   },
   "outputs": [
    {
     "data": {
      "text/html": [
       "<div>\n",
       "<style scoped>\n",
       "    .dataframe tbody tr th:only-of-type {\n",
       "        vertical-align: middle;\n",
       "    }\n",
       "\n",
       "    .dataframe tbody tr th {\n",
       "        vertical-align: top;\n",
       "    }\n",
       "\n",
       "    .dataframe thead th {\n",
       "        text-align: right;\n",
       "    }\n",
       "</style>\n",
       "<table border=\"1\" class=\"dataframe\">\n",
       "  <thead>\n",
       "    <tr style=\"text-align: right;\">\n",
       "      <th></th>\n",
       "      <th>age</th>\n",
       "      <th>height</th>\n",
       "    </tr>\n",
       "  </thead>\n",
       "  <tbody>\n",
       "    <tr>\n",
       "      <th>age</th>\n",
       "      <td>1.000000</td>\n",
       "      <td>0.488935</td>\n",
       "    </tr>\n",
       "    <tr>\n",
       "      <th>height</th>\n",
       "      <td>0.488935</td>\n",
       "      <td>1.000000</td>\n",
       "    </tr>\n",
       "  </tbody>\n",
       "</table>\n",
       "</div>"
      ],
      "text/plain": [
       "             age    height\n",
       "age     1.000000  0.488935\n",
       "height  0.488935  1.000000"
      ]
     },
     "execution_count": 7,
     "metadata": {},
     "output_type": "execute_result"
    }
   ],
   "source": [
    "# code for Ex.3.5\n",
    "\n",
    "df.corr()"
   ]
  }
 ],
 "metadata": {
  "kernelspec": {
   "display_name": "pytorch3.7",
   "language": "python",
   "name": "pytorch"
  },
  "language_info": {
   "codemirror_mode": {
    "name": "ipython",
    "version": 3
   },
   "file_extension": ".py",
   "mimetype": "text/x-python",
   "name": "python",
   "nbconvert_exporter": "python",
   "pygments_lexer": "ipython3",
   "version": "3.7.3"
  },
  "toc": {
   "base_numbering": 1,
   "nav_menu": {},
   "number_sections": true,
   "sideBar": true,
   "skip_h1_title": false,
   "title_cell": "Table of Contents",
   "title_sidebar": "Contents",
   "toc_cell": false,
   "toc_position": {},
   "toc_section_display": true,
   "toc_window_display": false
  }
 },
 "nbformat": 4,
 "nbformat_minor": 1
}
