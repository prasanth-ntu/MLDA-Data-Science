{
 "cells": [
  {
   "cell_type": "markdown",
   "metadata": {},
   "source": [
    "# Week 5 - Mini-Project"
   ]
  },
  {
   "cell_type": "markdown",
   "metadata": {},
   "source": [
    "## <font color='#1A9FFF'>Case study: IMDB Movie Dataset</font>\n",
    "\n",
    "The data of this dataset comes from the Top 100 Movies List of All Time in IMDb. Movies recorded in this dataset are in this decade (between 2010-2016). There are 118 movies included in this dataset, and each movie entry bears 54 attributes. Most of the attributes are related to the rating. The goal of this dataset is to help us understand the success of movies with high rating.\n",
    "\n",
    "**Data dictionary**\n",
    "\n",
    "|# | Attribute   |   Description                                                                     |\n",
    "|::|:------------|:----------------------------------------------------------------------------------|\n",
    "|0 |Title        | Name of the movies with the year of release in the brackets.                      |\n",
    "|1 |Rating       | Total average rating of the movie on IMDb.                                        |\n",
    "|2 |TotalVotes   | Total number of votes given to the movie.                                         |\n",
    "|3 |Genre1       | Genre attributed to the movie. A lot of movies have just one or two genres.       |\n",
    "|4 |Genre2       | Second genre attributed to a movie.                                               |\n",
    "|5 |Genre3       | Third genre attributed to a movie.                                                |\n",
    "|6 |MetaCritic   | Metacritic score.                                                                 |\n",
    "|7 |Budget       | Budget of the movie as per IMDB, data on some of the movies is wrong or is in a different currency <br> (GBP, EUR etc), this needs to be cleaned before analysing.                                      |\n",
    "|8 |Runtime      | Duration of the movie. (min)                                                      |\n",
    "|9 |Cvotes10     | Number of votes rating the movie 10 stars.                                        |\n",
    "|10|Cvotes09     | Number of votes rating the movie 9 stars.                                         |\n",
    "|11|Cvotes08     | Number of votes rating the movie 8 stars.                                         |\n",
    "|12|Cvotes07     | Number of votes rating the movie 7 stars.                                         |\n",
    "|13|Cvotes06     | Number of votes rating the movie 6 stars.                                         |\n",
    "|14|Cvotes05     | Number of votes rating the movie 5 stars.                                         |\n",
    "|15|Cvotes04     | Number of votes rating the movie 4 stars.                                         |\n",
    "|16|Cvotes03     | Number of votes rating the movie 3 stars.                                         | \n",
    "|17|Cvotes02     | Number of votes rating the movie 2 stars.                                         | \n",
    "|18|Cvotes01     | Number of votes rating the movie 1 stars.                                         |\n",
    "|19|CvotesMale   | Total number of male voters.                                                      |   \n",
    "|20|CvotesFemale | Total number of female voters.                                                    |\n",
    "|21|CvotesU18    | Number of votes by people aged under 18.                                          |\n",
    "|22|CvotesU18M   | Number of votes by male voters aged under 18.                                     |\n",
    "|23|CvotesU18F   | Number of votes by female voters aged under 18.                                   |\n",
    "|24|Cvotes1829   | Number of votes by voters between ages 18 and 29, inclusive of both years.        |\n",
    "|25|Cvotes1829M  | Number of votes by male voters between ages 18 and 29, inclusive of both years.   |\n",
    "|26|Cvotes1829F  | Number of votes by female voters between ages 18 and 29, inclusive of both years. |\n",
    "|27|Cvotes3044   | Number of votes by voters between ages 30 and 44, inclusive of both years.        |\n",
    "|28|Cvotes3044M  | Number of votes by male voters between ages 30 and 44, inclusive of both years.   |\n",
    "|29|Cvotes3044F  | Number of votes by female voters between ages 30 and 44, inclusive of both years. |\n",
    "|30|Cvotes45A    | Number of votes by voters aged 45 and above.                                      |\n",
    "|31|Cvotes45AM   | Number of votes by male voters aged 45 and above.                                 | \n",
    "|32|Cvotes45AF   | Number of votes by female voters aged 45 and above.                               |  \n",
    "|33|Cvotes1000   | Total count of votes by top 1000 users of IMDb.                                   |\n",
    "|34|CvotesUS     | Total count of votes by US based users.                                           | \n",
    "|35|CvotesnUS    | Total count of votes by viewers based outside US.                                 |\n",
    "|36|VotesM       | Average rating by male users.                                                     |\n",
    "|37|VotesF       | Average rating by female users.                                                   | \n",
    "|38|VotesU18     | Average rating by users under 18 years of age.                                    |\n",
    "|39|VotesU18M    | Average rating by male users under 18 years of age.                               | \n",
    "|40|VotesU18F    | Average rating by female users under 18 years of age.                             |\n",
    "|41|Votes1829    | Average rating by users between ages 18 and 29.                                   |\n",
    "|42|Votes1829M   | Average rating by male users between ages 18 and 29.                              | \n",
    "|43|Votes1829F   | Average rating by female users between ages 18 and 29.                            |\n",
    "|44|Votes3044    | Average rating by users between ages 30 and 44.                                   |\n",
    "|45|Votes3044M   | Average rating by male users between ages 30 and 44.                              | \n",
    "|46|Votes3044F   | Average rating by female users between ages 30 and 44.                            |\n",
    "|47|Votes45A     | Average rating by users age 45 and above.                                         | \n",
    "|48|Votes45AM    | Average rating by male users age 45 and above.                                    | \n",
    "|49|Votes45AF    | Average rating by female users age 45 and above.                                  |\n",
    "|50|VotesIMDB    | Average rating of IMDb staff.                                                     | \n",
    "|51|Votes1000    | Average rating of IMDb's top 1000 users.                                          |\n",
    "|52|VotesUS      | Average rating of U.S. based users.                                               |\n",
    "|53|VotesnUS     | Average rating of users based outside the U.S.                                    |\n",
    "\n",
    "\n",
    "**The project aims to:**\n",
    "\n",
    "* What are the characteristics of top movies?\n",
    "* Are there any trend of top movies, for example, genre, budget, targeted age group or gender?"
   ]
  },
  {
   "cell_type": "markdown",
   "metadata": {},
   "source": [
    "## <font color='#1A9FFF'>Sample Solution</font>"
   ]
  },
  {
   "cell_type": "markdown",
   "metadata": {},
   "source": [
    "#### Import Libraries and Dataset"
   ]
  },
  {
   "cell_type": "code",
   "execution_count": null,
   "metadata": {
    "collapsed": true
   },
   "outputs": [],
   "source": [
    "import numpy  as np\n",
    "import pandas as pd              # import pandas for data wrangling\n",
    "import matplotlib.pyplot as plt  # import matplotlib for ploting\n",
    "%matplotlib inline\n",
    "\n",
    "data = pd.read_csv('IMDB.csv',encoding = \"latin\")   # read data"
   ]
  },
  {
   "cell_type": "markdown",
   "metadata": {},
   "source": [
    "###  <font color='#1A9FFF'>1. Brief Summary of Dataset</font>\n",
    "After reading in the data, we first do some simple exploration, check available columns, data structure, and data summary."
   ]
  },
  {
   "cell_type": "markdown",
   "metadata": {},
   "source": [
    "#### Check the size of the dataset"
   ]
  },
  {
   "cell_type": "code",
   "execution_count": null,
   "metadata": {},
   "outputs": [],
   "source": [
    "# Check the size of the IMDB dataset\n"
   ]
  },
  {
   "cell_type": "markdown",
   "metadata": {},
   "source": [
    "As we can see, there are `118` movies recored in this dataset, and each movie has `54` attributes"
   ]
  },
  {
   "cell_type": "markdown",
   "metadata": {},
   "source": [
    "#### Check the data structure "
   ]
  },
  {
   "cell_type": "code",
   "execution_count": null,
   "metadata": {},
   "outputs": [],
   "source": [
    "# Check the data structure (use .info())\n"
   ]
  },
  {
   "cell_type": "markdown",
   "metadata": {},
   "source": [
    "#### Check main attributes"
   ]
  },
  {
   "cell_type": "code",
   "execution_count": null,
   "metadata": {},
   "outputs": [],
   "source": [
    "# Check the main attributes of the first 10 movies\n",
    "# the main attributes are \"Title\"(0), Rating\"(1), \"TotalVotes\"(2), \"Genre1\"(3), \"MetaCritic\"(6), \"Budget\"(7), \"Runtime\"(8)\n"
   ]
  },
  {
   "cell_type": "markdown",
   "metadata": {},
   "source": [
    "#### Brief Summary"
   ]
  },
  {
   "cell_type": "code",
   "execution_count": null,
   "metadata": {},
   "outputs": [],
   "source": [
    "# Briefly summarize the statistical distribution of main attributes (use .describe())\n"
   ]
  },
  {
   "cell_type": "markdown",
   "metadata": {},
   "source": [
    "###  <font color='#1A9FFF'>2. Check the Data</font>\n",
    "Check the data to see whether there is any wrong data in the dataset."
   ]
  },
  {
   "cell_type": "markdown",
   "metadata": {},
   "source": [
    "#### Unique Budget"
   ]
  },
  {
   "cell_type": "code",
   "execution_count": null,
   "metadata": {},
   "outputs": [],
   "source": [
    "# As we can see from the Brief Summary, the minimum budget in the movie list is 804, which is unusual. \n",
    "# We therefore check the budget first. Let's take a look of the unque budget. (use .unique())\n"
   ]
  },
  {
   "cell_type": "code",
   "execution_count": null,
   "metadata": {},
   "outputs": [],
   "source": [
    "# Check the movies with budget lower than 10,000\n"
   ]
  },
  {
   "cell_type": "code",
   "execution_count": null,
   "metadata": {
    "collapsed": true
   },
   "outputs": [],
   "source": [
    "# Remove the movies with budget lower than 10,000\n"
   ]
  },
  {
   "cell_type": "markdown",
   "metadata": {},
   "source": [
    "###  <font color='#1A9FFF'>3. Data Observation</font>"
   ]
  },
  {
   "cell_type": "markdown",
   "metadata": {},
   "source": [
    "#### Genre Summary"
   ]
  },
  {
   "cell_type": "code",
   "execution_count": null,
   "metadata": {},
   "outputs": [],
   "source": [
    "# find number of movies in each genre\n"
   ]
  },
  {
   "cell_type": "markdown",
   "metadata": {},
   "source": [
    "#### Rating Distribution"
   ]
  },
  {
   "cell_type": "code",
   "execution_count": null,
   "metadata": {
    "raw_mimetype": "text/x-python"
   },
   "outputs": [],
   "source": [
    "# plot histogram showing rate distribution\n"
   ]
  },
  {
   "cell_type": "markdown",
   "metadata": {},
   "source": [
    "#### Budget Distribution"
   ]
  },
  {
   "cell_type": "code",
   "execution_count": null,
   "metadata": {},
   "outputs": [],
   "source": [
    "# plot histogram showing budget distribution\n"
   ]
  },
  {
   "cell_type": "markdown",
   "metadata": {},
   "source": [
    "#### Runtime Distribution"
   ]
  },
  {
   "cell_type": "code",
   "execution_count": null,
   "metadata": {},
   "outputs": [],
   "source": [
    "# plot histogram showing runtime distribution\n"
   ]
  },
  {
   "cell_type": "markdown",
   "metadata": {},
   "source": [
    "###  <font color='#1A9FFF'>4. Exploratory Data Analysis</font>"
   ]
  },
  {
   "cell_type": "markdown",
   "metadata": {},
   "source": [
    "#### Quantify Rating\n",
    "\n",
    "Separate rating into 3 groups, HighRate, MidRate, and LowRate."
   ]
  },
  {
   "cell_type": "code",
   "execution_count": null,
   "metadata": {},
   "outputs": [],
   "source": [
    "# define rating ranges\n",
    "rating_cut = pd.cut(data['Rating'], [7.0, 7.66, 8.33, 9.0])\n",
    "\n",
    "# groupby pre-defined rating ranges (HighRate, MidRate, LowRate), and check size of each group\n"
   ]
  },
  {
   "cell_type": "markdown",
   "metadata": {},
   "source": [
    "#### Rating - Budget relationship exploration"
   ]
  },
  {
   "cell_type": "code",
   "execution_count": null,
   "metadata": {},
   "outputs": [],
   "source": [
    "# average budget in each of the 3 rating group\n"
   ]
  },
  {
   "cell_type": "code",
   "execution_count": null,
   "metadata": {},
   "outputs": [],
   "source": [
    "# define budget ranges\n",
    "budget_cut = pd.cut(data['Budget'], list(np.linspace(10739, 250000000, num=6)))\n",
    "\n",
    "# average rating in each budget range\n"
   ]
  },
  {
   "cell_type": "markdown",
   "metadata": {},
   "source": [
    "#### Rating - Genre relationship exploration"
   ]
  },
  {
   "cell_type": "code",
   "execution_count": null,
   "metadata": {},
   "outputs": [],
   "source": [
    "# find the average rating in each genre\n"
   ]
  },
  {
   "cell_type": "code",
   "execution_count": null,
   "metadata": {},
   "outputs": [],
   "source": [
    "# check average voting number of each genre\n"
   ]
  },
  {
   "cell_type": "markdown",
   "metadata": {},
   "source": [
    "#### Rating - Gender relationship exploration"
   ]
  },
  {
   "cell_type": "code",
   "execution_count": null,
   "metadata": {},
   "outputs": [],
   "source": [
    "# average rating in each of the 3 rating group (seperate Male and Female)\n"
   ]
  },
  {
   "cell_type": "markdown",
   "metadata": {},
   "source": [
    "#### Genre - Gender relationship exploration"
   ]
  },
  {
   "cell_type": "code",
   "execution_count": null,
   "metadata": {},
   "outputs": [],
   "source": [
    "# explore the average rating in each genre group (seperate Male and Female)\n"
   ]
  },
  {
   "cell_type": "markdown",
   "metadata": {},
   "source": [
    "### Actionable Insights\n",
    "Record any insights you found to improve the rating of the movie during the exploratory data analysis.\n",
    "1. \n",
    "2. \n",
    "3. \n"
   ]
  },
  {
   "cell_type": "code",
   "execution_count": null,
   "metadata": {},
   "outputs": [],
   "source": []
  }
 ],
 "metadata": {
  "anaconda-cloud": {},
  "celltoolbar": "Raw Cell Format",
  "kernelspec": {
   "display_name": "Python 3",
   "language": "python",
   "name": "python3"
  },
  "language_info": {
   "codemirror_mode": {
    "name": "ipython",
    "version": 3
   },
   "file_extension": ".py",
   "mimetype": "text/x-python",
   "name": "python",
   "nbconvert_exporter": "python",
   "pygments_lexer": "ipython3",
   "version": "3.6.5"
  }
 },
 "nbformat": 4,
 "nbformat_minor": 2
}
