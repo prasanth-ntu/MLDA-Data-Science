{
 "cells": [
  {
   "cell_type": "markdown",
   "metadata": {},
   "source": [
    "# Week 5 - Mini-Project"
   ]
  },
  {
   "cell_type": "markdown",
   "metadata": {},
   "source": [
    "## <font color='#1A9FFF'>Case study: Student Grade</font>\n",
    "\n",
    "This dataset is a survey obtained of students math and portuguese language courses in secondary school. It contains a lot of interesting social, gender and study information about students. From this dataset, we can find some relationship of certain information with their final grades.\n",
    "\n",
    "**Data dictionary**\n",
    "\n",
    "|# | Attribute   |   Description                                                                     |\n",
    "|::|:------------|:----------------------------------------------------------------------------------|\n",
    "|0 |school       | student's school (binary: 'GP' - Gabriel Pereira or 'MS' - Mousinho da Silveira)  |\n",
    "|1 |sex          | student's sex (binary: 'F' - female or 'M' - male)                                |\n",
    "|2 |age          | student's age (numeric: from 15 to 22)                                            |\n",
    "|3 |address      | student's home address type (binary: 'U' - urban or 'R' - rural)                  |\n",
    "|4 |famsize      | family size (binary: 'LE3' - less or equal to 3 or 'GT3' - greater than 3)        |\n",
    "|5 |Pstatus      | parent's cohabitation status (binary: 'T' - living together or 'A' - apart)       |\n",
    "|6 |Medu         | mother's education (numeric: 0 - none, 1 - primary education (4th grade), 2 – 5th to 9th grade, 3 –<br> secondary education or 4 – higher education)                                                   |\n",
    "|7 |Fedu         | father's education (numeric: 0 - none, 1 - primary education (4th grade), 2 – 5th to 9th grade, 3 <br>– secondary education or 4 – higher education)                                                   |\n",
    "|8 |Mjob         | mother's job (nominal: 'teacher', 'health' care related, civil 'services' (e.g. administrative or<br> police), 'at_home' or 'other')                                                                |\n",
    "|9 |Fjob         | father's job (nominal: 'teacher', 'health' care related, civil 'services' (e.g. administrative or<br> police), 'at_home' or 'other')                                                                |\n",
    "|10|reason       | reason to choose this school (nominal: close to 'home', school 'reputation', 'course' preference<br> or 'other')                                                                                          |\n",
    "|11|guardian     | student's guardian (nominal: 'mother', 'father' or 'other')                       |\n",
    "|12|traveltime   | home to school travel time (numeric: 1 - <15 min., 2 - 15 to 30 min., 3 - 30 min. to 1 hour, or 4 <br>- >1 hour)                                                                                       |\n",
    "|13|studytime    | weekly study time (numeric: 1 - <2 hours, 2 - 2 to 5 hours, 3 - 5 to 10 hours, or 4 - >10 hours)|\n",
    "|14|failures     | number of past class failures (numeric: n if 1<=n<3, else 4)                      |\n",
    "|15|schoolsup    | extra educational support (binary: yes or no)                                     |\n",
    "|16|famsup       | family educational support (binary: yes or no)                                    | \n",
    "|17|paid         | extra paid classes within the course subject (Math or Portuguese) (binary: yes or no)| \n",
    "|18|activities   | extra-curricular activities (binary: yes or no)                                   |\n",
    "|19|nursery      | attended nursery school (binary: yes or no)                                       |   \n",
    "|20|higher       | wants to take higher education (binary: yes or no)                                |\n",
    "|21|internet     | Internet access at home (binary: yes or no)                                       |\n",
    "|22|romantic     | with a romantic relationship (binary: yes or no)                                  |\n",
    "|23|famrel       | quality of family relationships (numeric: from 1 - very bad to 5 - excellent)     |\n",
    "|24|freetime     | free time after school (numeric: from 1 - very low to 5 - very high)              |\n",
    "|25|goout        | going out with friends (numeric: from 1 - very low to 5 - very high)              |\n",
    "|26|Dalc         | workday alcohol consumption (numeric: from 1 - very low to 5 - very high)         |\n",
    "|27|Walc         | weekend alcohol consumption (numeric: from 1 - very low to 5 - very high)         |\n",
    "|28|health       | current health status (numeric: from 1 - very bad to 5 - very good)               |\n",
    "|29|absences     | number of school absences (numeric: from 0 to 93)                                 |\n",
    "\n",
    "\n",
    "These grades are related with the course subject, Math or Portuguese:\n",
    "1.\tG1 - first period grade (numeric: from 0 to 20)\n",
    "2.\tG2 - second period grade (numeric: from 0 to 20)\n",
    "3.\tG3 - final grade (numeric: from 0 to 20, output target)\n",
    "\n",
    "\n",
    "**The project aims to:**\n",
    "* Analyse the grade distribution for Math and Portuguese courses in this secondary school\n",
    "* Analyse and point out the different factors that may have affected the final grade (G3) of student for Math course"
   ]
  },
  {
   "cell_type": "markdown",
   "metadata": {},
   "source": [
    "## <font color='#1A9FFF'>Sample Solution</font>\n",
    "#### Import Libraries and Dataset"
   ]
  },
  {
   "cell_type": "code",
   "execution_count": null,
   "metadata": {
    "collapsed": true
   },
   "outputs": [],
   "source": [
    "import numpy  as np\n",
    "import pandas as pd              # import pandas for data wrangling\n",
    "import matplotlib.pyplot as plt  # import matplotlib for ploting\n",
    "%matplotlib inline\n",
    "\n",
    "\n",
    "# read data for math courses\n",
    "mat_score = pd.read_csv('Student Grade/student-mat.csv')   # read data\n",
    "\n",
    "# read data for Portuguese courses\n",
    "por_score = pd.read_csv('Student Grade/student-por.csv')   # read data"
   ]
  },
  {
   "cell_type": "markdown",
   "metadata": {},
   "source": [
    "###  <font color='#1A9FFF'>1. Brief Summary of Dataset</font>\n",
    "After reading in the data, we first do some simple exploration, check available columns, data structure, and data summary.\n",
    "\n",
    "#### Check the size of the dataset"
   ]
  },
  {
   "cell_type": "code",
   "execution_count": null,
   "metadata": {},
   "outputs": [],
   "source": [
    "# Check the size of the two datasets\n"
   ]
  },
  {
   "cell_type": "markdown",
   "metadata": {},
   "source": [
    "As we can see, there are `395` and `649` students recored in these two datasets, and each student has `33` attributes"
   ]
  },
  {
   "cell_type": "markdown",
   "metadata": {},
   "source": [
    "#### Check the data structure "
   ]
  },
  {
   "cell_type": "code",
   "execution_count": null,
   "metadata": {},
   "outputs": [],
   "source": [
    "# Check the data structure (use .info())\n"
   ]
  },
  {
   "cell_type": "markdown",
   "metadata": {},
   "source": [
    "#### Check main attributes"
   ]
  },
  {
   "cell_type": "code",
   "execution_count": null,
   "metadata": {},
   "outputs": [],
   "source": [
    "# Check the main attributes of the first 10 students\n",
    "# The main attribute are studytime(13), Dalc(26), Walc(27), health(28), absences(29), G1(30), G2(31), G3(32)\n"
   ]
  },
  {
   "cell_type": "markdown",
   "metadata": {},
   "source": [
    "#### Brief Summary"
   ]
  },
  {
   "cell_type": "code",
   "execution_count": null,
   "metadata": {},
   "outputs": [],
   "source": [
    "# Briefly summarize the distribution of main attributes (use .describe())\n",
    "# For Math\n",
    "\n",
    "\n"
   ]
  },
  {
   "cell_type": "code",
   "execution_count": null,
   "metadata": {},
   "outputs": [],
   "source": [
    "# For Portuguese\n"
   ]
  },
  {
   "cell_type": "markdown",
   "metadata": {},
   "source": [
    "###  <font color='#1A9FFF'>2. Check the Data</font>\n",
    "Check the data to see whether there is any wrong data in the dataset.\n",
    "\n",
    "As we can see from the Brief Summary, the data listed is in good shape. Therefore we do not perform any data checking here."
   ]
  },
  {
   "cell_type": "markdown",
   "metadata": {},
   "source": [
    "###  <font color='#1A9FFF'>3. Data Observation</font>\n",
    "#### Grade Distribution"
   ]
  },
  {
   "cell_type": "code",
   "execution_count": null,
   "metadata": {},
   "outputs": [],
   "source": [
    "# Analyse the grade distribution for math and portuguese by using a histogram graph of the average of the 3 grades\n"
   ]
  },
  {
   "cell_type": "code",
   "execution_count": null,
   "metadata": {},
   "outputs": [],
   "source": [
    "# Check if the grade distribution between different grade period is same or not, using histogram.\n",
    "\n",
    "# Histogram of G1 G2 & G3 for Math course\n"
   ]
  },
  {
   "cell_type": "code",
   "execution_count": null,
   "metadata": {},
   "outputs": [],
   "source": [
    "# Histogram of G1 G2 & G3 for Portuguese course\n"
   ]
  },
  {
   "cell_type": "markdown",
   "metadata": {},
   "source": [
    "###  <font color='#1A9FFF'>4. Exploratory Data Analysis</font>\n",
    "(We only analyze math grades for now.)\n",
    "#### Grade - School relationship\n",
    "Check the relationship between Math Grade ( the third period, namely `G3`) and School"
   ]
  },
  {
   "cell_type": "code",
   "execution_count": null,
   "metadata": {},
   "outputs": [],
   "source": [
    "# Plot boxplot showing G3 grade, group the student by school (using .boxplot() function in pandas)\n"
   ]
  },
  {
   "cell_type": "markdown",
   "metadata": {},
   "source": [
    "Check the relationship between Math Grade ( the third period, namely `G3`) and School as well as Sex "
   ]
  },
  {
   "cell_type": "code",
   "execution_count": null,
   "metadata": {},
   "outputs": [],
   "source": [
    "# Plot boxplot showing G3 grade, group the student by school and sex\n"
   ]
  },
  {
   "cell_type": "markdown",
   "metadata": {},
   "source": [
    "#### Grade - Internet\n",
    "\n",
    "Seperate the students in three grade levels ( Fail, Pass, Good ), and check the relationship between grade and internet."
   ]
  },
  {
   "cell_type": "code",
   "execution_count": null,
   "metadata": {},
   "outputs": [],
   "source": [
    "# Seperate the grade into 3 levels Fail(0<x<10), Pass(10<=x<14), Good(14<=x<=20) \n",
    "grade_cut = pd.cut(mat_score['G3'], [-1, 9.9, 13.9, 20])\n",
    "\n",
    "# check the relationship between grade and internet by using pivot_table \n",
    "mat_score['count'] = 1\n",
    "mat_score.pivot_table('count', index='internet', columns=grade_cut, aggfunc=np.sum)"
   ]
  },
  {
   "cell_type": "code",
   "execution_count": null,
   "metadata": {},
   "outputs": [],
   "source": [
    "# Plot boxplot showing G3 grade, group the student by internet\n"
   ]
  },
  {
   "cell_type": "markdown",
   "metadata": {},
   "source": [
    "#### Grade - Romantic\n",
    "\n",
    "Seperate the students in three grade levels ( Fail, Pass, Good ), and check the relationship between grade and romantic."
   ]
  },
  {
   "cell_type": "code",
   "execution_count": null,
   "metadata": {},
   "outputs": [],
   "source": [
    "# check the relationship between grade and romantic by using pivot_table \n"
   ]
  },
  {
   "cell_type": "code",
   "execution_count": null,
   "metadata": {},
   "outputs": [],
   "source": [
    "# Plot boxplot showing G3 grade, group the student by romantic\n"
   ]
  },
  {
   "cell_type": "markdown",
   "metadata": {},
   "source": [
    "#### Grade - Activities\n",
    "\n",
    "Seperate the students in three grade levels ( Fail, Pass, Good ), and check the relationship between grade and activities."
   ]
  },
  {
   "cell_type": "code",
   "execution_count": null,
   "metadata": {},
   "outputs": [],
   "source": [
    "# check the relationship between grade and activities by using pivot_table \n",
    "table_ga = mat_score.pivot_table('count', index='activities', columns=grade_cut, aggfunc=np.sum)\n",
    "table_ga"
   ]
  },
  {
   "cell_type": "code",
   "execution_count": null,
   "metadata": {},
   "outputs": [],
   "source": [
    "table_ga.plot.bar()"
   ]
  },
  {
   "cell_type": "code",
   "execution_count": null,
   "metadata": {},
   "outputs": [],
   "source": [
    "# Draw bar plot with normalized values (probabilities) in each category to show the relationship\n",
    "tga = table_ga.unstack(level=0)\n",
    "print (tga, '\\n\\n')\n",
    "\n",
    "# number of students in each grade group\n",
    "tot_ga = np.sum(table_ga, axis=1)*1.0\n",
    "print (tot_ga)\n",
    "\n",
    "# bar plot of normalized distribution for students attending activities\n",
    "plt.bar([2, 5, 8], [tga.iloc[1]/tot_ga[1], tga.iloc[3]/tot_ga[1], tga.iloc[5]/tot_ga[1]], color='blue',  alpha=0.7);\n",
    "# bar plot of normalized distribution for students not attending activities\n",
    "plt.bar([1, 4, 7], [tga.iloc[0]/tot_ga[0], tga.iloc[2]/tot_ga[0], tga.iloc[4]/tot_ga[0]], color='green', alpha=0.7);\n",
    "\n",
    "plt.legend(['Yes', 'No']);\n",
    "plt.xticks([1.5, 4.5, 7.5], ['Fail','Pass', 'Good'], size='medium');\n",
    "plt.title('Attending Activities or Not')"
   ]
  },
  {
   "cell_type": "code",
   "execution_count": null,
   "metadata": {},
   "outputs": [],
   "source": [
    "# Plot boxplot showing G3 grade, group the student by activities\n"
   ]
  },
  {
   "cell_type": "markdown",
   "metadata": {},
   "source": [
    "#### Grade - Nursery\n",
    "\n",
    "Seperate the students in three grade levels ( Fail, Pass, Good ), and check the relationship between grade and nursery."
   ]
  },
  {
   "cell_type": "code",
   "execution_count": null,
   "metadata": {},
   "outputs": [],
   "source": [
    "# check the relationship between grade and activities by using pivot_table \n"
   ]
  },
  {
   "cell_type": "code",
   "execution_count": null,
   "metadata": {},
   "outputs": [],
   "source": [
    "# Draw bar plot with normalized values (probabilities) in each category to show the relationship\n"
   ]
  },
  {
   "cell_type": "markdown",
   "metadata": {},
   "source": [
    "#### Grade - Educational Support\n",
    "\n",
    "Seperate the students in three grade levels ( Fail, Pass, Good ), and check the relationship between grade and educational support from family and school."
   ]
  },
  {
   "cell_type": "code",
   "execution_count": null,
   "metadata": {},
   "outputs": [],
   "source": [
    "# check the relationship between grade and family educational support by using pivot_table \n"
   ]
  },
  {
   "cell_type": "code",
   "execution_count": null,
   "metadata": {},
   "outputs": [],
   "source": [
    "# Draw bar plot with normalized values (probabilities) in each category to show the relationship\n"
   ]
  },
  {
   "cell_type": "code",
   "execution_count": null,
   "metadata": {},
   "outputs": [],
   "source": [
    "# check the relationship between grade and school educational support by using pivot_table \n"
   ]
  },
  {
   "cell_type": "code",
   "execution_count": null,
   "metadata": {},
   "outputs": [],
   "source": [
    "# Draw bar plot with normalized values (probabilities) in each category to show the relationship\n"
   ]
  },
  {
   "cell_type": "markdown",
   "metadata": {},
   "source": [
    "#### Grade - Health"
   ]
  },
  {
   "cell_type": "code",
   "execution_count": null,
   "metadata": {},
   "outputs": [],
   "source": [
    "# check the relationship between grade and family educational support by using pivot_table \n"
   ]
  },
  {
   "cell_type": "code",
   "execution_count": null,
   "metadata": {},
   "outputs": [],
   "source": [
    "# Draw bar plot with normalized values (probabilities) in each category to show the relationship\n"
   ]
  },
  {
   "cell_type": "markdown",
   "metadata": {},
   "source": [
    "#### Grade - Absence\n",
    "\n",
    "Seperate the grade of student into 21 levels, and check the relationship between grade and absense."
   ]
  },
  {
   "cell_type": "code",
   "execution_count": null,
   "metadata": {},
   "outputs": [],
   "source": [
    "# Seperate the grade into 21 levels\n",
    "grade_cut = pd.cut(mat_score['G3'], np.linspace(-0.5,20.5,22))\n",
    "\n",
    "# line plot of the average absences with in each grade level w.r.t grade level.\n"
   ]
  },
  {
   "cell_type": "markdown",
   "metadata": {},
   "source": [
    "#### Grade - Go Out with Friends\n",
    "\n",
    "Seperate the grade of student into 3 levels ( Fail, Pass, Good ), and check the relationship between grade and \"go out\"."
   ]
  },
  {
   "cell_type": "code",
   "execution_count": null,
   "metadata": {},
   "outputs": [],
   "source": [
    "# Seperate the grade into 3 levels Fail(0<x<10), Pass(10<=x<14), Good(14<=x<=20) \n",
    "grade_cut = pd.cut(mat_score['G3'], [-1, 9.9, 13.9, 20])\n",
    "mat_score['count'] = 1\n",
    "\n",
    "# check the relationship between grade and family educational support by using pivot_table \n",
    "\n",
    "\n",
    "# Draw bar plot with normalized values (probabilities) in each category to show the relationship\n",
    "\n"
   ]
  },
  {
   "cell_type": "markdown",
   "metadata": {},
   "source": [
    "#### Grade - Family Relationship\n",
    "\n",
    "Seperate the grade of student into 3 levels ( Fail, Pass, Good ), and check the relation between grade and family relationship."
   ]
  },
  {
   "cell_type": "code",
   "execution_count": null,
   "metadata": {},
   "outputs": [],
   "source": [
    "# Seperate the grade into 3 levels Fail(0<x<10), Pass(10<=x<14), Good(14<=x<=20) \n",
    "grade_cut = pd.cut(mat_score['G3'], [-1, 9.9, 13.9, 20])\n",
    "mat_score['count'] = 1\n",
    "\n",
    "\n",
    "# check the relationship between grade and family educational support by using pivot_table \n",
    "\n",
    "\n",
    "# Draw bar plot with normalized values (probabilities) in each category to show the relationship\n",
    "\n"
   ]
  },
  {
   "cell_type": "markdown",
   "metadata": {},
   "source": [
    "#### Grade - Alcohol Consumption\n",
    "\n",
    "Seperate the grade of student into 3 levels ( Fail, Pass, Good ), and check the relation between grade and alcohol consumption."
   ]
  },
  {
   "cell_type": "code",
   "execution_count": null,
   "metadata": {},
   "outputs": [],
   "source": [
    "# Seperate the grade into 3 levels Fail(0<x<10), Pass(10<=x<14), Good(14<=x<=20) \n",
    "grade_cut = pd.cut(mat_score['G3'], [-1, 9.9, 13.9, 20])\n",
    "mat_score['count'] = 1\n",
    "\n",
    "\n",
    "# check the relationship between grade and weekend alcohol consumption by using pivot_table \n",
    "\n",
    "\n",
    "\n",
    "# Draw bar plot with normalized values (probabilities) in each category to show the relationship\n",
    "\n"
   ]
  },
  {
   "cell_type": "code",
   "execution_count": null,
   "metadata": {},
   "outputs": [],
   "source": [
    "# Seperate the grade into 3 levels Fail(0<x<10), Pass(10<=x<14), Good(14<=x<=20) \n",
    "grade_cut = pd.cut(mat_score['G3'], [-1, 9.9, 13.9, 20])\n",
    "mat_score['count'] = 1\n",
    "\n",
    "\n",
    "# check the relationship between grade and weekday alcohol consumption by using pivot_table \n",
    "\n",
    "\n",
    "# Draw bar plot with normalized values (probabilities) in each category to show the relationship\n",
    "\n"
   ]
  },
  {
   "cell_type": "code",
   "execution_count": null,
   "metadata": {},
   "outputs": [],
   "source": [
    "# Seperate the grade into 3 levels Fail(0<x<10), Pass(10<=x<14), Good(14<=x<=20) \n",
    "grade_cut = pd.cut(mat_score['G3'], [-1, 9.9, 13.9, 20])\n",
    "mat_score['count'] = 1\n",
    "\n",
    "\n",
    "# check the relationship between grade and total alcohol consumption by using pivot_table \n",
    "\n",
    "\n",
    "# Draw bar plot with normalized values (probabilities) in each category to show the relationship\n",
    "\n"
   ]
  },
  {
   "cell_type": "markdown",
   "metadata": {},
   "source": [
    "#### Grade - Study Time\n",
    "\n",
    "Seperate the grade of student into 3 levels ( Fail, Pass, Good ), and check the relation between grade and study time."
   ]
  },
  {
   "cell_type": "code",
   "execution_count": null,
   "metadata": {},
   "outputs": [],
   "source": [
    "# Seperate the grade into 3 levels Fail(0<x<10), Pass(10<=x<14), Good(14<=x<=20) \n",
    "grade_cut = pd.cut(mat_score['G3'], [-1, 9.9, 13.9, 20])\n",
    "mat_score['count'] = 1\n",
    "\n",
    "\n",
    "# check the relationship between grade and studytime by using pivot_table \n",
    "\n",
    "\n",
    "# Draw bar plot with normalized values (probabilities) in each category to show the relationship\n"
   ]
  },
  {
   "cell_type": "markdown",
   "metadata": {},
   "source": [
    "#### Grade - Travel Time\n",
    "\n",
    "Seperate the grade of student into 3 levels ( Fail, Pass, Good ), and check the relation between grade and travel time."
   ]
  },
  {
   "cell_type": "code",
   "execution_count": null,
   "metadata": {},
   "outputs": [],
   "source": [
    "# Seperate the grade into 3 levels Fail(0<x<10), Pass(10<=x<14), Good(14<=x<=20) \n",
    "grade_cut = pd.cut(mat_score['G3'], [-1, 9.9, 13.9, 20])\n",
    "mat_score['count'] = 1\n",
    "\n",
    "\n",
    "# check the relationship between grade and travel time by using pivot_table \n",
    "\n",
    "\n",
    "# Draw bar plot with normalized values (probabilities) in each category to show the relationship\n",
    "\n"
   ]
  },
  {
   "cell_type": "markdown",
   "metadata": {},
   "source": [
    "### Actionable Insights\n",
    "Record any insights you found to improve student's grade during the exploratory data analysis.\n",
    "1. \n",
    "2. \n",
    "3. \n",
    "4. \n",
    "\n"
   ]
  }
 ],
 "metadata": {
  "anaconda-cloud": {},
  "celltoolbar": "Raw Cell Format",
  "kernelspec": {
   "display_name": "Python 3",
   "language": "python",
   "name": "python3"
  },
  "language_info": {
   "codemirror_mode": {
    "name": "ipython",
    "version": 3
   },
   "file_extension": ".py",
   "mimetype": "text/x-python",
   "name": "python",
   "nbconvert_exporter": "python",
   "pygments_lexer": "ipython3",
   "version": "3.6.5"
  }
 },
 "nbformat": 4,
 "nbformat_minor": 2
}
