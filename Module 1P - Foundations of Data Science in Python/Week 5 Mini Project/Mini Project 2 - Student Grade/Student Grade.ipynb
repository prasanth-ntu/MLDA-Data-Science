{
 "cells": [
  {
   "cell_type": "markdown",
   "metadata": {},
   "source": [
    "# Week 5 - Mini-Project"
   ]
  },
  {
   "cell_type": "markdown",
   "metadata": {},
   "source": [
    "## <font color='#1A9FFF'>Case study: Student Grade</font>\n",
    "\n",
    "This dataset is a survey obtained of students math and portuguese language courses in secondary school. It contains a lot of interesting social, gender and study information about students. From this dataset, we can find some relationship of certain information with their final grades.\n",
    "\n",
    "**Data dictionary**\n",
    "\n",
    "|# | Attribute   |   Description                                                                     |\n",
    "|::|:------------|:----------------------------------------------------------------------------------|\n",
    "|0 |school       | student's school (binary: 'GP' - Gabriel Pereira or 'MS' - Mousinho da Silveira)  |\n",
    "|1 |sex          | student's sex (binary: 'F' - female or 'M' - male)                                |\n",
    "|2 |age          | student's age (numeric: from 15 to 22)                                            |\n",
    "|3 |address      | student's home address type (binary: 'U' - urban or 'R' - rural)                  |\n",
    "|4 |famsize      | family size (binary: 'LE3' - less or equal to 3 or 'GT3' - greater than 3)        |\n",
    "|5 |Pstatus      | parent's cohabitation status (binary: 'T' - living together or 'A' - apart)       |\n",
    "|6 |Medu         | mother's education (numeric: 0 - none, 1 - primary education (4th grade), 2 – 5th to 9th grade, 3 –<br> secondary education or 4 – higher education)                                                   |\n",
    "|7 |Fedu         | father's education (numeric: 0 - none, 1 - primary education (4th grade), 2 – 5th to 9th grade, 3 <br>– secondary education or 4 – higher education)                                                   |\n",
    "|8 |Mjob         | mother's job (nominal: 'teacher', 'health' care related, civil 'services' (e.g. administrative or<br> police), 'at_home' or 'other')                                                                |\n",
    "|9 |Fjob         | father's job (nominal: 'teacher', 'health' care related, civil 'services' (e.g. administrative or<br> police), 'at_home' or 'other')                                                                |\n",
    "|10|reason       | reason to choose this school (nominal: close to 'home', school 'reputation', 'course' preference<br> or 'other')                                                                                          |\n",
    "|11|guardian     | student's guardian (nominal: 'mother', 'father' or 'other')                       |\n",
    "|12|traveltime   | home to school travel time (numeric: 1 - <15 min., 2 - 15 to 30 min., 3 - 30 min. to 1 hour, or 4 <br>- >1 hour)                                                                                       |\n",
    "|13|studytime    | weekly study time (numeric: 1 - <2 hours, 2 - 2 to 5 hours, 3 - 5 to 10 hours, or 4 - >10 hours)|\n",
    "|14|failures     | number of past class failures (numeric: n if 1<=n<3, else 4)                      |\n",
    "|15|schoolsup    | extra educational support (binary: yes or no)                                     |\n",
    "|16|famsup       | family educational support (binary: yes or no)                                    | \n",
    "|17|paid         | extra paid classes within the course subject (Math or Portuguese) (binary: yes or no)| \n",
    "|18|activities   | extra-curricular activities (binary: yes or no)                                   |\n",
    "|19|nursery      | attended nursery school (binary: yes or no)                                       |   \n",
    "|20|higher       | wants to take higher education (binary: yes or no)                                |\n",
    "|21|internet     | Internet access at home (binary: yes or no)                                       |\n",
    "|22|romantic     | with a romantic relationship (binary: yes or no)                                  |\n",
    "|23|famrel       | quality of family relationships (numeric: from 1 - very bad to 5 - excellent)     |\n",
    "|24|freetime     | free time after school (numeric: from 1 - very low to 5 - very high)              |\n",
    "|25|goout        | going out with friends (numeric: from 1 - very low to 5 - very high)              |\n",
    "|26|Dalc         | workday alcohol consumption (numeric: from 1 - very low to 5 - very high)         |\n",
    "|27|Walc         | weekend alcohol consumption (numeric: from 1 - very low to 5 - very high)         |\n",
    "|28|health       | current health status (numeric: from 1 - very bad to 5 - very good)               |\n",
    "|29|absences     | number of school absences (numeric: from 0 to 93)                                 |\n",
    "\n",
    "\n",
    "These grades are related with the course subject, Math or Portuguese:\n",
    "1.\tG1 - first period grade (numeric: from 0 to 20)\n",
    "2.\tG2 - second period grade (numeric: from 0 to 20)\n",
    "3.\tG3 - final grade (numeric: from 0 to 20, output target)\n",
    "\n",
    "\n",
    "**The project aims to:**\n",
    "* Analyse the grade distribution for Math and Portuguese courses in this secondary school\n",
    "* Analyse and point out the different factors that may have affected the final grade (G3) of student for Math course"
   ]
  },
  {
   "cell_type": "markdown",
   "metadata": {},
   "source": [
    "## <font color='#1A9FFF'>Sample Solution</font>\n",
    "#### Import Libraries and Dataset"
   ]
  },
  {
   "cell_type": "code",
   "execution_count": 1,
   "metadata": {
    "collapsed": true
   },
   "outputs": [],
   "source": [
    "import numpy  as np\n",
    "import pandas as pd              # import pandas for data wrangling\n",
    "import matplotlib.pyplot as plt  # import matplotlib for ploting\n",
    "%matplotlib inline\n",
    "\n",
    "\n",
    "# read data for math courses\n",
    "mat_score = pd.read_csv('Student Grade/student-mat.csv')   # read data\n",
    "\n",
    "# read data for Portuguese courses\n",
    "por_score = pd.read_csv('Student Grade/student-por.csv')   # read data"
   ]
  },
  {
   "cell_type": "markdown",
   "metadata": {},
   "source": [
    "###  <font color='#1A9FFF'>1. Brief Summary of Dataset</font>\n",
    "After reading in the data, we first do some simple exploration, check available columns, data structure, and data summary.\n",
    "\n",
    "#### Check the size of the dataset"
   ]
  },
  {
   "cell_type": "code",
   "execution_count": 2,
   "metadata": {},
   "outputs": [
    {
     "name": "stdout",
     "output_type": "stream",
     "text": [
      "The size of the Math dataset : (395, 33)\n",
      "The size of the Portuguese dataset : (649, 33)\n"
     ]
    }
   ],
   "source": [
    "# Check the size of the two datasets\n",
    "print (\"The size of the Math dataset :\",       mat_score.shape)\n",
    "print (\"The size of the Portuguese dataset :\", por_score.shape)"
   ]
  },
  {
   "cell_type": "markdown",
   "metadata": {},
   "source": [
    "As we can see, there are `395` and `649` students recored in these two datasets, and each student has `33` attributes"
   ]
  },
  {
   "cell_type": "markdown",
   "metadata": {},
   "source": [
    "#### Check the data structure "
   ]
  },
  {
   "cell_type": "code",
   "execution_count": 3,
   "metadata": {},
   "outputs": [
    {
     "name": "stdout",
     "output_type": "stream",
     "text": [
      "Data structure - Math :\n",
      "<class 'pandas.core.frame.DataFrame'>\n",
      "RangeIndex: 395 entries, 0 to 394\n",
      "Data columns (total 33 columns):\n",
      "school        395 non-null object\n",
      "sex           395 non-null object\n",
      "age           395 non-null int64\n",
      "address       395 non-null object\n",
      "famsize       395 non-null object\n",
      "Pstatus       395 non-null object\n",
      "Medu          395 non-null int64\n",
      "Fedu          395 non-null int64\n",
      "Mjob          395 non-null object\n",
      "Fjob          395 non-null object\n",
      "reason        395 non-null object\n",
      "guardian      395 non-null object\n",
      "traveltime    395 non-null int64\n",
      "studytime     395 non-null int64\n",
      "failures      395 non-null int64\n",
      "schoolsup     395 non-null object\n",
      "famsup        395 non-null object\n",
      "paid          395 non-null object\n",
      "activities    395 non-null object\n",
      "nursery       395 non-null object\n",
      "higher        395 non-null object\n",
      "internet      395 non-null object\n",
      "romantic      395 non-null object\n",
      "famrel        395 non-null int64\n",
      "freetime      395 non-null int64\n",
      "goout         395 non-null int64\n",
      "Dalc          395 non-null int64\n",
      "Walc          395 non-null int64\n",
      "health        395 non-null int64\n",
      "absences      395 non-null int64\n",
      "G1            395 non-null int64\n",
      "G2            395 non-null int64\n",
      "G3            395 non-null int64\n",
      "dtypes: int64(16), object(17)\n",
      "memory usage: 101.9+ KB\n",
      "\n",
      "\n",
      "\n",
      "Data structure - Portuguese :\n",
      "<class 'pandas.core.frame.DataFrame'>\n",
      "RangeIndex: 649 entries, 0 to 648\n",
      "Data columns (total 33 columns):\n",
      "school        649 non-null object\n",
      "sex           649 non-null object\n",
      "age           649 non-null int64\n",
      "address       649 non-null object\n",
      "famsize       649 non-null object\n",
      "Pstatus       649 non-null object\n",
      "Medu          649 non-null int64\n",
      "Fedu          649 non-null int64\n",
      "Mjob          649 non-null object\n",
      "Fjob          649 non-null object\n",
      "reason        649 non-null object\n",
      "guardian      649 non-null object\n",
      "traveltime    649 non-null int64\n",
      "studytime     649 non-null int64\n",
      "failures      649 non-null int64\n",
      "schoolsup     649 non-null object\n",
      "famsup        649 non-null object\n",
      "paid          649 non-null object\n",
      "activities    649 non-null object\n",
      "nursery       649 non-null object\n",
      "higher        649 non-null object\n",
      "internet      649 non-null object\n",
      "romantic      649 non-null object\n",
      "famrel        649 non-null int64\n",
      "freetime      649 non-null int64\n",
      "goout         649 non-null int64\n",
      "Dalc          649 non-null int64\n",
      "Walc          649 non-null int64\n",
      "health        649 non-null int64\n",
      "absences      649 non-null int64\n",
      "G1            649 non-null int64\n",
      "G2            649 non-null int64\n",
      "G3            649 non-null int64\n",
      "dtypes: int64(16), object(17)\n",
      "memory usage: 167.4+ KB\n"
     ]
    }
   ],
   "source": [
    "# Check the data structure (use .info())\n",
    "print (\"Data structure - Math :\")\n",
    "mat_score.info()\n",
    "print (\"\\n\\n\")\n",
    "print (\"Data structure - Portuguese :\")\n",
    "por_score.info()"
   ]
  },
  {
   "cell_type": "markdown",
   "metadata": {},
   "source": [
    "From the dataset check we can see that, there is no missing data in the involved datasets."
   ]
  },
  {
   "cell_type": "markdown",
   "metadata": {},
   "source": [
    "#### Check main attributes"
   ]
  },
  {
   "cell_type": "code",
   "execution_count": 4,
   "metadata": {},
   "outputs": [
    {
     "name": "stdout",
     "output_type": "stream",
     "text": [
      "Brief data check (Math):\n",
      "\n",
      "    studytime  Dalc  Walc  health  absences  G1  G2  G3\n",
      "0          2     1     1       3         6   5   6   6\n",
      "1          2     1     1       3         4   5   5   6\n",
      "2          2     2     3       3        10   7   8  10\n",
      "3          3     1     1       5         2  15  14  15\n",
      "4          2     1     2       5         4   6  10  10\n",
      "5          2     1     2       5        10  15  15  15\n",
      "6          2     1     1       3         0  12  12  11\n",
      "7          2     1     1       1         6   6   5   6\n",
      "8          2     1     1       1         0  16  18  19\n",
      "9          2     1     1       5         0  14  15  15\n",
      "\n",
      "\n",
      "\n",
      "Brief data check (Portuguese):\n",
      "\n",
      "    studytime  Dalc  Walc  health  absences  G1  G2  G3\n",
      "0          2     1     1       3         4   0  11  11\n",
      "1          2     1     1       3         2   9  11  11\n",
      "2          2     2     3       3         6  12  13  12\n",
      "3          3     1     1       5         0  14  14  14\n",
      "4          2     1     2       5         0  11  13  13\n",
      "5          2     1     2       5         6  12  12  13\n",
      "6          2     1     1       3         0  13  12  13\n",
      "7          2     1     1       1         2  10  13  13\n",
      "8          2     1     1       1         0  15  16  17\n",
      "9          2     1     1       5         0  12  12  13\n"
     ]
    }
   ],
   "source": [
    "# Check the main attributes of the first 10 students\n",
    "# The main attribute are studytime(13), Dalc(26), Walc(27), health(28), absences(29), G1(30), G2(31), G3(32)\n",
    "\n",
    "mat_score_head10 = mat_score.head(10)\n",
    "por_score_head10 = por_score.head(10)\n",
    "\n",
    "print (\"Brief data check (Math):\\n\\n\",       mat_score_head10.iloc[:,[13, 26, 27, 28, 29, 30, 31, 32]])\n",
    "print (\"\\n\\n\")\n",
    "print (\"Brief data check (Portuguese):\\n\\n\", por_score_head10.iloc[:,[13, 26, 27, 28, 29, 30, 31, 32]])"
   ]
  },
  {
   "cell_type": "markdown",
   "metadata": {},
   "source": [
    "#### Brief Summary"
   ]
  },
  {
   "cell_type": "code",
   "execution_count": 5,
   "metadata": {},
   "outputs": [
    {
     "data": {
      "text/html": [
       "<div>\n",
       "<style scoped>\n",
       "    .dataframe tbody tr th:only-of-type {\n",
       "        vertical-align: middle;\n",
       "    }\n",
       "\n",
       "    .dataframe tbody tr th {\n",
       "        vertical-align: top;\n",
       "    }\n",
       "\n",
       "    .dataframe thead th {\n",
       "        text-align: right;\n",
       "    }\n",
       "</style>\n",
       "<table border=\"1\" class=\"dataframe\">\n",
       "  <thead>\n",
       "    <tr style=\"text-align: right;\">\n",
       "      <th></th>\n",
       "      <th>studytime</th>\n",
       "      <th>Dalc</th>\n",
       "      <th>Walc</th>\n",
       "      <th>health</th>\n",
       "      <th>absences</th>\n",
       "      <th>G1</th>\n",
       "      <th>G2</th>\n",
       "      <th>G3</th>\n",
       "    </tr>\n",
       "  </thead>\n",
       "  <tbody>\n",
       "    <tr>\n",
       "      <th>count</th>\n",
       "      <td>395.000000</td>\n",
       "      <td>395.000000</td>\n",
       "      <td>395.000000</td>\n",
       "      <td>395.000000</td>\n",
       "      <td>395.000000</td>\n",
       "      <td>395.000000</td>\n",
       "      <td>395.000000</td>\n",
       "      <td>395.000000</td>\n",
       "    </tr>\n",
       "    <tr>\n",
       "      <th>mean</th>\n",
       "      <td>2.035443</td>\n",
       "      <td>1.481013</td>\n",
       "      <td>2.291139</td>\n",
       "      <td>3.554430</td>\n",
       "      <td>5.708861</td>\n",
       "      <td>10.908861</td>\n",
       "      <td>10.713924</td>\n",
       "      <td>10.415190</td>\n",
       "    </tr>\n",
       "    <tr>\n",
       "      <th>std</th>\n",
       "      <td>0.839240</td>\n",
       "      <td>0.890741</td>\n",
       "      <td>1.287897</td>\n",
       "      <td>1.390303</td>\n",
       "      <td>8.003096</td>\n",
       "      <td>3.319195</td>\n",
       "      <td>3.761505</td>\n",
       "      <td>4.581443</td>\n",
       "    </tr>\n",
       "    <tr>\n",
       "      <th>min</th>\n",
       "      <td>1.000000</td>\n",
       "      <td>1.000000</td>\n",
       "      <td>1.000000</td>\n",
       "      <td>1.000000</td>\n",
       "      <td>0.000000</td>\n",
       "      <td>3.000000</td>\n",
       "      <td>0.000000</td>\n",
       "      <td>0.000000</td>\n",
       "    </tr>\n",
       "    <tr>\n",
       "      <th>25%</th>\n",
       "      <td>1.000000</td>\n",
       "      <td>1.000000</td>\n",
       "      <td>1.000000</td>\n",
       "      <td>3.000000</td>\n",
       "      <td>0.000000</td>\n",
       "      <td>8.000000</td>\n",
       "      <td>9.000000</td>\n",
       "      <td>8.000000</td>\n",
       "    </tr>\n",
       "    <tr>\n",
       "      <th>50%</th>\n",
       "      <td>2.000000</td>\n",
       "      <td>1.000000</td>\n",
       "      <td>2.000000</td>\n",
       "      <td>4.000000</td>\n",
       "      <td>4.000000</td>\n",
       "      <td>11.000000</td>\n",
       "      <td>11.000000</td>\n",
       "      <td>11.000000</td>\n",
       "    </tr>\n",
       "    <tr>\n",
       "      <th>75%</th>\n",
       "      <td>2.000000</td>\n",
       "      <td>2.000000</td>\n",
       "      <td>3.000000</td>\n",
       "      <td>5.000000</td>\n",
       "      <td>8.000000</td>\n",
       "      <td>13.000000</td>\n",
       "      <td>13.000000</td>\n",
       "      <td>14.000000</td>\n",
       "    </tr>\n",
       "    <tr>\n",
       "      <th>max</th>\n",
       "      <td>4.000000</td>\n",
       "      <td>5.000000</td>\n",
       "      <td>5.000000</td>\n",
       "      <td>5.000000</td>\n",
       "      <td>75.000000</td>\n",
       "      <td>19.000000</td>\n",
       "      <td>19.000000</td>\n",
       "      <td>20.000000</td>\n",
       "    </tr>\n",
       "  </tbody>\n",
       "</table>\n",
       "</div>"
      ],
      "text/plain": [
       "        studytime        Dalc        Walc      health    absences          G1  \\\n",
       "count  395.000000  395.000000  395.000000  395.000000  395.000000  395.000000   \n",
       "mean     2.035443    1.481013    2.291139    3.554430    5.708861   10.908861   \n",
       "std      0.839240    0.890741    1.287897    1.390303    8.003096    3.319195   \n",
       "min      1.000000    1.000000    1.000000    1.000000    0.000000    3.000000   \n",
       "25%      1.000000    1.000000    1.000000    3.000000    0.000000    8.000000   \n",
       "50%      2.000000    1.000000    2.000000    4.000000    4.000000   11.000000   \n",
       "75%      2.000000    2.000000    3.000000    5.000000    8.000000   13.000000   \n",
       "max      4.000000    5.000000    5.000000    5.000000   75.000000   19.000000   \n",
       "\n",
       "               G2          G3  \n",
       "count  395.000000  395.000000  \n",
       "mean    10.713924   10.415190  \n",
       "std      3.761505    4.581443  \n",
       "min      0.000000    0.000000  \n",
       "25%      9.000000    8.000000  \n",
       "50%     11.000000   11.000000  \n",
       "75%     13.000000   14.000000  \n",
       "max     19.000000   20.000000  "
      ]
     },
     "execution_count": 5,
     "metadata": {},
     "output_type": "execute_result"
    }
   ],
   "source": [
    "# Briefly summarize the distribution of main attributes (use .describe())\n",
    "mat_score.iloc[:,[13, 26, 27, 28, 29, 30, 31, 32]].describe() # Math"
   ]
  },
  {
   "cell_type": "code",
   "execution_count": 6,
   "metadata": {},
   "outputs": [
    {
     "data": {
      "text/html": [
       "<div>\n",
       "<style scoped>\n",
       "    .dataframe tbody tr th:only-of-type {\n",
       "        vertical-align: middle;\n",
       "    }\n",
       "\n",
       "    .dataframe tbody tr th {\n",
       "        vertical-align: top;\n",
       "    }\n",
       "\n",
       "    .dataframe thead th {\n",
       "        text-align: right;\n",
       "    }\n",
       "</style>\n",
       "<table border=\"1\" class=\"dataframe\">\n",
       "  <thead>\n",
       "    <tr style=\"text-align: right;\">\n",
       "      <th></th>\n",
       "      <th>studytime</th>\n",
       "      <th>Dalc</th>\n",
       "      <th>Walc</th>\n",
       "      <th>health</th>\n",
       "      <th>absences</th>\n",
       "      <th>G1</th>\n",
       "      <th>G2</th>\n",
       "      <th>G3</th>\n",
       "    </tr>\n",
       "  </thead>\n",
       "  <tbody>\n",
       "    <tr>\n",
       "      <th>count</th>\n",
       "      <td>649.000000</td>\n",
       "      <td>649.000000</td>\n",
       "      <td>649.000000</td>\n",
       "      <td>649.000000</td>\n",
       "      <td>649.000000</td>\n",
       "      <td>649.000000</td>\n",
       "      <td>649.000000</td>\n",
       "      <td>649.000000</td>\n",
       "    </tr>\n",
       "    <tr>\n",
       "      <th>mean</th>\n",
       "      <td>1.930663</td>\n",
       "      <td>1.502311</td>\n",
       "      <td>2.280431</td>\n",
       "      <td>3.536210</td>\n",
       "      <td>3.659476</td>\n",
       "      <td>11.399076</td>\n",
       "      <td>11.570108</td>\n",
       "      <td>11.906009</td>\n",
       "    </tr>\n",
       "    <tr>\n",
       "      <th>std</th>\n",
       "      <td>0.829510</td>\n",
       "      <td>0.924834</td>\n",
       "      <td>1.284380</td>\n",
       "      <td>1.446259</td>\n",
       "      <td>4.640759</td>\n",
       "      <td>2.745265</td>\n",
       "      <td>2.913639</td>\n",
       "      <td>3.230656</td>\n",
       "    </tr>\n",
       "    <tr>\n",
       "      <th>min</th>\n",
       "      <td>1.000000</td>\n",
       "      <td>1.000000</td>\n",
       "      <td>1.000000</td>\n",
       "      <td>1.000000</td>\n",
       "      <td>0.000000</td>\n",
       "      <td>0.000000</td>\n",
       "      <td>0.000000</td>\n",
       "      <td>0.000000</td>\n",
       "    </tr>\n",
       "    <tr>\n",
       "      <th>25%</th>\n",
       "      <td>1.000000</td>\n",
       "      <td>1.000000</td>\n",
       "      <td>1.000000</td>\n",
       "      <td>2.000000</td>\n",
       "      <td>0.000000</td>\n",
       "      <td>10.000000</td>\n",
       "      <td>10.000000</td>\n",
       "      <td>10.000000</td>\n",
       "    </tr>\n",
       "    <tr>\n",
       "      <th>50%</th>\n",
       "      <td>2.000000</td>\n",
       "      <td>1.000000</td>\n",
       "      <td>2.000000</td>\n",
       "      <td>4.000000</td>\n",
       "      <td>2.000000</td>\n",
       "      <td>11.000000</td>\n",
       "      <td>11.000000</td>\n",
       "      <td>12.000000</td>\n",
       "    </tr>\n",
       "    <tr>\n",
       "      <th>75%</th>\n",
       "      <td>2.000000</td>\n",
       "      <td>2.000000</td>\n",
       "      <td>3.000000</td>\n",
       "      <td>5.000000</td>\n",
       "      <td>6.000000</td>\n",
       "      <td>13.000000</td>\n",
       "      <td>13.000000</td>\n",
       "      <td>14.000000</td>\n",
       "    </tr>\n",
       "    <tr>\n",
       "      <th>max</th>\n",
       "      <td>4.000000</td>\n",
       "      <td>5.000000</td>\n",
       "      <td>5.000000</td>\n",
       "      <td>5.000000</td>\n",
       "      <td>32.000000</td>\n",
       "      <td>19.000000</td>\n",
       "      <td>19.000000</td>\n",
       "      <td>19.000000</td>\n",
       "    </tr>\n",
       "  </tbody>\n",
       "</table>\n",
       "</div>"
      ],
      "text/plain": [
       "        studytime        Dalc        Walc      health    absences          G1  \\\n",
       "count  649.000000  649.000000  649.000000  649.000000  649.000000  649.000000   \n",
       "mean     1.930663    1.502311    2.280431    3.536210    3.659476   11.399076   \n",
       "std      0.829510    0.924834    1.284380    1.446259    4.640759    2.745265   \n",
       "min      1.000000    1.000000    1.000000    1.000000    0.000000    0.000000   \n",
       "25%      1.000000    1.000000    1.000000    2.000000    0.000000   10.000000   \n",
       "50%      2.000000    1.000000    2.000000    4.000000    2.000000   11.000000   \n",
       "75%      2.000000    2.000000    3.000000    5.000000    6.000000   13.000000   \n",
       "max      4.000000    5.000000    5.000000    5.000000   32.000000   19.000000   \n",
       "\n",
       "               G2          G3  \n",
       "count  649.000000  649.000000  \n",
       "mean    11.570108   11.906009  \n",
       "std      2.913639    3.230656  \n",
       "min      0.000000    0.000000  \n",
       "25%     10.000000   10.000000  \n",
       "50%     11.000000   12.000000  \n",
       "75%     13.000000   14.000000  \n",
       "max     19.000000   19.000000  "
      ]
     },
     "execution_count": 6,
     "metadata": {},
     "output_type": "execute_result"
    }
   ],
   "source": [
    "# Briefly summarize the distribution of main attributes\n",
    "por_score.iloc[:,[13, 26, 27, 28, 29, 30, 31, 32]].describe() # Portuguese"
   ]
  },
  {
   "cell_type": "markdown",
   "metadata": {},
   "source": [
    "###  <font color='#1A9FFF'>2. Check the Data</font>\n",
    "Check the data to see whether there is any wrong data in the dataset.\n",
    "\n",
    "As we can see from the Brief Summary, the data listed is in good shape. Therefore we do not perform any data checking here."
   ]
  },
  {
   "cell_type": "markdown",
   "metadata": {},
   "source": [
    "###  <font color='#1A9FFF'>3. Data Observation</font>\n",
    "#### Grade Distribution"
   ]
  },
  {
   "cell_type": "code",
   "execution_count": 7,
   "metadata": {},
   "outputs": [
    {
     "name": "stderr",
     "output_type": "stream",
     "text": [
      "/anaconda3/lib/python3.6/site-packages/matplotlib/axes/_axes.py:6462: UserWarning: The 'normed' kwarg is deprecated, and has been replaced by the 'density' kwarg.\n",
      "  warnings.warn(\"The 'normed' kwarg is deprecated, and has been \"\n"
     ]
    },
    {
     "data": {
      "image/png": "[encoded data removed]",
      "text/plain": [
       "<Figure size 432x288 with 1 Axes>"
      ]
     },
     "metadata": {},
     "output_type": "display_data"
    }
   ],
   "source": [
    "# Analyse the grade distribution for math and portuguese by using a histogram graph of the average of the 3 grades\n",
    "mat_ave = (mat_score['G1'] + mat_score['G2'] + mat_score['G3'])/3.0\n",
    "por_ave = (por_score['G1'] + por_score['G2'] + por_score['G3'])/3.0\n",
    "\n",
    "# As summarized above\n",
    "max_score = 19\n",
    "min_score = 0\n",
    "\n",
    "# show result of Math course\n",
    "mat_ave.plot.hist(bins=10, alpha=0.5, normed=True, range=(0,20))\n",
    "\n",
    "# show result of Portuguese course\n",
    "por_ave.plot.hist(bins=10, alpha=0.5, normed=True, range=(0,20))\n",
    "\n",
    "# show setting\n",
    "plt.title('Grade Distribution for Math and Portuguese Course')\n",
    "plt.xticks(np.arange(0, 21, step=2))\n",
    "plt.xlabel('Grade')\n",
    "plt.legend(['Math', 'Portuguese'])\n",
    "plt.grid()"
   ]
  },
  {
   "cell_type": "markdown",
   "metadata": {},
   "source": [
    "**Observation:** The Math course has more students failing (lower than 10 grade) than the Portuguese Course.\n",
    "\n",
    "Let us look closer on the student information for Math courses."
   ]
  },
  {
   "cell_type": "code",
   "execution_count": 38,
   "metadata": {},
   "outputs": [
    {
     "name": "stderr",
     "output_type": "stream",
     "text": [
      "/anaconda3/lib/python3.6/site-packages/matplotlib/axes/_axes.py:6462: UserWarning: The 'normed' kwarg is deprecated, and has been replaced by the 'density' kwarg.\n",
      "  warnings.warn(\"The 'normed' kwarg is deprecated, and has been \"\n"
     ]
    },
    {
     "data": {
      "image/png": "[encoded data removed]",
      "text/plain": [
       "<Figure size 432x288 with 1 Axes>"
      ]
     },
     "metadata": {},
     "output_type": "display_data"
    }
   ],
   "source": [
    "# Check if the grade distribution between different grade period is same or not, using histogram.\n",
    "mat_G123 = mat_score.iloc[:,[30, 31, 32]].copy()\n",
    "\n",
    "# Histogram of G1 G2 & G3 for Math course\n",
    "mat_G123.plot.hist(bins=10, alpha=0.9, normed=True, cmap='winter', stacked=True, range=(0,20))\n",
    "plt.title('G1 G2 G3 Distribution for Math Course')\n",
    "plt.xlabel('Grade')\n",
    "plt.grid()"
   ]
  },
  {
   "cell_type": "markdown",
   "metadata": {},
   "source": [
    "Let us look closer on the student information for Portuguese courses."
   ]
  },
  {
   "cell_type": "code",
   "execution_count": 9,
   "metadata": {},
   "outputs": [
    {
     "name": "stderr",
     "output_type": "stream",
     "text": [
      "/anaconda3/lib/python3.6/site-packages/matplotlib/axes/_axes.py:6462: UserWarning: The 'normed' kwarg is deprecated, and has been replaced by the 'density' kwarg.\n",
      "  warnings.warn(\"The 'normed' kwarg is deprecated, and has been \"\n"
     ]
    },
    {
     "data": {
      "image/png": "[encoded data removed]",
      "text/plain": [
       "<Figure size 432x288 with 1 Axes>"
      ]
     },
     "metadata": {},
     "output_type": "display_data"
    }
   ],
   "source": [
    "# We check if the grade distribution between different grade period is same or not.\n",
    "por_G123 = por_score.iloc[:,[30, 31, 32]].copy()\n",
    "\n",
    "# Histogram of G1 G2 & G3 for Portuguese course\n",
    "por_G123.plot.hist(bins=10, alpha=0.9, normed=True, cmap='winter', stacked=True, range=(0,20))\n",
    "plt.title('G1 G2 G3 Distribution for Portuguese Course')\n",
    "plt.xlabel('Grade')\n",
    "plt.grid()"
   ]
  },
  {
   "cell_type": "markdown",
   "metadata": {},
   "source": [
    "**Observation:** There is no much difference between different grade period."
   ]
  },
  {
   "cell_type": "markdown",
   "metadata": {},
   "source": [
    "###  <font color='#1A9FFF'>4. Exploratory Data Analysis</font>\n",
    "(We only analyze math grades for now.)\n",
    "#### Grade - School relationship\n",
    "Check the relationship between Math Grade ( the third period, namely `G3`) and School"
   ]
  },
  {
   "cell_type": "code",
   "execution_count": 10,
   "metadata": {},
   "outputs": [
    {
     "data": {
      "text/plain": [
       "<matplotlib.axes._subplots.AxesSubplot at 0x115ad5be0>"
      ]
     },
     "execution_count": 10,
     "metadata": {},
     "output_type": "execute_result"
    },
    {
     "data": {
      "image/png": "[encoded data removed]",
      "text/plain": [
       "<Figure size 432x288 with 1 Axes>"
      ]
     },
     "metadata": {},
     "output_type": "display_data"
    }
   ],
   "source": [
    "# Plot boxplot showing G3 grade, group the student by school\n",
    "mat_score.boxplot(column=['G3'], by='school')"
   ]
  },
  {
   "cell_type": "markdown",
   "metadata": {},
   "source": [
    "**Observation :** There are more students who fail in MS school (50%). However, there is high variance of grade in GP shcool."
   ]
  },
  {
   "cell_type": "markdown",
   "metadata": {},
   "source": [
    "Check the relationship between Math Grade ( the third period, namely `G3`) and School as well as Sex "
   ]
  },
  {
   "cell_type": "code",
   "execution_count": 11,
   "metadata": {},
   "outputs": [
    {
     "data": {
      "text/plain": [
       "<matplotlib.axes._subplots.AxesSubplot at 0x115bb3e10>"
      ]
     },
     "execution_count": 11,
     "metadata": {},
     "output_type": "execute_result"
    },
    {
     "data": {
      "image/png": "[encoded data removed]",
      "text/plain": [
       "<Figure size 432x288 with 1 Axes>"
      ]
     },
     "metadata": {},
     "output_type": "display_data"
    }
   ],
   "source": [
    "# Plot boxplot showing G3 grade, group the student by school and sex\n",
    "mat_score.boxplot(column=['G3'], by=['school', 'sex'])"
   ]
  },
  {
   "cell_type": "markdown",
   "metadata": {},
   "source": [
    "**Observation :** No significant difference between F and M students."
   ]
  },
  {
   "cell_type": "markdown",
   "metadata": {},
   "source": [
    "#### Grade - Internet\n",
    "\n",
    "Seperate the students in three grade levels ( Fail, Pass, Good ), and check the relationship between grade and internet."
   ]
  },
  {
   "cell_type": "markdown",
   "metadata": {},
   "source": [
    "#### Note: an error will occur if your pandas version is 0.24. \n",
    "#### You need to downgrade to 0.23.4 using : conda instal pandas=0.23.4"
   ]
  },
  {
   "cell_type": "code",
   "execution_count": 12,
   "metadata": {},
   "outputs": [
    {
     "data": {
      "text/html": [
       "<div>\n",
       "<style scoped>\n",
       "    .dataframe tbody tr th:only-of-type {\n",
       "        vertical-align: middle;\n",
       "    }\n",
       "\n",
       "    .dataframe tbody tr th {\n",
       "        vertical-align: top;\n",
       "    }\n",
       "\n",
       "    .dataframe thead th {\n",
       "        text-align: right;\n",
       "    }\n",
       "</style>\n",
       "<table border=\"1\" class=\"dataframe\">\n",
       "  <thead>\n",
       "    <tr style=\"text-align: right;\">\n",
       "      <th>G3</th>\n",
       "      <th>(-1.0, 9.9]</th>\n",
       "      <th>(9.9, 13.9]</th>\n",
       "      <th>(13.9, 20.0]</th>\n",
       "    </tr>\n",
       "    <tr>\n",
       "      <th>internet</th>\n",
       "      <th></th>\n",
       "      <th></th>\n",
       "      <th></th>\n",
       "    </tr>\n",
       "  </thead>\n",
       "  <tbody>\n",
       "    <tr>\n",
       "      <th>no</th>\n",
       "      <td>26</td>\n",
       "      <td>30</td>\n",
       "      <td>10</td>\n",
       "    </tr>\n",
       "    <tr>\n",
       "      <th>yes</th>\n",
       "      <td>104</td>\n",
       "      <td>135</td>\n",
       "      <td>90</td>\n",
       "    </tr>\n",
       "  </tbody>\n",
       "</table>\n",
       "</div>"
      ],
      "text/plain": [
       "G3        (-1.0, 9.9]  (9.9, 13.9]  (13.9, 20.0]\n",
       "internet                                        \n",
       "no                 26           30            10\n",
       "yes               104          135            90"
      ]
     },
     "execution_count": 12,
     "metadata": {},
     "output_type": "execute_result"
    }
   ],
   "source": [
    "# Seperate the grade into 3 levels Fail(0<x<10), Pass(10<=x<14), Good(14<=x<=20) \n",
    "grade_cut = pd.cut(mat_score['G3'], [-1, 9.9, 13.9, 20])\n",
    "\n",
    "# check the relationship between grade and internet by using pivot_table \n",
    "mat_score['count'] = 1\n",
    "mat_score.pivot_table('count', index='internet', columns=grade_cut, aggfunc=np.sum)"
   ]
  },
  {
   "cell_type": "code",
   "execution_count": 13,
   "metadata": {},
   "outputs": [
    {
     "data": {
      "text/plain": [
       "<matplotlib.axes._subplots.AxesSubplot at 0x1159cf588>"
      ]
     },
     "execution_count": 13,
     "metadata": {},
     "output_type": "execute_result"
    },
    {
     "data": {
      "image/png": "[encoded data removed]",
      "text/plain": [
       "<Figure size 432x288 with 1 Axes>"
      ]
     },
     "metadata": {},
     "output_type": "display_data"
    }
   ],
   "source": [
    "# Plot boxplot showing G3 grade, group the student by internet\n",
    "mat_score.boxplot(column=['G3'], by=['internet'])"
   ]
  },
  {
   "cell_type": "markdown",
   "metadata": {},
   "source": [
    "**Observation :** Students who have Internet have better grade than students who don't have."
   ]
  },
  {
   "cell_type": "markdown",
   "metadata": {},
   "source": [
    "#### Grade - Romantic\n",
    "\n",
    "Seperate the students in three grade levels ( Fail, Pass, Good ), and check the relationship between grade and romantic."
   ]
  },
  {
   "cell_type": "code",
   "execution_count": 14,
   "metadata": {},
   "outputs": [
    {
     "data": {
      "text/html": [
       "<div>\n",
       "<style scoped>\n",
       "    .dataframe tbody tr th:only-of-type {\n",
       "        vertical-align: middle;\n",
       "    }\n",
       "\n",
       "    .dataframe tbody tr th {\n",
       "        vertical-align: top;\n",
       "    }\n",
       "\n",
       "    .dataframe thead th {\n",
       "        text-align: right;\n",
       "    }\n",
       "</style>\n",
       "<table border=\"1\" class=\"dataframe\">\n",
       "  <thead>\n",
       "    <tr style=\"text-align: right;\">\n",
       "      <th>G3</th>\n",
       "      <th>(-1.0, 9.9]</th>\n",
       "      <th>(9.9, 13.9]</th>\n",
       "      <th>(13.9, 20.0]</th>\n",
       "    </tr>\n",
       "    <tr>\n",
       "      <th>romantic</th>\n",
       "      <th></th>\n",
       "      <th></th>\n",
       "      <th></th>\n",
       "    </tr>\n",
       "  </thead>\n",
       "  <tbody>\n",
       "    <tr>\n",
       "      <th>no</th>\n",
       "      <td>78</td>\n",
       "      <td>111</td>\n",
       "      <td>74</td>\n",
       "    </tr>\n",
       "    <tr>\n",
       "      <th>yes</th>\n",
       "      <td>52</td>\n",
       "      <td>54</td>\n",
       "      <td>26</td>\n",
       "    </tr>\n",
       "  </tbody>\n",
       "</table>\n",
       "</div>"
      ],
      "text/plain": [
       "G3        (-1.0, 9.9]  (9.9, 13.9]  (13.9, 20.0]\n",
       "romantic                                        \n",
       "no                 78          111            74\n",
       "yes                52           54            26"
      ]
     },
     "execution_count": 14,
     "metadata": {},
     "output_type": "execute_result"
    }
   ],
   "source": [
    "# check the relationship between grade and romantic by using pivot_table \n",
    "mat_score.pivot_table('count', index='romantic', columns=grade_cut, aggfunc=np.sum)"
   ]
  },
  {
   "cell_type": "code",
   "execution_count": 15,
   "metadata": {},
   "outputs": [
    {
     "data": {
      "text/plain": [
       "<matplotlib.axes._subplots.AxesSubplot at 0x1159170f0>"
      ]
     },
     "execution_count": 15,
     "metadata": {},
     "output_type": "execute_result"
    },
    {
     "data": {
      "image/png": "[encoded data removed]",
      "text/plain": [
       "<Figure size 432x288 with 1 Axes>"
      ]
     },
     "metadata": {},
     "output_type": "display_data"
    }
   ],
   "source": [
    "# Plot boxplot showing G3 grade, group the student by romantic\n",
    "mat_score.boxplot(column='G3', by='romantic')"
   ]
  },
  {
   "cell_type": "markdown",
   "metadata": {},
   "source": [
    "**Observation :** Among the students that fail, 40% have romantic relationships. Differently, among the students that pass, 26% only have romantic relationships."
   ]
  },
  {
   "cell_type": "markdown",
   "metadata": {},
   "source": [
    "#### Grade - Activities\n",
    "\n",
    "Seperate the students in three grade levels ( Fail, Pass, Good ), and check the relationship between grade and activities."
   ]
  },
  {
   "cell_type": "code",
   "execution_count": 16,
   "metadata": {},
   "outputs": [
    {
     "data": {
      "text/html": [
       "<div>\n",
       "<style scoped>\n",
       "    .dataframe tbody tr th:only-of-type {\n",
       "        vertical-align: middle;\n",
       "    }\n",
       "\n",
       "    .dataframe tbody tr th {\n",
       "        vertical-align: top;\n",
       "    }\n",
       "\n",
       "    .dataframe thead th {\n",
       "        text-align: right;\n",
       "    }\n",
       "</style>\n",
       "<table border=\"1\" class=\"dataframe\">\n",
       "  <thead>\n",
       "    <tr style=\"text-align: right;\">\n",
       "      <th>G3</th>\n",
       "      <th>(-1.0, 9.9]</th>\n",
       "      <th>(9.9, 13.9]</th>\n",
       "      <th>(13.9, 20.0]</th>\n",
       "    </tr>\n",
       "    <tr>\n",
       "      <th>activities</th>\n",
       "      <th></th>\n",
       "      <th></th>\n",
       "      <th></th>\n",
       "    </tr>\n",
       "  </thead>\n",
       "  <tbody>\n",
       "    <tr>\n",
       "      <th>no</th>\n",
       "      <td>65</td>\n",
       "      <td>85</td>\n",
       "      <td>44</td>\n",
       "    </tr>\n",
       "    <tr>\n",
       "      <th>yes</th>\n",
       "      <td>65</td>\n",
       "      <td>80</td>\n",
       "      <td>56</td>\n",
       "    </tr>\n",
       "  </tbody>\n",
       "</table>\n",
       "</div>"
      ],
      "text/plain": [
       "G3          (-1.0, 9.9]  (9.9, 13.9]  (13.9, 20.0]\n",
       "activities                                        \n",
       "no                   65           85            44\n",
       "yes                  65           80            56"
      ]
     },
     "execution_count": 16,
     "metadata": {},
     "output_type": "execute_result"
    }
   ],
   "source": [
    "# check the relationship between grade and activities by using pivot_table \n",
    "table_ga = mat_score.pivot_table('count', index='activities', columns=grade_cut, aggfunc=np.sum)\n",
    "table_ga"
   ]
  },
  {
   "cell_type": "code",
   "execution_count": 17,
   "metadata": {},
   "outputs": [
    {
     "name": "stdout",
     "output_type": "stream",
     "text": [
      "G3            activities\n",
      "(-1.0, 9.9]   no            65\n",
      "              yes           65\n",
      "(9.9, 13.9]   no            85\n",
      "              yes           80\n",
      "(13.9, 20.0]  no            44\n",
      "              yes           56\n",
      "dtype: int64 \n",
      "\n",
      "\n",
      "activities\n",
      "no     194.0\n",
      "yes    201.0\n",
      "dtype: float64\n"
     ]
    },
    {
     "data": {
      "text/plain": [
       "Text(0.5,1,'Attending Activities or Not')"
      ]
     },
     "execution_count": 17,
     "metadata": {},
     "output_type": "execute_result"
    },
    {
     "data": {
      "image/png": "[encoded data removed]",
      "text/plain": [
       "<Figure size 432x288 with 1 Axes>"
      ]
     },
     "metadata": {},
     "output_type": "display_data"
    }
   ],
   "source": [
    "# Draw bar plot to show the relationship\n",
    "tga = table_ga.unstack(level=0)\n",
    "print (tga, '\\n\\n')\n",
    "\n",
    "# number of students in each grade group\n",
    "tot_ga = np.sum(table_ga, axis=1)*1.0\n",
    "print (tot_ga)\n",
    "\n",
    "# bar plot of normalized distribution for students attending activities\n",
    "plt.bar([2, 5, 8], [tga.iloc[1]/tot_ga[1], tga.iloc[3]/tot_ga[1], tga.iloc[5]/tot_ga[1]], color='blue',  alpha=0.7);\n",
    "# bar plot of normalized distribution for students not attending activities\n",
    "plt.bar([1, 4, 7], [tga.iloc[0]/tot_ga[0], tga.iloc[2]/tot_ga[0], tga.iloc[4]/tot_ga[0]], color='green', alpha=0.7);\n",
    "\n",
    "plt.legend(['Yes', 'No']);\n",
    "plt.xticks([1.5, 4.5, 7.5], ['Fail','Pass', 'Good'], size='medium');\n",
    "plt.title('Attending Activities or Not')"
   ]
  },
  {
   "cell_type": "code",
   "execution_count": 18,
   "metadata": {},
   "outputs": [
    {
     "data": {
      "text/plain": [
       "<matplotlib.axes._subplots.AxesSubplot at 0x115a0a780>"
      ]
     },
     "execution_count": 18,
     "metadata": {},
     "output_type": "execute_result"
    },
    {
     "data": {
      "image/png": "[encoded data removed]",
      "text/plain": [
       "<Figure size 432x288 with 1 Axes>"
      ]
     },
     "metadata": {},
     "output_type": "display_data"
    }
   ],
   "source": [
    "table_ga.plot.bar()"
   ]
  },
  {
   "cell_type": "code",
   "execution_count": 19,
   "metadata": {},
   "outputs": [
    {
     "data": {
      "text/plain": [
       "<matplotlib.axes._subplots.AxesSubplot at 0x115cde438>"
      ]
     },
     "execution_count": 19,
     "metadata": {},
     "output_type": "execute_result"
    },
    {
     "data": {
      "image/png": "[encoded data removed]",
      "text/plain": [
       "<Figure size 432x288 with 1 Axes>"
      ]
     },
     "metadata": {},
     "output_type": "display_data"
    }
   ],
   "source": [
    "mat_score.boxplot(column='G3', by='activities')"
   ]
  },
  {
   "cell_type": "markdown",
   "metadata": {},
   "source": [
    "**Observation :** There does not seem any significant relation between Grade failure and participation in co-curricular activities."
   ]
  },
  {
   "cell_type": "markdown",
   "metadata": {},
   "source": [
    "#### Grade - Nursery\n",
    "\n",
    "Seperate the students in three grade levels ( Fail, Pass, Good ), and check the relationship between grade and nursery."
   ]
  },
  {
   "cell_type": "code",
   "execution_count": 20,
   "metadata": {},
   "outputs": [
    {
     "data": {
      "text/html": [
       "<div>\n",
       "<style scoped>\n",
       "    .dataframe tbody tr th:only-of-type {\n",
       "        vertical-align: middle;\n",
       "    }\n",
       "\n",
       "    .dataframe tbody tr th {\n",
       "        vertical-align: top;\n",
       "    }\n",
       "\n",
       "    .dataframe thead th {\n",
       "        text-align: right;\n",
       "    }\n",
       "</style>\n",
       "<table border=\"1\" class=\"dataframe\">\n",
       "  <thead>\n",
       "    <tr style=\"text-align: right;\">\n",
       "      <th>G3</th>\n",
       "      <th>(-1.0, 9.9]</th>\n",
       "      <th>(9.9, 13.9]</th>\n",
       "      <th>(13.9, 20.0]</th>\n",
       "    </tr>\n",
       "    <tr>\n",
       "      <th>nursery</th>\n",
       "      <th></th>\n",
       "      <th></th>\n",
       "      <th></th>\n",
       "    </tr>\n",
       "  </thead>\n",
       "  <tbody>\n",
       "    <tr>\n",
       "      <th>no</th>\n",
       "      <td>26</td>\n",
       "      <td>37</td>\n",
       "      <td>18</td>\n",
       "    </tr>\n",
       "    <tr>\n",
       "      <th>yes</th>\n",
       "      <td>104</td>\n",
       "      <td>128</td>\n",
       "      <td>82</td>\n",
       "    </tr>\n",
       "  </tbody>\n",
       "</table>\n",
       "</div>"
      ],
      "text/plain": [
       "G3       (-1.0, 9.9]  (9.9, 13.9]  (13.9, 20.0]\n",
       "nursery                                        \n",
       "no                26           37            18\n",
       "yes              104          128            82"
      ]
     },
     "execution_count": 20,
     "metadata": {},
     "output_type": "execute_result"
    }
   ],
   "source": [
    "# check the relationship between grade and activities by using pivot_table \n",
    "table_gn = mat_score.pivot_table('count', index='nursery', columns=grade_cut, aggfunc=np.sum)\n",
    "table_gn"
   ]
  },
  {
   "cell_type": "code",
   "execution_count": 21,
   "metadata": {},
   "outputs": [
    {
     "name": "stdout",
     "output_type": "stream",
     "text": [
      "G3            nursery\n",
      "(-1.0, 9.9]   no          26\n",
      "              yes        104\n",
      "(9.9, 13.9]   no          37\n",
      "              yes        128\n",
      "(13.9, 20.0]  no          18\n",
      "              yes         82\n",
      "dtype: int64\n",
      "nursery\n",
      "no      81.0\n",
      "yes    314.0\n",
      "dtype: float64\n"
     ]
    },
    {
     "data": {
      "text/plain": [
       "Text(0.5,1,'Attending Nursery School or Not')"
      ]
     },
     "execution_count": 21,
     "metadata": {},
     "output_type": "execute_result"
    },
    {
     "data": {
      "image/png": "[encoded data removed]",
      "text/plain": [
       "<Figure size 432x288 with 1 Axes>"
      ]
     },
     "metadata": {},
     "output_type": "display_data"
    }
   ],
   "source": [
    "# Draw bar plot to show the relationship\n",
    "tgn = table_gn.unstack(level=0)\n",
    "print (tgn)\n",
    "\n",
    "# number of students in each grade group\n",
    "tot_n = np.sum(table_gn, axis=1)*1.0\n",
    "print(tot_n)\n",
    "\n",
    "plt.bar([2, 5, 8], [tgn.iloc[1]/tot_n[1], tgn.iloc[3]/tot_n[1], tgn.iloc[5]/tot_n[1]], color='blue',  alpha=0.7);\n",
    "plt.bar([1, 4, 7], [tgn.iloc[0]/tot_n[0], tgn.iloc[2]/tot_n[0], tgn.iloc[4]/tot_n[0]], color='green', alpha=0.7);\n",
    "\n",
    "plt.legend(['Yes', 'No']);\n",
    "plt.xticks([1.5, 4.5, 7.5], ['Fail','Pass', 'Good'], size='medium');\n",
    "plt.title('Attending Nursery School or Not')"
   ]
  },
  {
   "cell_type": "markdown",
   "metadata": {},
   "source": [
    "**Observation:** There seems no any significant relation between Grade failure and nursery attendance in the past."
   ]
  },
  {
   "cell_type": "markdown",
   "metadata": {},
   "source": [
    "#### Grade - Educational Support\n",
    "\n",
    "Seperate the students in three grade levels ( Fail, Pass, Good ), and check the relationship between grade and educational support from family and school."
   ]
  },
  {
   "cell_type": "code",
   "execution_count": 22,
   "metadata": {},
   "outputs": [
    {
     "data": {
      "text/html": [
       "<div>\n",
       "<style scoped>\n",
       "    .dataframe tbody tr th:only-of-type {\n",
       "        vertical-align: middle;\n",
       "    }\n",
       "\n",
       "    .dataframe tbody tr th {\n",
       "        vertical-align: top;\n",
       "    }\n",
       "\n",
       "    .dataframe thead th {\n",
       "        text-align: right;\n",
       "    }\n",
       "</style>\n",
       "<table border=\"1\" class=\"dataframe\">\n",
       "  <thead>\n",
       "    <tr style=\"text-align: right;\">\n",
       "      <th>G3</th>\n",
       "      <th>(-1.0, 9.9]</th>\n",
       "      <th>(9.9, 13.9]</th>\n",
       "      <th>(13.9, 20.0]</th>\n",
       "    </tr>\n",
       "    <tr>\n",
       "      <th>famsup</th>\n",
       "      <th></th>\n",
       "      <th></th>\n",
       "      <th></th>\n",
       "    </tr>\n",
       "  </thead>\n",
       "  <tbody>\n",
       "    <tr>\n",
       "      <th>no</th>\n",
       "      <td>45</td>\n",
       "      <td>68</td>\n",
       "      <td>40</td>\n",
       "    </tr>\n",
       "    <tr>\n",
       "      <th>yes</th>\n",
       "      <td>85</td>\n",
       "      <td>97</td>\n",
       "      <td>60</td>\n",
       "    </tr>\n",
       "  </tbody>\n",
       "</table>\n",
       "</div>"
      ],
      "text/plain": [
       "G3      (-1.0, 9.9]  (9.9, 13.9]  (13.9, 20.0]\n",
       "famsup                                        \n",
       "no               45           68            40\n",
       "yes              85           97            60"
      ]
     },
     "execution_count": 22,
     "metadata": {},
     "output_type": "execute_result"
    }
   ],
   "source": [
    "# check the relationship between grade and family educational support by using pivot_table \n",
    "table_gfes = mat_score.pivot_table('count', index='famsup', columns=grade_cut, aggfunc=np.sum)\n",
    "table_gfes"
   ]
  },
  {
   "cell_type": "code",
   "execution_count": 23,
   "metadata": {},
   "outputs": [
    {
     "name": "stdout",
     "output_type": "stream",
     "text": [
      "G3            famsup\n",
      "(-1.0, 9.9]   no        45\n",
      "              yes       85\n",
      "(9.9, 13.9]   no        68\n",
      "              yes       97\n",
      "(13.9, 20.0]  no        40\n",
      "              yes       60\n",
      "dtype: int64\n"
     ]
    },
    {
     "data": {
      "text/plain": [
       "Text(0.5,1,'Support from Family or Not')"
      ]
     },
     "execution_count": 23,
     "metadata": {},
     "output_type": "execute_result"
    },
    {
     "data": {
      "image/png": "[encoded data removed]",
      "text/plain": [
       "<Figure size 432x288 with 1 Axes>"
      ]
     },
     "metadata": {},
     "output_type": "display_data"
    }
   ],
   "source": [
    "# Draw bar plot to show the relationship\n",
    "print   (table_gfes.unstack(level=0))\n",
    "tgfes = table_gfes.unstack(level=0)\n",
    "\n",
    "\n",
    "# number of students in each grade group\n",
    "tot_gfes = np.sum(table_gfes, axis=1)*1.0\n",
    "\n",
    "plt.bar([2, 5, 8], [tgfes.iloc[1]/tot_gfes[1], tgfes.iloc[3]/tot_gfes[1], tgfes.iloc[5]/tot_gfes[1]], color='blue',  alpha=0.7);\n",
    "plt.bar([1, 4, 7], [tgfes.iloc[0]/tot_gfes[0], tgfes.iloc[2]/tot_gfes[0], tgfes.iloc[4]/tot_gfes[0]], color='green', alpha=0.7);\n",
    "\n",
    "plt.legend(['Yes', 'No']);\n",
    "plt.xticks([1.5, 4.5, 7.5], ['Fail','Pass', 'Good'], size='medium');\n",
    "plt.title('Support from Family or Not')"
   ]
  },
  {
   "cell_type": "markdown",
   "metadata": {},
   "source": [
    "**Observation:** There is no obvious relation between grade and family educational support from the dataset provided."
   ]
  },
  {
   "cell_type": "code",
   "execution_count": 24,
   "metadata": {},
   "outputs": [
    {
     "data": {
      "text/html": [
       "<div>\n",
       "<style scoped>\n",
       "    .dataframe tbody tr th:only-of-type {\n",
       "        vertical-align: middle;\n",
       "    }\n",
       "\n",
       "    .dataframe tbody tr th {\n",
       "        vertical-align: top;\n",
       "    }\n",
       "\n",
       "    .dataframe thead th {\n",
       "        text-align: right;\n",
       "    }\n",
       "</style>\n",
       "<table border=\"1\" class=\"dataframe\">\n",
       "  <thead>\n",
       "    <tr style=\"text-align: right;\">\n",
       "      <th>G3</th>\n",
       "      <th>(-1.0, 9.9]</th>\n",
       "      <th>(9.9, 13.9]</th>\n",
       "      <th>(13.9, 20.0]</th>\n",
       "    </tr>\n",
       "    <tr>\n",
       "      <th>schoolsup</th>\n",
       "      <th></th>\n",
       "      <th></th>\n",
       "      <th></th>\n",
       "    </tr>\n",
       "  </thead>\n",
       "  <tbody>\n",
       "    <tr>\n",
       "      <th>no</th>\n",
       "      <td>107</td>\n",
       "      <td>140</td>\n",
       "      <td>97</td>\n",
       "    </tr>\n",
       "    <tr>\n",
       "      <th>yes</th>\n",
       "      <td>23</td>\n",
       "      <td>25</td>\n",
       "      <td>3</td>\n",
       "    </tr>\n",
       "  </tbody>\n",
       "</table>\n",
       "</div>"
      ],
      "text/plain": [
       "G3         (-1.0, 9.9]  (9.9, 13.9]  (13.9, 20.0]\n",
       "schoolsup                                        \n",
       "no                 107          140            97\n",
       "yes                 23           25             3"
      ]
     },
     "execution_count": 24,
     "metadata": {},
     "output_type": "execute_result"
    }
   ],
   "source": [
    "# check the relationship between grade and school educational support by using pivot_table \n",
    "table_gses = mat_score.pivot_table('count', index='schoolsup', columns=grade_cut, aggfunc=np.sum)\n",
    "table_gses"
   ]
  },
  {
   "cell_type": "code",
   "execution_count": 25,
   "metadata": {},
   "outputs": [
    {
     "name": "stdout",
     "output_type": "stream",
     "text": [
      "G3            schoolsup\n",
      "(-1.0, 9.9]   no           107\n",
      "              yes           23\n",
      "(9.9, 13.9]   no           140\n",
      "              yes           25\n",
      "(13.9, 20.0]  no            97\n",
      "              yes            3\n",
      "dtype: int64\n"
     ]
    },
    {
     "data": {
      "text/plain": [
       "Text(0.5,1,'Support from School or Not')"
      ]
     },
     "execution_count": 25,
     "metadata": {},
     "output_type": "execute_result"
    },
    {
     "data": {
      "image/png": "[encoded data removed]",
      "text/plain": [
       "<Figure size 432x288 with 1 Axes>"
      ]
     },
     "metadata": {},
     "output_type": "display_data"
    }
   ],
   "source": [
    "# Draw bar plot to show the relationship\n",
    "print   (table_gses.unstack(level=0))\n",
    "tgses = table_gses.unstack(level=0)\n",
    "\n",
    "# number of students in each grade group\n",
    "tot_gses = np.sum(table_gses, axis=1)*1.0\n",
    "\n",
    "\n",
    "plt.bar([2, 5, 8], [tgses.iloc[1]/tot_gses[1], tgses.iloc[3]/tot_gses[1], tgses.iloc[5]/tot_gses[1]], color='blue',  alpha=0.7);\n",
    "plt.bar([1, 4, 7], [tgses.iloc[0]/tot_gses[0], tgses.iloc[2]/tot_gses[0], tgses.iloc[4]/tot_gses[0]], color='green', alpha=0.7);\n",
    "\n",
    "plt.legend(['Yes', 'No']);\n",
    "plt.xticks([1.5, 4.5, 7.5], ['Fail', 'Pass', 'Good'], size='medium');\n",
    "plt.title('Support from School or Not')"
   ]
  },
  {
   "cell_type": "markdown",
   "metadata": {},
   "source": [
    "**Observation:** students who fail receive more school educational support than students with good grades."
   ]
  },
  {
   "cell_type": "markdown",
   "metadata": {},
   "source": [
    "#### Grade - Health"
   ]
  },
  {
   "cell_type": "code",
   "execution_count": 26,
   "metadata": {},
   "outputs": [
    {
     "data": {
      "text/html": [
       "<div>\n",
       "<style scoped>\n",
       "    .dataframe tbody tr th:only-of-type {\n",
       "        vertical-align: middle;\n",
       "    }\n",
       "\n",
       "    .dataframe tbody tr th {\n",
       "        vertical-align: top;\n",
       "    }\n",
       "\n",
       "    .dataframe thead th {\n",
       "        text-align: right;\n",
       "    }\n",
       "</style>\n",
       "<table border=\"1\" class=\"dataframe\">\n",
       "  <thead>\n",
       "    <tr style=\"text-align: right;\">\n",
       "      <th>G3</th>\n",
       "      <th>(-1.0, 9.9]</th>\n",
       "      <th>(9.9, 13.9]</th>\n",
       "      <th>(13.9, 20.0]</th>\n",
       "    </tr>\n",
       "    <tr>\n",
       "      <th>health</th>\n",
       "      <th></th>\n",
       "      <th></th>\n",
       "      <th></th>\n",
       "    </tr>\n",
       "  </thead>\n",
       "  <tbody>\n",
       "    <tr>\n",
       "      <th>1</th>\n",
       "      <td>10</td>\n",
       "      <td>18</td>\n",
       "      <td>19</td>\n",
       "    </tr>\n",
       "    <tr>\n",
       "      <th>2</th>\n",
       "      <td>15</td>\n",
       "      <td>16</td>\n",
       "      <td>14</td>\n",
       "    </tr>\n",
       "    <tr>\n",
       "      <th>3</th>\n",
       "      <td>31</td>\n",
       "      <td>44</td>\n",
       "      <td>16</td>\n",
       "    </tr>\n",
       "    <tr>\n",
       "      <th>4</th>\n",
       "      <td>24</td>\n",
       "      <td>26</td>\n",
       "      <td>16</td>\n",
       "    </tr>\n",
       "    <tr>\n",
       "      <th>5</th>\n",
       "      <td>50</td>\n",
       "      <td>61</td>\n",
       "      <td>35</td>\n",
       "    </tr>\n",
       "  </tbody>\n",
       "</table>\n",
       "</div>"
      ],
      "text/plain": [
       "G3      (-1.0, 9.9]  (9.9, 13.9]  (13.9, 20.0]\n",
       "health                                        \n",
       "1                10           18            19\n",
       "2                15           16            14\n",
       "3                31           44            16\n",
       "4                24           26            16\n",
       "5                50           61            35"
      ]
     },
     "execution_count": 26,
     "metadata": {},
     "output_type": "execute_result"
    }
   ],
   "source": [
    "# check the relationship between grade and family educational support by using pivot_table \n",
    "table_gh = mat_score.pivot_table('count', index='health', columns=grade_cut, aggfunc=np.sum)\n",
    "table_gh"
   ]
  },
  {
   "cell_type": "code",
   "execution_count": 27,
   "metadata": {},
   "outputs": [
    {
     "name": "stdout",
     "output_type": "stream",
     "text": [
      "G3            health\n",
      "(-1.0, 9.9]   1         10\n",
      "              2         15\n",
      "              3         31\n",
      "              4         24\n",
      "              5         50\n",
      "(9.9, 13.9]   1         18\n",
      "              2         16\n",
      "              3         44\n",
      "              4         26\n",
      "              5         61\n",
      "(13.9, 20.0]  1         19\n",
      "              2         14\n",
      "              3         16\n",
      "              4         16\n",
      "              5         35\n",
      "dtype: int64\n",
      "health\n",
      "1    10\n",
      "2    15\n",
      "3    31\n",
      "4    24\n",
      "5    50\n",
      "dtype: int64\n",
      "47.0\n"
     ]
    },
    {
     "data": {
      "text/plain": [
       "Text(0.5,1,'Health Level')"
      ]
     },
     "execution_count": 27,
     "metadata": {},
     "output_type": "execute_result"
    },
    {
     "data": {
      "image/png": "[encoded data removed]",
      "text/plain": [
       "<Figure size 432x288 with 1 Axes>"
      ]
     },
     "metadata": {},
     "output_type": "display_data"
    }
   ],
   "source": [
    "# Draw bar plot to show the relationship\n",
    "print (table_gh.unstack(level=0))\n",
    "tgh = table_gh.unstack(level=0)\n",
    "\n",
    "print (tgh[0])\n",
    "\n",
    "# number of students in each grade group\n",
    "tot_gh = np.sum(table_gh, axis=1)*1.0\n",
    "print (tot_gh[1])\n",
    "\n",
    "\n",
    "plt.bar([1, 7,  13], [tgh.iloc[0]/tot_gh[1], tgh.iloc[5]/tot_gh[1], tgh.iloc[10]/tot_gh[1]], color='blue',   alpha=0.7);\n",
    "plt.bar([2, 8,  14], [tgh.iloc[1]/tot_gh[2], tgh.iloc[6]/tot_gh[2], tgh.iloc[11]/tot_gh[2]], color='green',  alpha=0.7);\n",
    "plt.bar([3, 9,  15], [tgh.iloc[2]/tot_gh[3], tgh.iloc[7]/tot_gh[3], tgh.iloc[12]/tot_gh[3]], color='red',    alpha=0.7);\n",
    "plt.bar([4, 10, 16], [tgh.iloc[3]/tot_gh[4], tgh.iloc[8]/tot_gh[4], tgh.iloc[13]/tot_gh[4]], color='grey',   alpha=0.7);\n",
    "plt.bar([5, 11, 17], [tgh.iloc[4]/tot_gh[5], tgh.iloc[9]/tot_gh[5], tgh.iloc[14]/tot_gh[5]], color='yellow', alpha=0.7);\n",
    "\n",
    "plt.legend(['1', '2', '3', '4', '5'], loc=2);\n",
    "plt.xticks([3.5, 9.5, 15.5], ['Fail','Pass', 'Good'], size='medium');\n",
    "plt.title('Health Level')"
   ]
  },
  {
   "cell_type": "markdown",
   "metadata": {},
   "source": [
    "**Observation:** Health issues is not relevant"
   ]
  },
  {
   "cell_type": "markdown",
   "metadata": {},
   "source": [
    "#### Grade - Absence\n",
    "\n",
    "Seperate the grade of student into 21 levels, and check the relationship between grade and alcohol absense."
   ]
  },
  {
   "cell_type": "code",
   "execution_count": 29,
   "metadata": {},
   "outputs": [
    {
     "name": "stdout",
     "output_type": "stream",
     "text": [
      "G3\n",
      "(-0.5, 0.5]      0.000000\n",
      "(0.5, 1.5]            NaN\n",
      "(1.5, 2.5]            NaN\n",
      "(2.5, 3.5]            NaN\n",
      "(3.5, 4.5]      22.000000\n",
      "(4.5, 5.5]      11.428571\n",
      "(5.5, 6.5]       8.066667\n",
      "(6.5, 7.5]       6.777778\n",
      "(7.5, 8.5]       9.718750\n",
      "(8.5, 9.5]      10.142857\n",
      "(9.5, 10.5]      4.857143\n",
      "(10.5, 11.5]     7.510638\n",
      "(11.5, 12.5]     4.548387\n",
      "(12.5, 13.5]     7.483871\n",
      "(13.5, 14.5]     4.000000\n",
      "(14.5, 15.5]     2.969697\n",
      "(15.5, 16.5]     3.125000\n",
      "(16.5, 17.5]     3.666667\n",
      "(17.5, 18.5]     6.250000\n",
      "(18.5, 19.5]     4.200000\n",
      "(19.5, 20.5]     4.000000\n",
      "Name: absences, dtype: float64\n"
     ]
    },
    {
     "data": {
      "text/plain": [
       "Text(0,0.5,'absences')"
      ]
     },
     "execution_count": 29,
     "metadata": {},
     "output_type": "execute_result"
    },
    {
     "data": {
      "image/png": "[encoded data removed]",
      "text/plain": [
       "<Figure size 432x288 with 1 Axes>"
      ]
     },
     "metadata": {},
     "output_type": "display_data"
    }
   ],
   "source": [
    "# Seperate the grade into 21 levels\n",
    "grade_cut = pd.cut(mat_score['G3'], np.linspace(-0.5,20.5,22))\n",
    "mats_gba  = mat_score.groupby(grade_cut)['absences'].aggregate('mean')\n",
    "\n",
    "print (mats_gba)\n",
    "axes = mats_gba.plot()\n",
    "axes.set_xlabel(\"grade\")\n",
    "axes.set_ylabel(\"absences\")"
   ]
  },
  {
   "cell_type": "markdown",
   "metadata": {},
   "source": [
    "**Observation:** Students with higher grade are less likely to be absent."
   ]
  },
  {
   "cell_type": "markdown",
   "metadata": {},
   "source": [
    "#### Grade - Go Out with Friends\n",
    "\n",
    "Seperate the grade of student into 3 levels ( Fail, Pass, Good ), and check the relationship between grade and \"go out\"."
   ]
  },
  {
   "cell_type": "code",
   "execution_count": 30,
   "metadata": {},
   "outputs": [
    {
     "name": "stdout",
     "output_type": "stream",
     "text": [
      "G3     (-1.0, 9.9]  (9.9, 13.9]  (13.9, 20.0]\n",
      "goout                                        \n",
      "1                6           12             5\n",
      "2               24           49            30\n",
      "3               37           54            39\n",
      "4               38           31            17\n",
      "5               25           19             9\n"
     ]
    },
    {
     "data": {
      "text/plain": [
       "Text(0.5,1,'Go Out Level')"
      ]
     },
     "execution_count": 30,
     "metadata": {},
     "output_type": "execute_result"
    },
    {
     "data": {
      "image/png": "[encoded data removed]",
      "text/plain": [
       "<Figure size 432x288 with 1 Axes>"
      ]
     },
     "metadata": {},
     "output_type": "display_data"
    }
   ],
   "source": [
    "# Seperate the grade into 3 levels Fail(0<x<10), Pass(10<=x<14), Good(14<=x<=20) \n",
    "grade_cut = pd.cut(mat_score['G3'], [-1, 9.9, 13.9, 20])\n",
    "mat_score['count'] = 1\n",
    "\n",
    "# check the relationship between grade and family educational support by using pivot_table \n",
    "table_ggo = mat_score.pivot_table('count', index='goout', columns=grade_cut, aggfunc=np.sum)\n",
    "print(table_ggo)\n",
    "\n",
    "# Draw bar plot to show the relationship\n",
    "tgo = table_ggo.unstack(level=0)\n",
    "# print (tgo)\n",
    "\n",
    "# number of students in each grade group\n",
    "tot_ggo = np.sum(table_ggo, axis=1)*1.0\n",
    "\n",
    "\n",
    "plt.bar([1, 7,  13], [tgo.iloc[0]/tot_ggo[1], tgo.iloc[5]/tot_ggo[1], tgo.iloc[10]/tot_ggo[1]], color='blue',   alpha=0.7);\n",
    "plt.bar([2, 8,  14], [tgo.iloc[1]/tot_ggo[2], tgo.iloc[6]/tot_ggo[2], tgo.iloc[11]/tot_ggo[2]], color='green',  alpha=0.7);\n",
    "plt.bar([3, 9,  15], [tgo.iloc[2]/tot_ggo[3], tgo.iloc[7]/tot_ggo[3], tgo.iloc[12]/tot_ggo[3]], color='red',    alpha=0.7);\n",
    "plt.bar([4, 10, 16], [tgo.iloc[3]/tot_ggo[4], tgo.iloc[8]/tot_ggo[4], tgo.iloc[13]/tot_ggo[4]], color='grey',   alpha=0.7);\n",
    "plt.bar([5, 11, 17], [tgo.iloc[4]/tot_ggo[5], tgo.iloc[9]/tot_ggo[5], tgo.iloc[14]/tot_ggo[5]], color='yellow', alpha=0.7);\n",
    "\n",
    "plt.legend(['1', '2', '3', '4', '5'], loc=2);\n",
    "plt.xticks([3, 9, 15], ['Fail','Pass', 'Good'], size='medium');\n",
    "plt.title('Go Out Level')"
   ]
  },
  {
   "cell_type": "markdown",
   "metadata": {},
   "source": [
    "**Observation** The number of students who pass go out with friend less than the number of students who fail."
   ]
  },
  {
   "cell_type": "markdown",
   "metadata": {},
   "source": [
    "#### Grade - Family Relationship\n",
    "\n",
    "Seperate the grade of student into 3 levels ( Fail, Pass, Good ), and check the relation between grade and family relationship."
   ]
  },
  {
   "cell_type": "code",
   "execution_count": 31,
   "metadata": {},
   "outputs": [
    {
     "name": "stdout",
     "output_type": "stream",
     "text": [
      "G3      (-1.0, 9.9]  (9.9, 13.9]  (13.9, 20.0]\n",
      "famrel                                        \n",
      "1                 2            5             1\n",
      "2                 7            6             5\n",
      "3                26           27            15\n",
      "4                64           85            46\n",
      "5                31           42            33\n"
     ]
    },
    {
     "data": {
      "text/plain": [
       "Text(0.5,1,'Level of Family Relationship')"
      ]
     },
     "execution_count": 31,
     "metadata": {},
     "output_type": "execute_result"
    },
    {
     "data": {
      "image/png": "[encoded data removed]",
      "text/plain": [
       "<Figure size 432x288 with 1 Axes>"
      ]
     },
     "metadata": {},
     "output_type": "display_data"
    }
   ],
   "source": [
    "# Seperate the grade into 3 levels Fail(0<x<10), Pass(10<=x<14), Good(14<=x<=20) \n",
    "grade_cut = pd.cut(mat_score['G3'], [-1, 9.9, 13.9, 20])\n",
    "mat_score['count'] = 1\n",
    "\n",
    "\n",
    "# check the relationship between grade and family educational support by using pivot_table \n",
    "table_gfr = mat_score.pivot_table('count', index='famrel', columns=grade_cut, aggfunc=np.sum)\n",
    "print(table_gfr)\n",
    "\n",
    "\n",
    "# Draw bar plot to show the relationship\n",
    "tgfr = table_gfr.unstack(level=0)\n",
    "\n",
    "\n",
    "# number of students in each grade group\n",
    "tot_gfr = np.sum(table_gfr, axis=1)*1.0\n",
    "\n",
    "plt.bar([1, 7,  13], [tgfr.iloc[0]/tot_gfr[1], tgfr.iloc[5]/tot_gfr[1], tgfr.iloc[10]/tot_gfr[1]], color='blue',   alpha=0.7);\n",
    "plt.bar([2, 8,  14], [tgfr.iloc[1]/tot_gfr[2], tgfr.iloc[6]/tot_gfr[2], tgfr.iloc[11]/tot_gfr[2]], color='green',  alpha=0.7);\n",
    "plt.bar([3, 9,  15], [tgfr.iloc[2]/tot_gfr[3], tgfr.iloc[7]/tot_gfr[3], tgfr.iloc[12]/tot_gfr[3]], color='red',    alpha=0.7);\n",
    "plt.bar([4, 10, 16], [tgfr.iloc[3]/tot_gfr[4], tgfr.iloc[8]/tot_gfr[4], tgfr.iloc[13]/tot_gfr[4]], color='grey',   alpha=0.7);\n",
    "plt.bar([5, 11, 17], [tgfr.iloc[4]/tot_gfr[5], tgfr.iloc[9]/tot_gfr[5], tgfr.iloc[14]/tot_gfr[5]], color='yellow', alpha=0.7);\n",
    "\n",
    "plt.legend(['1', '2', '3', '4', '5'], loc=2);\n",
    "plt.xticks([3.5, 9.5, 15.5], ['Fail','Pass', 'Good'], size='medium');\n",
    "plt.title('Level of Family Relationship')"
   ]
  },
  {
   "cell_type": "markdown",
   "metadata": {},
   "source": [
    "**Observation:** Larger % of students with good grades have a family relation rating of 5."
   ]
  },
  {
   "cell_type": "markdown",
   "metadata": {},
   "source": [
    "#### Grade - Alcohol Consumption\n",
    "\n",
    "Seperate the grade of student into 3 levels ( Fail, Pass, Good ), and check the relation between grade and alcohol consumption."
   ]
  },
  {
   "cell_type": "code",
   "execution_count": 32,
   "metadata": {},
   "outputs": [
    {
     "name": "stdout",
     "output_type": "stream",
     "text": [
      "G3    (-1.0, 9.9]  (9.9, 13.9]  (13.9, 20.0]\n",
      "Walc                                        \n",
      "1              50           52            49\n",
      "2              25           37            23\n",
      "3              25           36            19\n",
      "4              20           26             5\n",
      "5              10           14             4\n"
     ]
    },
    {
     "data": {
      "text/plain": [
       "Text(0.5,1,'Weekend Alcohol Consumption')"
      ]
     },
     "execution_count": 32,
     "metadata": {},
     "output_type": "execute_result"
    },
    {
     "data": {
      "image/png": "[encoded data removed]",
      "text/plain": [
       "<Figure size 432x288 with 1 Axes>"
      ]
     },
     "metadata": {},
     "output_type": "display_data"
    }
   ],
   "source": [
    "# Seperate the grade into 3 levels Fail(0<x<10), Pass(10<=x<14), Good(14<=x<=20) \n",
    "grade_cut = pd.cut(mat_score['G3'], [-1, 9.9, 13.9, 20])\n",
    "mat_score['count'] = 1\n",
    "\n",
    "\n",
    "# check the relationship between grade and family educational support by using pivot_table \n",
    "table_gwalc = mat_score.pivot_table('count', index='Walc', columns=grade_cut, aggfunc=np.sum)\n",
    "print(table_gwalc)\n",
    "\n",
    "\n",
    "# Draw bar plot to show the relationship\n",
    "tgwalc = table_gwalc.unstack(level=0)\n",
    "\n",
    "\n",
    "# number of students in each grade group\n",
    "tot_gwalc = np.sum(table_gwalc, axis=1)*1.0\n",
    "\n",
    "plt.bar([1, 7,  13], [tgwalc.iloc[0]/tot_gwalc[1], tgwalc.iloc[5]/tot_gwalc[1], tgwalc.iloc[10]/tot_gwalc[1]], color='blue',   alpha=0.7);\n",
    "plt.bar([2, 8,  14], [tgwalc.iloc[1]/tot_gwalc[2], tgwalc.iloc[6]/tot_gwalc[2], tgwalc.iloc[11]/tot_gwalc[2]], color='green',  alpha=0.7);\n",
    "plt.bar([3, 9,  15], [tgwalc.iloc[2]/tot_gwalc[3], tgwalc.iloc[7]/tot_gwalc[3], tgwalc.iloc[12]/tot_gwalc[3]], color='red',    alpha=0.7);\n",
    "plt.bar([4, 10, 16], [tgwalc.iloc[3]/tot_gwalc[4], tgwalc.iloc[8]/tot_gwalc[4], tgwalc.iloc[13]/tot_gwalc[4]], color='grey',   alpha=0.7);\n",
    "plt.bar([5, 11, 17], [tgwalc.iloc[4]/tot_gwalc[5], tgwalc.iloc[9]/tot_gwalc[5], tgwalc.iloc[14]/tot_gwalc[5]], color='yellow', alpha=0.7);\n",
    "\n",
    "plt.legend(['1', '2', '3', '4', '5'], loc=2);\n",
    "plt.xticks([3.5, 9.5, 15.5], ['Fail','Pass', 'Good'], size='medium');\n",
    "plt.title('Weekend Alcohol Consumption')"
   ]
  },
  {
   "cell_type": "code",
   "execution_count": 33,
   "metadata": {},
   "outputs": [
    {
     "name": "stdout",
     "output_type": "stream",
     "text": [
      "G3    (-1.0, 9.9]  (9.9, 13.9]  (13.9, 20.0]\n",
      "Dalc                                        \n",
      "1            83.0        110.0          83.0\n",
      "2            31.0         31.0          13.0\n",
      "3             9.0         13.0           4.0\n",
      "4             5.0          4.0           0.0\n",
      "5             2.0          7.0           0.0\n"
     ]
    },
    {
     "data": {
      "text/plain": [
       "Text(0.5,1,'Weekday Alcohol Consumption')"
      ]
     },
     "execution_count": 33,
     "metadata": {},
     "output_type": "execute_result"
    },
    {
     "data": {
      "image/png": "[encoded data removed]",
      "text/plain": [
       "<Figure size 432x288 with 1 Axes>"
      ]
     },
     "metadata": {},
     "output_type": "display_data"
    }
   ],
   "source": [
    "# Seperate the grade into 3 levels Fail(0<x<10), Pass(10<=x<14), Good(14<=x<=20) \n",
    "grade_cut = pd.cut(mat_score['G3'], [-1, 9.9, 13.9, 20])\n",
    "mat_score['count'] = 1\n",
    "\n",
    "\n",
    "# check the relationship between grade and family educational support by using pivot_table \n",
    "table_gdalc = mat_score.pivot_table('count', index='Dalc', columns=grade_cut, aggfunc=np.sum)\n",
    "table_gdalc = table_gdalc.fillna(0)\n",
    "print(table_gdalc)\n",
    "\n",
    "\n",
    "# Draw bar plot to show the relationship\n",
    "tgdalc = table_gdalc.unstack(level=0)\n",
    "\n",
    "\n",
    "# number of students in each grade group\n",
    "tot_gdalc = np.sum(table_gdalc, axis=1)*1.0\n",
    "\n",
    "plt.bar([1, 7,  13], [tgdalc.iloc[0]/tot_gdalc[1], tgdalc.iloc[5]/tot_gdalc[1], tgdalc.iloc[10]/tot_gdalc[1]], color='blue',   alpha=0.7);\n",
    "plt.bar([2, 8,  14], [tgdalc.iloc[1]/tot_gdalc[2], tgdalc.iloc[6]/tot_gdalc[2], tgdalc.iloc[11]/tot_gdalc[2]], color='green',  alpha=0.7);\n",
    "plt.bar([3, 9,  15], [tgdalc.iloc[2]/tot_gdalc[3], tgdalc.iloc[7]/tot_gdalc[3], tgdalc.iloc[12]/tot_gdalc[3]], color='red',    alpha=0.7);\n",
    "plt.bar([4, 10, 16], [tgdalc.iloc[3]/tot_gdalc[4], tgdalc.iloc[8]/tot_gdalc[4], tgdalc.iloc[13]/tot_gdalc[4]], color='grey',   alpha=0.7);\n",
    "plt.bar([5, 11, 17], [tgdalc.iloc[4]/tot_gdalc[5], tgdalc.iloc[9]/tot_gdalc[5], tgdalc.iloc[14]/tot_gdalc[5]], color='yellow', alpha=0.7);\n",
    "\n",
    "plt.legend(['1', '2', '3', '4', '5'], loc=1);\n",
    "plt.xticks([3.5, 9.5, 15.5], ['Fail','Pass', 'Good'], size='medium');\n",
    "plt.title('Weekday Alcohol Consumption')"
   ]
  },
  {
   "cell_type": "code",
   "execution_count": 34,
   "metadata": {},
   "outputs": [
    {
     "name": "stdout",
     "output_type": "stream",
     "text": [
      "G3    (-1.0, 9.9]  (9.9, 13.9]  (13.9, 20.0]\n",
      "Dalc                                        \n",
      "1           133.0        162.0         132.0\n",
      "2            56.0         68.0          36.0\n",
      "3            34.0         49.0          23.0\n",
      "4            25.0         30.0           5.0\n",
      "5            12.0         21.0           4.0\n"
     ]
    },
    {
     "data": {
      "text/plain": [
       "Text(0.5,1,'Alcohol Consumption')"
      ]
     },
     "execution_count": 34,
     "metadata": {},
     "output_type": "execute_result"
    },
    {
     "data": {
      "image/png": "[encoded data removed]",
      "text/plain": [
       "<Figure size 432x288 with 1 Axes>"
      ]
     },
     "metadata": {},
     "output_type": "display_data"
    }
   ],
   "source": [
    "# Seperate the grade into 3 levels Fail(0<x<10), Pass(10<=x<14), Good(14<=x<=20) \n",
    "grade_cut = pd.cut(mat_score['G3'], [-1, 9.9, 13.9, 20])\n",
    "mat_score['count'] = 1\n",
    "\n",
    "\n",
    "# check the relationship between grade and family educational support by using pivot_table \n",
    "# table_gall = mat_score.pivot_table('count', index='Dalc', columns=grade_cut, aggfunc=np.sum)\n",
    "table_gall = table_gdalc + table_gwalc\n",
    "print(table_gall)\n",
    "\n",
    "\n",
    "# Draw bar plot to show the relationship\n",
    "tgall = table_gall.unstack(level=0)\n",
    "\n",
    "\n",
    "# number of students in each grade group\n",
    "tot_gall = np.sum(table_gall, axis=1)*1.0\n",
    "\n",
    "plt.bar([1, 7,  13], [tgall.iloc[0]/tot_gall[1], tgall.iloc[5]/tot_gall[1], tgall.iloc[10]/tot_gall[1]], color='blue',   alpha=0.7);\n",
    "plt.bar([2, 8,  14], [tgall.iloc[1]/tot_gall[2], tgall.iloc[6]/tot_gall[2], tgall.iloc[11]/tot_gall[2]], color='green',  alpha=0.7);\n",
    "plt.bar([3, 9,  15], [tgall.iloc[2]/tot_gall[3], tgall.iloc[7]/tot_gall[3], tgall.iloc[12]/tot_gall[3]], color='red',    alpha=0.7);\n",
    "plt.bar([4, 10, 16], [tgall.iloc[3]/tot_gall[4], tgall.iloc[8]/tot_gall[4], tgall.iloc[13]/tot_gall[4]], color='grey',   alpha=0.7);\n",
    "plt.bar([5, 11, 17], [tgall.iloc[4]/tot_gall[5], tgall.iloc[9]/tot_gall[5], tgall.iloc[14]/tot_gall[5]], color='yellow', alpha=0.7);\n",
    "\n",
    "plt.legend(['1', '2', '3', '4', '5'], loc=1);\n",
    "plt.xticks([3.5, 9.5, 15.5], ['Fail','Pass', 'Good'], size='medium');\n",
    "plt.title('Alcohol Consumption')"
   ]
  },
  {
   "cell_type": "markdown",
   "metadata": {},
   "source": [
    "**Observation:** More students with good grades have an Weekend/Weekday alcohol consumption of grades 1-3."
   ]
  },
  {
   "cell_type": "markdown",
   "metadata": {},
   "source": [
    "#### Grade - Study Time\n",
    "\n",
    "Seperate the grade of student into 3 levels ( Fail, Pass, Good ), and check the relation between grade and study time."
   ]
  },
  {
   "cell_type": "code",
   "execution_count": 35,
   "metadata": {},
   "outputs": [
    {
     "name": "stdout",
     "output_type": "stream",
     "text": [
      "G3         (-1.0, 9.9]  (9.9, 13.9]  (13.9, 20.0]\n",
      "studytime                                        \n",
      "1                   37           43            25\n",
      "2                   70           89            39\n",
      "3                   16           23            26\n",
      "4                    7           10            10\n"
     ]
    },
    {
     "data": {
      "text/plain": [
       "Text(0.5,1,'Study Time')"
      ]
     },
     "execution_count": 35,
     "metadata": {},
     "output_type": "execute_result"
    },
    {
     "data": {
      "image/png": "[encoded data removed]",
      "text/plain": [
       "<Figure size 432x288 with 1 Axes>"
      ]
     },
     "metadata": {},
     "output_type": "display_data"
    }
   ],
   "source": [
    "# Seperate the grade into 3 levels Fail(0<x<10), Pass(10<=x<14), Good(14<=x<=20) \n",
    "grade_cut = pd.cut(mat_score['G3'], [-1, 9.9, 13.9, 20])\n",
    "mat_score['count'] = 1\n",
    "\n",
    "\n",
    "# check the relationship between grade and family educational support by using pivot_table \n",
    "table_gst = mat_score.pivot_table('count', index='studytime', columns=grade_cut, aggfunc=np.sum)\n",
    "table_gst = table_gst.fillna(0)\n",
    "print (table_gst)\n",
    "\n",
    "\n",
    "# Draw bar plot to show the relationship\n",
    "tgst = table_gst.unstack(level=0)\n",
    "\n",
    "\n",
    "# number of students in each grade group\n",
    "tot_gst = np.sum(table_gst, axis=1)*1.0\n",
    "\n",
    "plt.bar([1, 7,  13], [tgst.iloc[0]/tot_gst[1], tgst.iloc[4]/tot_gst[1], tgst.iloc[8]/tot_gst[1]],  color='blue',   alpha=0.7);\n",
    "plt.bar([2, 8,  14], [tgst.iloc[1]/tot_gst[2], tgst.iloc[5]/tot_gst[2], tgst.iloc[9]/tot_gst[2]],  color='green',  alpha=0.7);\n",
    "plt.bar([3, 9,  15], [tgst.iloc[2]/tot_gst[3], tgst.iloc[6]/tot_gst[3], tgst.iloc[10]/tot_gst[3]], color='red',    alpha=0.7);\n",
    "plt.bar([4, 10, 16], [tgst.iloc[3]/tot_gst[4], tgst.iloc[7]/tot_gst[4], tgst.iloc[11]/tot_gst[4]], color='grey',   alpha=0.7);\n",
    "\n",
    "\n",
    "plt.legend(['1', '2', '3', '4'], loc=1);\n",
    "plt.xticks([3.5, 9.5, 15.5], ['Fail','Pass', 'Good'], size='medium');\n",
    "plt.title('Study Time')"
   ]
  },
  {
   "cell_type": "markdown",
   "metadata": {},
   "source": [
    "**Observation** Students with study time score 1-2 are more likely to fail; students with study time score 3-4 are more likely to achieve good grades."
   ]
  },
  {
   "cell_type": "markdown",
   "metadata": {},
   "source": [
    "#### Grade - Travel Time\n",
    "\n",
    "Seperate the grade of student into 3 levels ( Fail, Pass, Good ), and check the relation between grade and travel time."
   ]
  },
  {
   "cell_type": "code",
   "execution_count": 36,
   "metadata": {},
   "outputs": [
    {
     "name": "stdout",
     "output_type": "stream",
     "text": [
      "G3          (-1.0, 9.9]  (9.9, 13.9]  (13.9, 20.0]\n",
      "traveltime                                        \n",
      "1                  80.0        102.0          75.0\n",
      "2                  39.0         46.0          22.0\n",
      "3                   8.0         12.0           3.0\n",
      "4                   3.0          5.0           0.0\n"
     ]
    },
    {
     "data": {
      "text/plain": [
       "Text(0.5,1,'Travel Time')"
      ]
     },
     "execution_count": 36,
     "metadata": {},
     "output_type": "execute_result"
    },
    {
     "data": {
      "image/png": "[encoded data removed]",
      "text/plain": [
       "<Figure size 432x288 with 1 Axes>"
      ]
     },
     "metadata": {},
     "output_type": "display_data"
    }
   ],
   "source": [
    "# Seperate the grade into 3 levels Fail(0<x<10), Pass(10<=x<14), Good(14<=x<=20) \n",
    "grade_cut = pd.cut(mat_score['G3'], [-1, 9.9, 13.9, 20])\n",
    "mat_score['count'] = 1\n",
    "\n",
    "\n",
    "# check the relationship between grade and family educational support by using pivot_table \n",
    "table_gtt = mat_score.pivot_table('count', index='traveltime', columns=grade_cut, aggfunc=np.sum)\n",
    "table_gtt = table_gtt.fillna(0)\n",
    "print(table_gtt)\n",
    "\n",
    "\n",
    "# Draw bar plot to show the relationship\n",
    "tgtt = table_gtt.unstack(level=0)\n",
    "\n",
    "\n",
    "# number of students in each grade group\n",
    "tot_gtt = np.sum(table_gtt, axis=1)*1.0\n",
    "\n",
    "plt.bar([1, 7,  13], [tgtt.iloc[0]/tot_gtt[1], tgtt.iloc[4]/tot_gtt[1], tgtt.iloc[8]/tot_gtt[1]], color='blue',   alpha=0.7);\n",
    "plt.bar([2, 8,  14], [tgtt.iloc[1]/tot_gtt[2], tgtt.iloc[5]/tot_gtt[2], tgtt.iloc[9]/tot_gtt[2]], color='green',  alpha=0.7);\n",
    "plt.bar([3, 9,  15], [tgtt.iloc[2]/tot_gtt[3], tgtt.iloc[6]/tot_gtt[3], tgtt.iloc[10]/tot_gtt[3]], color='red',    alpha=0.7);\n",
    "plt.bar([4, 10, 16], [tgtt.iloc[3]/tot_gtt[4], tgtt.iloc[7]/tot_gtt[4], tgtt.iloc[11]/tot_gtt[4]], color='grey',   alpha=0.7);\n",
    "\n",
    "\n",
    "plt.legend(['1', '2', '3', '4'], loc=1);\n",
    "plt.xticks([3.5, 9.5, 15.5], ['Fail','Pass', 'Good'], size='medium');\n",
    "plt.title('Travel Time')"
   ]
  },
  {
   "cell_type": "markdown",
   "metadata": {},
   "source": [
    "**Observation** Students who achieve good grades have the higher % that have a travel time score of only 1."
   ]
  },
  {
   "cell_type": "markdown",
   "metadata": {},
   "source": [
    "### Actionable Insights\n",
    "1. Avoid absences\n",
    "2. Avoid alcoholism\n",
    "3. Try to have more time to study more (maybe by lowering your travel time)\n",
    "4. Have good family relations (less time with friends and romantic relationships)\n",
    "5. Have good access to internet\n",
    "\n",
    "Student failures may be a combination of several factors. Today we only checked each information as individual entities. Most sophisticated models shall learn how to combine these information in order to do failure prediction."
   ]
  }
 ],
 "metadata": {
  "anaconda-cloud": {},
  "celltoolbar": "Raw Cell Format",
  "kernelspec": {
   "display_name": "Python 3",
   "language": "python",
   "name": "python3"
  },
  "language_info": {
   "codemirror_mode": {
    "name": "ipython",
    "version": 3
   },
   "file_extension": ".py",
   "mimetype": "text/x-python",
   "name": "python",
   "nbconvert_exporter": "python",
   "pygments_lexer": "ipython3",
   "version": "3.6.5"
  }
 },
 "nbformat": 4,
 "nbformat_minor": 2
}
