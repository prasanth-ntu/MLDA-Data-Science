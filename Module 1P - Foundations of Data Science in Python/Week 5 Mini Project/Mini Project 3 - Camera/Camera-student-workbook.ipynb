{
 "cells": [
  {
   "cell_type": "markdown",
   "metadata": {},
   "source": [
    "# Week 5 - Mini-Project"
   ]
  },
  {
   "cell_type": "markdown",
   "metadata": {},
   "source": [
    "## <font color='#1A9FFF'>Case study: Camera Property</font>"
   ]
  },
  {
   "cell_type": "markdown",
   "metadata": {},
   "source": [
    "We have a dataset of about 1000 cameras with 13 properties such as weight, focal length, price, etc. These cameras belong to 12 companys such as Canon, HP, Sony, etc, each company is represented by a code, refer to the first column of the dataset.\n",
    "\n",
    "**The project aims to:**\n",
    "* For each company/camera series, what is the trend of  different properties over time?\n",
    "* For all cameras released, what is the trend of different properties over time?\n",
    "* Compare the properties of cameras produced by different companies.\n",
    "* Compare the properties of cameras produced by different companies in some years."
   ]
  },
  {
   "cell_type": "markdown",
   "metadata": {},
   "source": [
    "## <font color='#1A9FFF'>Sample Solution</font>\n",
    "#### Import Libraries and Dataset"
   ]
  },
  {
   "cell_type": "code",
   "execution_count": null,
   "metadata": {
    "ExecuteTime": {
     "end_time": "2019-08-08T02:27:25.583450Z",
     "start_time": "2019-08-08T02:27:25.571453Z"
    }
   },
   "outputs": [],
   "source": [
    "import numpy  as np\n",
    "import pandas as pd              # import pandas for data wrangling\n",
    "import matplotlib.pyplot as plt  # import matplotlib for ploting\n",
    "%matplotlib inline\n",
    "\n",
    "\n",
    "# read camera dataset\n",
    "camera =                      # read data\n",
    "    \n",
    "camera.head()"
   ]
  },
  {
   "cell_type": "markdown",
   "metadata": {},
   "source": [
    "###  <font color='#1A9FFF'>1. Brief Summary of Dataset</font>\n",
    "After reading in the data, we first do some simple exploration, check available columns, data structure, and data summary.\n",
    "\n",
    "#### Check the size of the dataset"
   ]
  },
  {
   "cell_type": "code",
   "execution_count": null,
   "metadata": {
    "ExecuteTime": {
     "end_time": "2019-08-08T02:04:25.803094Z",
     "start_time": "2019-08-08T02:04:25.787100Z"
    }
   },
   "outputs": [],
   "source": [
    "# Check the size of the camera datasets\n"
   ]
  },
  {
   "cell_type": "markdown",
   "metadata": {},
   "source": [
    "As we can see, there are `956` camera models recored in this camera datasets, and each model has `14` attributes"
   ]
  },
  {
   "cell_type": "markdown",
   "metadata": {},
   "source": [
    "#### Check the data structure "
   ]
  },
  {
   "cell_type": "code",
   "execution_count": null,
   "metadata": {
    "ExecuteTime": {
     "end_time": "2019-08-08T02:04:26.517426Z",
     "start_time": "2019-08-08T02:04:26.497433Z"
    }
   },
   "outputs": [],
   "source": [
    "# Check the data structure\n"
   ]
  },
  {
   "cell_type": "markdown",
   "metadata": {},
   "source": [
    "From the dataset check we can see that, there are missing data in the involved datasets. The related attributes are `\"Macro Focus Range\"`, `\"Stroage Included\"`, `\"Weight\"`, `\"Dimensions\"`."
   ]
  },
  {
   "cell_type": "markdown",
   "metadata": {},
   "source": [
    "#### Check attributes"
   ]
  },
  {
   "cell_type": "code",
   "execution_count": null,
   "metadata": {
    "ExecuteTime": {
     "end_time": "2019-08-08T02:04:28.666230Z",
     "start_time": "2019-08-08T02:04:28.646237Z"
    }
   },
   "outputs": [],
   "source": [
    "# Check the main attributes of the first 10 cameras\n",
    "\n"
   ]
  },
  {
   "cell_type": "markdown",
   "metadata": {},
   "source": [
    "#### Brief Summary"
   ]
  },
  {
   "cell_type": "code",
   "execution_count": null,
   "metadata": {
    "ExecuteTime": {
     "end_time": "2019-08-08T02:04:30.082709Z",
     "start_time": "2019-08-08T02:04:29.974719Z"
    }
   },
   "outputs": [],
   "source": [
    "# Briefly summarize the distribution of the attributes\n"
   ]
  },
  {
   "cell_type": "markdown",
   "metadata": {},
   "source": [
    "###  <font color='#1A9FFF'>2. Check the Data</font>\n",
    "Check the data to see whether there is any wrong data in the dataset.\n",
    "\n",
    "As we can see from the Brief Summary, the data listed is in good shape. Therefore we do not perform any data checking here."
   ]
  },
  {
   "cell_type": "markdown",
   "metadata": {},
   "source": [
    "###  <font color='#1A9FFF'>3. Data Observation</font>\n",
    "#### Campany Distribution"
   ]
  },
  {
   "cell_type": "markdown",
   "metadata": {},
   "source": [
    "The .csv dataset doesn't show the company name that corresponds to the `Company Code`. Please refer the table below:\n",
    "\n",
    "| Company Name | Company Code |\n",
    "|:------------:|:------------:|\n",
    "| canon | 1 |\n",
    "| casio | 2 |\n",
    "| fujifilm | 3 |\n",
    "| hp | 4 |\n",
    "| kodak | 5 |\n",
    "| nikon | 6 |\n",
    "| olympus | 7 |\n",
    "| panasonic | 8 |\n",
    "| pentax | 9 |\n",
    "| ricoh | 10 |\n",
    "| samsung | 11 |\n",
    "| sony | 12 |"
   ]
  },
  {
   "cell_type": "code",
   "execution_count": null,
   "metadata": {
    "ExecuteTime": {
     "end_time": "2019-08-08T02:05:37.435290Z",
     "start_time": "2019-08-08T02:05:37.383324Z"
    }
   },
   "outputs": [],
   "source": [
    "# get data of 12 companies\n",
    "cam_canon = camera[ camera['Company Code'] == 1 ].copy()\n",
    "cam_casio = \n",
    "cam_fujif = \n",
    "cam_hp    = \n",
    "cam_kodak = \n",
    "cam_nikon = \n",
    "cam_olymp = \n",
    "cam_panas = \n",
    "cam_penta = \n",
    "cam_ricoh = \n",
    "cam_samsu = \n",
    "cam_sony  = \n",
    "\n",
    "\n",
    "# get the number of camera models of each company\n",
    "s_canon = cam_canon.shape[0]\n",
    "s_casio = \n",
    "s_fujif = \n",
    "s_hp    = \n",
    "s_kodak = \n",
    "s_nikon = \n",
    "s_olymp = \n",
    "s_panas = \n",
    "s_penta = \n",
    "s_ricoh = \n",
    "s_samsu = \n",
    "s_sony  = \n",
    "\n",
    "\n",
    "\n",
    "# create a dictionary recording the number of models of each company\n"
   ]
  },
  {
   "cell_type": "markdown",
   "metadata": {},
   "source": [
    "###  <font color='#1A9FFF'>4. Exploratory Data Analysis</font>"
   ]
  },
  {
   "cell_type": "markdown",
   "metadata": {},
   "source": [
    "#### Check the trend of produce over time for different companies"
   ]
  },
  {
   "cell_type": "markdown",
   "metadata": {},
   "source": [
    "The cell below shows how to see the trend (No of products released) of a particular product (Canon in this case) over the years!"
   ]
  },
  {
   "cell_type": "code",
   "execution_count": null,
   "metadata": {
    "ExecuteTime": {
     "end_time": "2019-08-08T02:09:23.696718Z",
     "start_time": "2019-08-08T02:09:23.376804Z"
    }
   },
   "outputs": [],
   "source": [
    "# Trend of product of Canon\n",
    "trend_canon = cam_canon.groupby('Release date').size()\n",
    "print (trend_canon)\n",
    "\n",
    "\n",
    "# draw bar plot\n",
    "trend_canon.plot.bar(alpha=0.5)\n",
    "plt.ylabel('Number of Products')\n",
    "plt.title('Trend of Canon')"
   ]
  },
  {
   "cell_type": "code",
   "execution_count": null,
   "metadata": {
    "ExecuteTime": {
     "end_time": "2019-08-08T02:10:06.341867Z",
     "start_time": "2019-08-08T02:10:06.025894Z"
    }
   },
   "outputs": [],
   "source": [
    "# Trend of product of Olympus\n",
    "\n",
    "\n",
    "# draw bar plot\n"
   ]
  },
  {
   "cell_type": "code",
   "execution_count": null,
   "metadata": {
    "ExecuteTime": {
     "end_time": "2019-08-08T02:10:06.653789Z",
     "start_time": "2019-08-08T02:10:06.341867Z"
    }
   },
   "outputs": [],
   "source": [
    "# Trend of product of Sony\n",
    "\n",
    "\n",
    "# draw bar plot\n"
   ]
  },
  {
   "cell_type": "markdown",
   "metadata": {},
   "source": [
    "**Observation**: "
   ]
  },
  {
   "cell_type": "markdown",
   "metadata": {},
   "source": [
    "#### Check the trend of price over time for different companies"
   ]
  },
  {
   "cell_type": "code",
   "execution_count": null,
   "metadata": {
    "ExecuteTime": {
     "end_time": "2019-08-08T02:10:13.825017Z",
     "start_time": "2019-08-08T02:10:13.489646Z"
    }
   },
   "outputs": [],
   "source": [
    "# Trend of prices of Sony\n",
    "\n",
    "\n",
    "# draw bar plot\n"
   ]
  },
  {
   "cell_type": "code",
   "execution_count": null,
   "metadata": {
    "ExecuteTime": {
     "end_time": "2019-08-08T02:10:14.464917Z",
     "start_time": "2019-08-08T02:10:14.200923Z"
    }
   },
   "outputs": [],
   "source": [
    "# Trend of prices of FujiFilm\n",
    "\n",
    "\n",
    "\n",
    "# draw bar plot\n"
   ]
  },
  {
   "cell_type": "code",
   "execution_count": null,
   "metadata": {
    "ExecuteTime": {
     "end_time": "2019-08-08T02:10:22.680511Z",
     "start_time": "2019-08-08T02:10:22.423163Z"
    }
   },
   "outputs": [],
   "source": [
    "# Trend of prices of Samsung\n",
    "\n",
    "\n",
    "\n",
    "# draw bar plot\n"
   ]
  },
  {
   "cell_type": "markdown",
   "metadata": {},
   "source": [
    "**Observation**: "
   ]
  },
  {
   "cell_type": "markdown",
   "metadata": {},
   "source": [
    "### Check the trend of some other properties over time for different companies"
   ]
  },
  {
   "cell_type": "code",
   "execution_count": null,
   "metadata": {
    "ExecuteTime": {
     "end_time": "2019-08-08T02:10:31.277467Z",
     "start_time": "2019-08-08T02:10:30.951469Z"
    }
   },
   "outputs": [],
   "source": [
    "# Trend of Max Resolution of Kodak\n",
    "\n",
    "\n",
    "\n",
    "# draw bar plot\n"
   ]
  },
  {
   "cell_type": "code",
   "execution_count": null,
   "metadata": {
    "ExecuteTime": {
     "end_time": "2019-08-08T02:10:47.212825Z",
     "start_time": "2019-08-08T02:10:46.914326Z"
    }
   },
   "outputs": [],
   "source": [
    "# Trend of Max Resolution of Nikon\n",
    "\n",
    "\n",
    "# draw bar plot\n"
   ]
  },
  {
   "cell_type": "code",
   "execution_count": null,
   "metadata": {
    "ExecuteTime": {
     "end_time": "2019-08-08T02:10:47.672067Z",
     "start_time": "2019-08-08T02:10:47.356785Z"
    }
   },
   "outputs": [],
   "source": [
    "# Trend of Zoom of Kodak\n",
    "\n",
    "\n",
    "\n",
    "# draw bar plot\n"
   ]
  },
  {
   "cell_type": "code",
   "execution_count": null,
   "metadata": {
    "ExecuteTime": {
     "end_time": "2019-08-08T02:10:48.744783Z",
     "start_time": "2019-08-08T02:10:48.434628Z"
    }
   },
   "outputs": [],
   "source": [
    "# Trend of Weight of Olympus\n",
    "\n",
    "\n",
    "# draw bar plot\n"
   ]
  },
  {
   "cell_type": "code",
   "execution_count": null,
   "metadata": {
    "ExecuteTime": {
     "end_time": "2019-08-08T02:11:00.001134Z",
     "start_time": "2019-08-08T02:10:59.993137Z"
    }
   },
   "outputs": [],
   "source": [
    "# Trend of Macro Focus Range of Pentax\n",
    "\n",
    "\n",
    "\n",
    "# draw bar plot\n"
   ]
  },
  {
   "cell_type": "code",
   "execution_count": null,
   "metadata": {
    "ExecuteTime": {
     "end_time": "2019-08-08T02:11:06.271907Z",
     "start_time": "2019-08-08T02:11:05.953930Z"
    }
   },
   "outputs": [],
   "source": [
    "# Trend of Storage of Olympus\n",
    "\n",
    "\n",
    "\n",
    "# draw bar plot\n"
   ]
  },
  {
   "cell_type": "markdown",
   "metadata": {},
   "source": [
    "**Observation:** "
   ]
  },
  {
   "cell_type": "markdown",
   "metadata": {},
   "source": [
    "#### Data analysis for all companies "
   ]
  },
  {
   "cell_type": "code",
   "execution_count": null,
   "metadata": {
    "ExecuteTime": {
     "end_time": "2019-08-08T02:11:27.766020Z",
     "start_time": "2019-08-08T02:11:27.458929Z"
    }
   },
   "outputs": [],
   "source": [
    "# Trend of Storage for entire dataset\n",
    "\n",
    "\n",
    "# draw bar plot\n"
   ]
  },
  {
   "cell_type": "code",
   "execution_count": null,
   "metadata": {
    "ExecuteTime": {
     "end_time": "2019-08-08T02:13:08.762022Z",
     "start_time": "2019-08-08T02:13:08.441294Z"
    }
   },
   "outputs": [],
   "source": [
    "# Trend of Pricefor entire dataset\n",
    "\n",
    "\n",
    "# draw bar plot\n"
   ]
  },
  {
   "cell_type": "code",
   "execution_count": null,
   "metadata": {
    "ExecuteTime": {
     "end_time": "2019-08-08T02:13:16.072135Z",
     "start_time": "2019-08-08T02:13:15.696523Z"
    }
   },
   "outputs": [],
   "source": [
    "# Trend of Dimensionfor entire dataset\n",
    "\n",
    "\n",
    "# draw bar plot\n"
   ]
  },
  {
   "cell_type": "code",
   "execution_count": null,
   "metadata": {
    "ExecuteTime": {
     "end_time": "2019-08-08T02:13:29.761627Z",
     "start_time": "2019-08-08T02:13:29.432849Z"
    }
   },
   "outputs": [],
   "source": [
    "# Trend of Effective Pixel for entire dataset\n",
    "\n",
    "\n",
    "# draw bar plot\n"
   ]
  },
  {
   "cell_type": "markdown",
   "metadata": {},
   "source": [
    "**Observation:** some properties of cameras were becoming better over time."
   ]
  },
  {
   "cell_type": "markdown",
   "metadata": {},
   "source": [
    "#### Comparisons among different companies "
   ]
  },
  {
   "cell_type": "code",
   "execution_count": null,
   "metadata": {
    "ExecuteTime": {
     "end_time": "2019-08-08T02:13:40.835523Z",
     "start_time": "2019-08-08T02:13:40.560980Z"
    }
   },
   "outputs": [],
   "source": [
    "# Number of Camera Models - Group by company\n",
    "\n",
    "\n",
    "\n",
    "# draw bar plot\n"
   ]
  },
  {
   "cell_type": "markdown",
   "metadata": {},
   "source": [
    "**Observation:** the companies with codes 1,7 and 12 had relatively high produce."
   ]
  },
  {
   "cell_type": "markdown",
   "metadata": {},
   "source": [
    "#### Check the produce of some years"
   ]
  },
  {
   "cell_type": "code",
   "execution_count": null,
   "metadata": {
    "ExecuteTime": {
     "end_time": "2019-08-08T02:16:09.266513Z",
     "start_time": "2019-08-08T02:16:08.944309Z"
    }
   },
   "outputs": [],
   "source": [
    "# get the data of 2007\n",
    "\n",
    "# group by company (code)\n",
    "\n",
    "\n",
    "\n",
    "# draw bar plot\n"
   ]
  },
  {
   "cell_type": "markdown",
   "metadata": {},
   "source": [
    "#### Check other properties for different companies."
   ]
  },
  {
   "cell_type": "code",
   "execution_count": null,
   "metadata": {
    "ExecuteTime": {
     "end_time": "2019-08-08T02:21:41.732203Z",
     "start_time": "2019-08-08T02:21:41.318196Z"
    }
   },
   "outputs": [],
   "source": [
    "# Max Resolution - Group by company\n",
    "\n",
    "\n",
    "# draw bar plot\n"
   ]
  },
  {
   "cell_type": "code",
   "execution_count": null,
   "metadata": {
    "ExecuteTime": {
     "end_time": "2019-08-08T02:22:54.650224Z",
     "start_time": "2019-08-08T02:22:54.345836Z"
    }
   },
   "outputs": [],
   "source": [
    "# get the data of 2000\n",
    "\n",
    "\n",
    "# group by company and get the max resolution\n",
    "\n",
    "\n",
    "# draw bar plot\n"
   ]
  },
  {
   "cell_type": "code",
   "execution_count": null,
   "metadata": {
    "ExecuteTime": {
     "end_time": "2019-08-08T02:23:30.844213Z",
     "start_time": "2019-08-08T02:23:30.546989Z"
    }
   },
   "outputs": [],
   "source": [
    "# group by company and get the price\n",
    "\n",
    "\n",
    "# draw bar plot\n"
   ]
  },
  {
   "cell_type": "code",
   "execution_count": null,
   "metadata": {
    "ExecuteTime": {
     "end_time": "2019-08-08T02:23:48.810950Z",
     "start_time": "2019-08-08T02:23:48.498953Z"
    }
   },
   "outputs": [],
   "source": [
    "# group by company and get the storage \n",
    "\n",
    "\n",
    "\n",
    "# draw bar plot\n"
   ]
  },
  {
   "cell_type": "code",
   "execution_count": null,
   "metadata": {
    "ExecuteTime": {
     "end_time": "2019-08-08T02:24:02.922259Z",
     "start_time": "2019-08-08T02:24:02.602363Z"
    }
   },
   "outputs": [],
   "source": [
    "# get the data of 2007\n",
    "\n",
    "\n",
    "# group by company and get storage\n",
    "\n",
    "\n",
    "\n",
    "# draw bar plot\n"
   ]
  },
  {
   "cell_type": "markdown",
   "metadata": {},
   "source": [
    "**Observation**: different companies may have advantages on some properties, for example, one of the advantages of the company with code 11 (Samsung) is the storage included. "
   ]
  }
 ],
 "metadata": {
  "kernelspec": {
   "display_name": "deeplearning",
   "language": "python",
   "name": "deeplearning"
  },
  "language_info": {
   "codemirror_mode": {
    "name": "ipython",
    "version": 3
   },
   "file_extension": ".py",
   "mimetype": "text/x-python",
   "name": "python",
   "nbconvert_exporter": "python",
   "pygments_lexer": "ipython3",
   "version": "3.6.8"
  },
  "toc": {
   "base_numbering": 1,
   "nav_menu": {},
   "number_sections": true,
   "sideBar": true,
   "skip_h1_title": false,
   "title_cell": "Table of Contents",
   "title_sidebar": "Contents",
   "toc_cell": false,
   "toc_position": {
    "height": "calc(100% - 180px)",
    "left": "10px",
    "top": "150px",
    "width": "219px"
   },
   "toc_section_display": true,
   "toc_window_display": true
  }
 },
 "nbformat": 4,
 "nbformat_minor": 1
}
