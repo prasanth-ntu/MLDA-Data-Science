{
 "cells": [
  {
   "cell_type": "markdown",
   "metadata": {
    "nbpresent": {
     "id": "09c85bab-64bd-4b4b-b8fb-31159fe7ca37"
    }
   },
   "source": [
    "# Week 4 - Data Science in the Real World"
   ]
  },
  {
   "cell_type": "markdown",
   "metadata": {},
   "source": [
    "## <font color='#1A9FFF'>Workshop Outline</font>\n",
    "<ul>\n",
    "    <li>What to consider for a real world data science project</li>\n",
    "    <li>Case study: conversion rate analysis</li>\n",
    "    <li>10 minute break</li>\n",
    "</ul>\n",
    "\n",
    "<ul>\n",
    "    <li>Mini project</li>\n",
    "</ul>"
   ]
  },
  {
   "cell_type": "markdown",
   "metadata": {},
   "source": [
    "## <font color='#1A9FFF'>What to consider for a real world data science project?</font>\n",
    "Things to keep in mind while doing a real world data science project:\n",
    "\n",
    "**Understand business goals** - Always understand the business goals first. Your work will depend on the goals and the overall result is good only if you got them all correctly.\n",
    "\n",
    "**Understand the data** - Always check with the data owner and business expert what the data represents. Don't make assumptions, just ask for clarification. \n",
    "\n",
    "**Check the data** - Never assume data is right. Always check data reliability and, if you find that some data doesn't make sense, clean it. \n",
    "\n",
    "**Build prototypes fast, then iterate** - Don't aim for the perfect model at first, build a prototype fast, present to the users to get feedback, and then improve it. \n",
    "\n",
    "**Don't make the solution over complicated** - You need to present the result to stakeholders who are highly likely to be non-technical. \n",
    "\n",
    "**Make sure your finding is actionable** - Focus on the business impact that your work could have. How would the company benefit from your analysis? How can your work generate actionable insights? What would you suggest as a next step?"
   ]
  },
  {
   "cell_type": "markdown",
   "metadata": {},
   "source": [
    "## <font color='#1A9FFF'>Case study: Conversion Rate Analysis</font>\n",
    "The conversion rate is the percentage of users who take a desired action, for example, buy a product, complete a survey or give a like on Facebook. Optimizing conversion rate is a very common work of a data scientist. \n",
    "\n",
    "We have data about users who visit a website: \n",
    "* Whether they converted or not \n",
    "* Some of their characteristics such as:\n",
    "    * their country\n",
    "    * their age\n",
    "    * whether they are repeat users\n",
    "    * marketing channel\n",
    "    * the number of pages visited during that session (as a proxy for site activity/time spent on site).\n",
    "\n",
    "The project is to:\n",
    "* Analyse the conversion rate of different customer segments\n",
    "* Come up with recommendations for the product team and the marketing team to improve the conversion rate. "
   ]
  },
  {
   "cell_type": "code",
   "execution_count": 1,
   "metadata": {
    "ExecuteTime": {
     "end_time": "2019-08-08T01:18:49.651524Z",
     "start_time": "2019-08-08T01:18:48.949653Z"
    },
    "nbpresent": {
     "id": "30248960-5166-415a-a908-d6d4e3a23434"
    },
    "scrolled": true
   },
   "outputs": [],
   "source": [
    "import numpy  as np\n",
    "import pandas as pd              # import pandas for data wrangling\n",
    "%matplotlib inline\n",
    "import matplotlib.pyplot as plt  # import matplotlib for ploting\n",
    "\n",
    "data = pd.read_csv('datasets/conversion_data.csv') # read data"
   ]
  },
  {
   "cell_type": "markdown",
   "metadata": {
    "nbpresent": {
     "id": "b105392f-323d-4751-9609-54bd0325f0e1"
    }
   },
   "source": [
    "### Data Structure \n",
    "After reading in the data, we first do some simple exploration, check available columns, data structure, and data summary."
   ]
  },
  {
   "cell_type": "code",
   "execution_count": 2,
   "metadata": {
    "ExecuteTime": {
     "end_time": "2019-08-08T01:18:49.665655Z",
     "start_time": "2019-08-08T01:18:49.653415Z"
    },
    "nbpresent": {
     "id": "6fa8daa0-5a50-49aa-b02f-3d2eb667cfd8"
    },
    "scrolled": false
   },
   "outputs": [
    {
     "data": {
      "text/html": [
       "<div>\n",
       "<style scoped>\n",
       "    .dataframe tbody tr th:only-of-type {\n",
       "        vertical-align: middle;\n",
       "    }\n",
       "\n",
       "    .dataframe tbody tr th {\n",
       "        vertical-align: top;\n",
       "    }\n",
       "\n",
       "    .dataframe thead th {\n",
       "        text-align: right;\n",
       "    }\n",
       "</style>\n",
       "<table border=\"1\" class=\"dataframe\">\n",
       "  <thead>\n",
       "    <tr style=\"text-align: right;\">\n",
       "      <th></th>\n",
       "      <th>country</th>\n",
       "      <th>age</th>\n",
       "      <th>new_user</th>\n",
       "      <th>source</th>\n",
       "      <th>total_pages_visited</th>\n",
       "      <th>converted</th>\n",
       "    </tr>\n",
       "  </thead>\n",
       "  <tbody>\n",
       "    <tr>\n",
       "      <th>0</th>\n",
       "      <td>UK</td>\n",
       "      <td>25</td>\n",
       "      <td>1</td>\n",
       "      <td>Ads</td>\n",
       "      <td>1</td>\n",
       "      <td>0</td>\n",
       "    </tr>\n",
       "    <tr>\n",
       "      <th>1</th>\n",
       "      <td>US</td>\n",
       "      <td>23</td>\n",
       "      <td>1</td>\n",
       "      <td>Seo</td>\n",
       "      <td>5</td>\n",
       "      <td>0</td>\n",
       "    </tr>\n",
       "    <tr>\n",
       "      <th>2</th>\n",
       "      <td>US</td>\n",
       "      <td>28</td>\n",
       "      <td>1</td>\n",
       "      <td>Seo</td>\n",
       "      <td>4</td>\n",
       "      <td>0</td>\n",
       "    </tr>\n",
       "    <tr>\n",
       "      <th>3</th>\n",
       "      <td>China</td>\n",
       "      <td>39</td>\n",
       "      <td>1</td>\n",
       "      <td>Seo</td>\n",
       "      <td>5</td>\n",
       "      <td>0</td>\n",
       "    </tr>\n",
       "    <tr>\n",
       "      <th>4</th>\n",
       "      <td>US</td>\n",
       "      <td>30</td>\n",
       "      <td>1</td>\n",
       "      <td>Seo</td>\n",
       "      <td>6</td>\n",
       "      <td>0</td>\n",
       "    </tr>\n",
       "  </tbody>\n",
       "</table>\n",
       "</div>"
      ],
      "text/plain": [
       "  country  age  new_user source  total_pages_visited  converted\n",
       "0      UK   25         1    Ads                    1          0\n",
       "1      US   23         1    Seo                    5          0\n",
       "2      US   28         1    Seo                    4          0\n",
       "3   China   39         1    Seo                    5          0\n",
       "4      US   30         1    Seo                    6          0"
      ]
     },
     "execution_count": 2,
     "metadata": {},
     "output_type": "execute_result"
    }
   ],
   "source": [
    "data.head() # take a look at the first 5 rows"
   ]
  },
  {
   "cell_type": "code",
   "execution_count": 3,
   "metadata": {
    "ExecuteTime": {
     "end_time": "2019-08-08T01:18:49.677513Z",
     "start_time": "2019-08-08T01:18:49.667901Z"
    },
    "nbpresent": {
     "id": "e154db37-0823-4b9c-9e33-6e3e45067c23"
    }
   },
   "outputs": [
    {
     "data": {
      "text/html": [
       "<div>\n",
       "<style scoped>\n",
       "    .dataframe tbody tr th:only-of-type {\n",
       "        vertical-align: middle;\n",
       "    }\n",
       "\n",
       "    .dataframe tbody tr th {\n",
       "        vertical-align: top;\n",
       "    }\n",
       "\n",
       "    .dataframe thead th {\n",
       "        text-align: right;\n",
       "    }\n",
       "</style>\n",
       "<table border=\"1\" class=\"dataframe\">\n",
       "  <thead>\n",
       "    <tr style=\"text-align: right;\">\n",
       "      <th></th>\n",
       "      <th>country</th>\n",
       "      <th>age</th>\n",
       "      <th>new_user</th>\n",
       "      <th>source</th>\n",
       "      <th>total_pages_visited</th>\n",
       "      <th>converted</th>\n",
       "    </tr>\n",
       "  </thead>\n",
       "  <tbody>\n",
       "    <tr>\n",
       "      <th>316195</th>\n",
       "      <td>US</td>\n",
       "      <td>26</td>\n",
       "      <td>1</td>\n",
       "      <td>Ads</td>\n",
       "      <td>9</td>\n",
       "      <td>0</td>\n",
       "    </tr>\n",
       "    <tr>\n",
       "      <th>316196</th>\n",
       "      <td>US</td>\n",
       "      <td>27</td>\n",
       "      <td>1</td>\n",
       "      <td>Direct</td>\n",
       "      <td>6</td>\n",
       "      <td>0</td>\n",
       "    </tr>\n",
       "    <tr>\n",
       "      <th>316197</th>\n",
       "      <td>China</td>\n",
       "      <td>25</td>\n",
       "      <td>0</td>\n",
       "      <td>Ads</td>\n",
       "      <td>4</td>\n",
       "      <td>0</td>\n",
       "    </tr>\n",
       "    <tr>\n",
       "      <th>316198</th>\n",
       "      <td>US</td>\n",
       "      <td>22</td>\n",
       "      <td>0</td>\n",
       "      <td>Seo</td>\n",
       "      <td>4</td>\n",
       "      <td>0</td>\n",
       "    </tr>\n",
       "    <tr>\n",
       "      <th>316199</th>\n",
       "      <td>UK</td>\n",
       "      <td>24</td>\n",
       "      <td>0</td>\n",
       "      <td>Ads</td>\n",
       "      <td>4</td>\n",
       "      <td>0</td>\n",
       "    </tr>\n",
       "  </tbody>\n",
       "</table>\n",
       "</div>"
      ],
      "text/plain": [
       "       country  age  new_user  source  total_pages_visited  converted\n",
       "316195      US   26         1     Ads                    9          0\n",
       "316196      US   27         1  Direct                    6          0\n",
       "316197   China   25         0     Ads                    4          0\n",
       "316198      US   22         0     Seo                    4          0\n",
       "316199      UK   24         0     Ads                    4          0"
      ]
     },
     "execution_count": 3,
     "metadata": {},
     "output_type": "execute_result"
    }
   ],
   "source": [
    "data.tail() # take a look at the last 5 rows "
   ]
  },
  {
   "cell_type": "code",
   "execution_count": 4,
   "metadata": {
    "ExecuteTime": {
     "end_time": "2019-08-08T01:18:49.748550Z",
     "start_time": "2019-08-08T01:18:49.679637Z"
    },
    "nbpresent": {
     "id": "8286f07a-5e70-4423-a3f0-bd54f49f8cd4"
    },
    "scrolled": false
   },
   "outputs": [
    {
     "name": "stdout",
     "output_type": "stream",
     "text": [
      "<class 'pandas.core.frame.DataFrame'>\n",
      "RangeIndex: 316200 entries, 0 to 316199\n",
      "Data columns (total 6 columns):\n",
      "country                316200 non-null object\n",
      "age                    316200 non-null int64\n",
      "new_user               316200 non-null int64\n",
      "source                 316200 non-null object\n",
      "total_pages_visited    316200 non-null int64\n",
      "converted              316200 non-null int64\n",
      "dtypes: int64(4), object(2)\n",
      "memory usage: 14.5+ MB\n"
     ]
    }
   ],
   "source": [
    "data.info() # data structure"
   ]
  },
  {
   "cell_type": "code",
   "execution_count": 5,
   "metadata": {
    "ExecuteTime": {
     "end_time": "2019-08-08T01:18:49.807321Z",
     "start_time": "2019-08-08T01:18:49.750136Z"
    },
    "nbpresent": {
     "id": "e6065c64-81a1-48ab-89ae-230b5462d7c2"
    },
    "scrolled": true
   },
   "outputs": [
    {
     "data": {
      "text/html": [
       "<div>\n",
       "<style scoped>\n",
       "    .dataframe tbody tr th:only-of-type {\n",
       "        vertical-align: middle;\n",
       "    }\n",
       "\n",
       "    .dataframe tbody tr th {\n",
       "        vertical-align: top;\n",
       "    }\n",
       "\n",
       "    .dataframe thead th {\n",
       "        text-align: right;\n",
       "    }\n",
       "</style>\n",
       "<table border=\"1\" class=\"dataframe\">\n",
       "  <thead>\n",
       "    <tr style=\"text-align: right;\">\n",
       "      <th></th>\n",
       "      <th>age</th>\n",
       "      <th>new_user</th>\n",
       "      <th>total_pages_visited</th>\n",
       "      <th>converted</th>\n",
       "    </tr>\n",
       "  </thead>\n",
       "  <tbody>\n",
       "    <tr>\n",
       "      <th>count</th>\n",
       "      <td>316200.000000</td>\n",
       "      <td>316200.000000</td>\n",
       "      <td>316200.000000</td>\n",
       "      <td>316200.000000</td>\n",
       "    </tr>\n",
       "    <tr>\n",
       "      <th>mean</th>\n",
       "      <td>30.569858</td>\n",
       "      <td>0.685465</td>\n",
       "      <td>4.872966</td>\n",
       "      <td>0.032258</td>\n",
       "    </tr>\n",
       "    <tr>\n",
       "      <th>std</th>\n",
       "      <td>8.271802</td>\n",
       "      <td>0.464331</td>\n",
       "      <td>3.341104</td>\n",
       "      <td>0.176685</td>\n",
       "    </tr>\n",
       "    <tr>\n",
       "      <th>min</th>\n",
       "      <td>17.000000</td>\n",
       "      <td>0.000000</td>\n",
       "      <td>1.000000</td>\n",
       "      <td>0.000000</td>\n",
       "    </tr>\n",
       "    <tr>\n",
       "      <th>25%</th>\n",
       "      <td>24.000000</td>\n",
       "      <td>0.000000</td>\n",
       "      <td>2.000000</td>\n",
       "      <td>0.000000</td>\n",
       "    </tr>\n",
       "    <tr>\n",
       "      <th>50%</th>\n",
       "      <td>30.000000</td>\n",
       "      <td>1.000000</td>\n",
       "      <td>4.000000</td>\n",
       "      <td>0.000000</td>\n",
       "    </tr>\n",
       "    <tr>\n",
       "      <th>75%</th>\n",
       "      <td>36.000000</td>\n",
       "      <td>1.000000</td>\n",
       "      <td>7.000000</td>\n",
       "      <td>0.000000</td>\n",
       "    </tr>\n",
       "    <tr>\n",
       "      <th>max</th>\n",
       "      <td>123.000000</td>\n",
       "      <td>1.000000</td>\n",
       "      <td>29.000000</td>\n",
       "      <td>1.000000</td>\n",
       "    </tr>\n",
       "  </tbody>\n",
       "</table>\n",
       "</div>"
      ],
      "text/plain": [
       "                 age       new_user  total_pages_visited      converted\n",
       "count  316200.000000  316200.000000        316200.000000  316200.000000\n",
       "mean       30.569858       0.685465             4.872966       0.032258\n",
       "std         8.271802       0.464331             3.341104       0.176685\n",
       "min        17.000000       0.000000             1.000000       0.000000\n",
       "25%        24.000000       0.000000             2.000000       0.000000\n",
       "50%        30.000000       1.000000             4.000000       0.000000\n",
       "75%        36.000000       1.000000             7.000000       0.000000\n",
       "max       123.000000       1.000000            29.000000       1.000000"
      ]
     },
     "execution_count": 5,
     "metadata": {},
     "output_type": "execute_result"
    }
   ],
   "source": [
    "data.describe() # data summary"
   ]
  },
  {
   "cell_type": "markdown",
   "metadata": {},
   "source": [
    "### Data Dictionary\n",
    "<font color='#1A9FFF'>**Note:**</font> It's always good to ask for a data dictionary to get better understanding of the meaning of each column.\n",
    "* **country**: user country based on the IP address\n",
    "* **age** : user age. Self-reported at sign-in step\n",
    "* **new_user**: whether the user is a new user to the site\n",
    "* **source**: marketing channel source \n",
    "    - Ads: came to the site by clicking on an advertisement\n",
    "    - Seo: came to the site by clicking on search results\n",
    "    - Direct: came to the site by directly typing the URL on the browser\n",
    "    \n",
    "    \n",
    "* **total_pages_visited**: number of total pages visited during the session. This is a proxy for time spent on site and engagement during the session.\n",
    "* **converted:**: 1 means they converted within the session, 0 means they left without buying anything"
   ]
  },
  {
   "cell_type": "markdown",
   "metadata": {},
   "source": [
    "### Check the data\n",
    "Let's take a look at the unique ages: "
   ]
  },
  {
   "cell_type": "code",
   "execution_count": 6,
   "metadata": {
    "ExecuteTime": {
     "end_time": "2019-08-08T01:18:49.813880Z",
     "start_time": "2019-08-08T01:18:49.808810Z"
    },
    "scrolled": true
   },
   "outputs": [
    {
     "data": {
      "text/plain": [
       "array([ 17,  18,  19,  20,  21,  22,  23,  24,  25,  26,  27,  28,  29,\n",
       "        30,  31,  32,  33,  34,  35,  36,  37,  38,  39,  40,  41,  42,\n",
       "        43,  44,  45,  46,  47,  48,  49,  50,  51,  52,  53,  54,  55,\n",
       "        56,  57,  58,  59,  60,  61,  62,  63,  64,  65,  66,  67,  68,\n",
       "        69,  70,  72,  73,  77,  79, 111, 123])"
      ]
     },
     "execution_count": 6,
     "metadata": {},
     "output_type": "execute_result"
    }
   ],
   "source": [
    "data_unique_age = data['age'].unique()          # get unique age in dataset -> return a numpy narray\n",
    "data_unique_age.sort()                          # sorting on numpy array\n",
    "data_unique_age\n",
    "# data_unique_age_s = pd.Series(data_unique_age)\n",
    "# data_unique_age_s"
   ]
  },
  {
   "cell_type": "markdown",
   "metadata": {},
   "source": [
    "Age 123 and 111 seem unrealistic. How many user are there with unrealistic age:"
   ]
  },
  {
   "cell_type": "code",
   "execution_count": 7,
   "metadata": {
    "ExecuteTime": {
     "end_time": "2019-08-08T01:18:49.823756Z",
     "start_time": "2019-08-08T01:18:49.815335Z"
    },
    "scrolled": true
   },
   "outputs": [
    {
     "data": {
      "text/html": [
       "<div>\n",
       "<style scoped>\n",
       "    .dataframe tbody tr th:only-of-type {\n",
       "        vertical-align: middle;\n",
       "    }\n",
       "\n",
       "    .dataframe tbody tr th {\n",
       "        vertical-align: top;\n",
       "    }\n",
       "\n",
       "    .dataframe thead th {\n",
       "        text-align: right;\n",
       "    }\n",
       "</style>\n",
       "<table border=\"1\" class=\"dataframe\">\n",
       "  <thead>\n",
       "    <tr style=\"text-align: right;\">\n",
       "      <th></th>\n",
       "      <th>country</th>\n",
       "      <th>age</th>\n",
       "      <th>new_user</th>\n",
       "      <th>source</th>\n",
       "      <th>total_pages_visited</th>\n",
       "      <th>converted</th>\n",
       "    </tr>\n",
       "  </thead>\n",
       "  <tbody>\n",
       "    <tr>\n",
       "      <th>90928</th>\n",
       "      <td>Germany</td>\n",
       "      <td>123</td>\n",
       "      <td>0</td>\n",
       "      <td>Seo</td>\n",
       "      <td>15</td>\n",
       "      <td>1</td>\n",
       "    </tr>\n",
       "    <tr>\n",
       "      <th>295581</th>\n",
       "      <td>UK</td>\n",
       "      <td>111</td>\n",
       "      <td>0</td>\n",
       "      <td>Ads</td>\n",
       "      <td>10</td>\n",
       "      <td>1</td>\n",
       "    </tr>\n",
       "  </tbody>\n",
       "</table>\n",
       "</div>"
      ],
      "text/plain": [
       "        country  age  new_user source  total_pages_visited  converted\n",
       "90928   Germany  123         0    Seo                   15          1\n",
       "295581       UK  111         0    Ads                   10          1"
      ]
     },
     "execution_count": 7,
     "metadata": {},
     "output_type": "execute_result"
    }
   ],
   "source": [
    "data[ data['age'] > 79 ]"
   ]
  },
  {
   "cell_type": "markdown",
   "metadata": {},
   "source": [
    "There are only 2 customers. In this case, it's not a big issue and we can safely removing them. In general, depending on the problem, you can:\n",
    "* remove rows with questionable data\n",
    "* replace those values with NAs\n",
    "* understand why if there is a pattern "
   ]
  },
  {
   "cell_type": "code",
   "execution_count": 8,
   "metadata": {
    "ExecuteTime": {
     "end_time": "2019-08-08T01:18:49.852694Z",
     "start_time": "2019-08-08T01:18:49.825949Z"
    }
   },
   "outputs": [],
   "source": [
    "# remove two rows with unrealistic age values\n",
    "data = data[ data['age'] <= 79 ].copy()\n",
    "# data"
   ]
  },
  {
   "cell_type": "markdown",
   "metadata": {},
   "source": [
    "### Data observations"
   ]
  },
  {
   "cell_type": "code",
   "execution_count": 9,
   "metadata": {
    "ExecuteTime": {
     "end_time": "2019-08-08T01:18:49.872508Z",
     "start_time": "2019-08-08T01:18:49.854488Z"
    }
   },
   "outputs": [
    {
     "data": {
      "text/plain": [
       "country\n",
       "China       76602\n",
       "Germany     13055\n",
       "UK          48449\n",
       "US         178092\n",
       "dtype: int64"
      ]
     },
     "execution_count": 9,
     "metadata": {},
     "output_type": "execute_result"
    }
   ],
   "source": [
    "data_by_country = data.groupby('country')  # group by country\n",
    "data_by_country.size()        # count the number of items in each group"
   ]
  },
  {
   "cell_type": "markdown",
   "metadata": {},
   "source": [
    "**Observation**: this site is probably a US site, although it does have a large Chinese user base as well."
   ]
  },
  {
   "cell_type": "code",
   "execution_count": 10,
   "metadata": {
    "ExecuteTime": {
     "end_time": "2019-08-08T01:18:49.889646Z",
     "start_time": "2019-08-08T01:18:49.873971Z"
    }
   },
   "outputs": [
    {
     "data": {
      "text/plain": [
       "count    316198.000000\n",
       "mean         30.569311\n",
       "std           8.268958\n",
       "min          17.000000\n",
       "25%          24.000000\n",
       "50%          30.000000\n",
       "75%          36.000000\n",
       "max          79.000000\n",
       "Name: age, dtype: float64"
      ]
     },
     "execution_count": 10,
     "metadata": {},
     "output_type": "execute_result"
    }
   ],
   "source": [
    "data['age'].describe()"
   ]
  },
  {
   "cell_type": "code",
   "execution_count": 11,
   "metadata": {
    "ExecuteTime": {
     "end_time": "2019-08-08T01:18:50.220210Z",
     "start_time": "2019-08-08T01:18:49.891081Z"
    },
    "scrolled": false
   },
   "outputs": [
    {
     "data": {
      "text/plain": [
       "(17, 80)"
      ]
     },
     "execution_count": 11,
     "metadata": {},
     "output_type": "execute_result"
    },
    {
     "data": {
      "image/png": "[encoded data removed]",
      "text/plain": [
       "<Figure size 432x288 with 1 Axes>"
      ]
     },
     "metadata": {
      "needs_background": "light"
     },
     "output_type": "display_data"
    }
   ],
   "source": [
    "age = data['age']\n",
    "age_max = age.max()\n",
    "age_min = age.min()\n",
    "age_range = age_max - age_min\n",
    "\n",
    "age.hist(bins=age_range+1)\n",
    "plt.xlim([age_min,age_max+1])"
   ]
  },
  {
   "cell_type": "markdown",
   "metadata": {},
   "source": [
    "**Observation**: the user base of this site is pretty young. "
   ]
  },
  {
   "cell_type": "code",
   "execution_count": 12,
   "metadata": {
    "ExecuteTime": {
     "end_time": "2019-08-08T01:18:50.246438Z",
     "start_time": "2019-08-08T01:18:50.221621Z"
    },
    "scrolled": true
   },
   "outputs": [
    {
     "data": {
      "text/html": [
       "<div>\n",
       "<style scoped>\n",
       "    .dataframe tbody tr th:only-of-type {\n",
       "        vertical-align: middle;\n",
       "    }\n",
       "\n",
       "    .dataframe tbody tr th {\n",
       "        vertical-align: top;\n",
       "    }\n",
       "\n",
       "    .dataframe thead th {\n",
       "        text-align: right;\n",
       "    }\n",
       "</style>\n",
       "<table border=\"1\" class=\"dataframe\">\n",
       "  <thead>\n",
       "    <tr style=\"text-align: right;\">\n",
       "      <th></th>\n",
       "      <th>Count</th>\n",
       "      <th>Percent</th>\n",
       "    </tr>\n",
       "    <tr>\n",
       "      <th>source</th>\n",
       "      <th></th>\n",
       "      <th></th>\n",
       "    </tr>\n",
       "  </thead>\n",
       "  <tbody>\n",
       "    <tr>\n",
       "      <th>Ads</th>\n",
       "      <td>88739</td>\n",
       "      <td>0.280644</td>\n",
       "    </tr>\n",
       "    <tr>\n",
       "      <th>Direct</th>\n",
       "      <td>72420</td>\n",
       "      <td>0.229034</td>\n",
       "    </tr>\n",
       "    <tr>\n",
       "      <th>Seo</th>\n",
       "      <td>155039</td>\n",
       "      <td>0.490323</td>\n",
       "    </tr>\n",
       "  </tbody>\n",
       "</table>\n",
       "</div>"
      ],
      "text/plain": [
       "         Count   Percent\n",
       "source                  \n",
       "Ads      88739  0.280644\n",
       "Direct   72420  0.229034\n",
       "Seo     155039  0.490323"
      ]
     },
     "execution_count": 12,
     "metadata": {},
     "output_type": "execute_result"
    }
   ],
   "source": [
    "data_by_source = data.groupby('source')  # group by country\n",
    "d_source_count = data_by_source.size()   # count the number of items in each group\n",
    "d_source_sum   = d_source_count.sum()    # the number of items\n",
    "\n",
    "df_source = pd.DataFrame({'Count' : d_source_count, 'Percent' : d_source_count/d_source_sum})\n",
    "df_source"
   ]
  },
  {
   "cell_type": "markdown",
   "metadata": {},
   "source": [
    "**Observation**: nearly half of the customers came to the site by clicking search result. "
   ]
  },
  {
   "cell_type": "markdown",
   "metadata": {},
   "source": [
    "### Exploratory Data Analysis"
   ]
  },
  {
   "cell_type": "code",
   "execution_count": 13,
   "metadata": {
    "ExecuteTime": {
     "end_time": "2019-08-08T01:18:50.422698Z",
     "start_time": "2019-08-08T01:18:50.247878Z"
    }
   },
   "outputs": [
    {
     "data": {
      "image/png": "[encoded data removed]",
      "text/plain": [
       "<Figure size 432x288 with 1 Axes>"
      ]
     },
     "metadata": {
      "needs_background": "light"
     },
     "output_type": "display_data"
    }
   ],
   "source": [
    "data_by_country = data.groupby('country')\n",
    "conversion_country = data_by_country['converted'].mean()\n",
    "\n",
    "conversion_country.plot.bar()\n",
    "plt.xlabel('Country')\n",
    "plt.ylabel('Conversion Rate')\n",
    "plt.grid()"
   ]
  },
  {
   "cell_type": "markdown",
   "metadata": {},
   "source": [
    "**Observation:**  Here it clearly looks like Chinese convert at a much lower rate than other countries, while Germany is the best."
   ]
  },
  {
   "cell_type": "code",
   "execution_count": 14,
   "metadata": {
    "ExecuteTime": {
     "end_time": "2019-08-08T01:18:50.625790Z",
     "start_time": "2019-08-08T01:18:50.424264Z"
    },
    "scrolled": false
   },
   "outputs": [
    {
     "data": {
      "image/png": "[encoded data removed]",
      "text/plain": [
       "<Figure size 432x288 with 1 Axes>"
      ]
     },
     "metadata": {
      "needs_background": "light"
     },
     "output_type": "display_data"
    }
   ],
   "source": [
    "data_by_age = data.groupby('age')\n",
    "conversion_age = data_by_age['converted'].mean()\n",
    "\n",
    "conversion_age.plot()\n",
    "plt.xlabel('Age');\n",
    "plt.ylabel('Conversion Rate');\n",
    "plt.grid()"
   ]
  },
  {
   "cell_type": "code",
   "execution_count": 15,
   "metadata": {
    "ExecuteTime": {
     "end_time": "2019-08-08T01:18:51.716223Z",
     "start_time": "2019-08-08T01:18:50.627298Z"
    }
   },
   "outputs": [
    {
     "data": {
      "text/html": [
       "<div>\n",
       "<style scoped>\n",
       "    .dataframe tbody tr th:only-of-type {\n",
       "        vertical-align: middle;\n",
       "    }\n",
       "\n",
       "    .dataframe tbody tr th {\n",
       "        vertical-align: top;\n",
       "    }\n",
       "\n",
       "    .dataframe thead th {\n",
       "        text-align: right;\n",
       "    }\n",
       "</style>\n",
       "<table border=\"1\" class=\"dataframe\">\n",
       "  <thead>\n",
       "    <tr style=\"text-align: right;\">\n",
       "      <th></th>\n",
       "      <th>country</th>\n",
       "      <th>age</th>\n",
       "      <th>new_user</th>\n",
       "      <th>source</th>\n",
       "      <th>total_pages_visited</th>\n",
       "      <th>converted</th>\n",
       "      <th>age_group</th>\n",
       "    </tr>\n",
       "  </thead>\n",
       "  <tbody>\n",
       "    <tr>\n",
       "      <th>0</th>\n",
       "      <td>UK</td>\n",
       "      <td>25</td>\n",
       "      <td>1</td>\n",
       "      <td>Ads</td>\n",
       "      <td>1</td>\n",
       "      <td>0</td>\n",
       "      <td>(20, 25]</td>\n",
       "    </tr>\n",
       "    <tr>\n",
       "      <th>1</th>\n",
       "      <td>US</td>\n",
       "      <td>23</td>\n",
       "      <td>1</td>\n",
       "      <td>Seo</td>\n",
       "      <td>5</td>\n",
       "      <td>0</td>\n",
       "      <td>(20, 25]</td>\n",
       "    </tr>\n",
       "    <tr>\n",
       "      <th>2</th>\n",
       "      <td>US</td>\n",
       "      <td>28</td>\n",
       "      <td>1</td>\n",
       "      <td>Seo</td>\n",
       "      <td>4</td>\n",
       "      <td>0</td>\n",
       "      <td>(25, 30]</td>\n",
       "    </tr>\n",
       "  </tbody>\n",
       "</table>\n",
       "</div>"
      ],
      "text/plain": [
       "  country  age  new_user source  total_pages_visited  converted age_group\n",
       "0      UK   25         1    Ads                    1          0  (20, 25]\n",
       "1      US   23         1    Seo                    5          0  (20, 25]\n",
       "2      US   28         1    Seo                    4          0  (25, 30]"
      ]
     },
     "execution_count": 15,
     "metadata": {},
     "output_type": "execute_result"
    }
   ],
   "source": [
    "# create regular age bins with 5-year intervals\n",
    "age_bins = pd.IntervalIndex.from_tuples([(x, x+5) for x in range(15, 80, 5)])\n",
    "data['age_group'] = pd.cut(data['age'], age_bins)\n",
    "data.head(3) # now we have a new column with discretized age groups"
   ]
  },
  {
   "cell_type": "code",
   "execution_count": 16,
   "metadata": {
    "ExecuteTime": {
     "end_time": "2019-08-08T01:18:51.951569Z",
     "start_time": "2019-08-08T01:18:51.717770Z"
    }
   },
   "outputs": [
    {
     "data": {
      "image/png": "[encoded data removed]",
      "text/plain": [
       "<Figure size 432x288 with 1 Axes>"
      ]
     },
     "metadata": {
      "needs_background": "light"
     },
     "output_type": "display_data"
    }
   ],
   "source": [
    "data_age_group = data.groupby('age_group')\n",
    "conversion_age_group = data_age_group['converted'].mean()\n",
    "\n",
    "conversion_age_group.plot.bar()\n",
    "plt.xlabel('Age Group')\n",
    "plt.ylabel('Conversion Rate')\n",
    "plt.title('Conversion rate by age group')\n",
    "plt.grid()"
   ]
  },
  {
   "cell_type": "markdown",
   "metadata": {},
   "source": [
    "**Observation:** We can see that this site works very well for young people and bad for less young people."
   ]
  },
  {
   "cell_type": "code",
   "execution_count": 17,
   "metadata": {
    "ExecuteTime": {
     "end_time": "2019-08-08T01:18:52.107243Z",
     "start_time": "2019-08-08T01:18:51.953042Z"
    }
   },
   "outputs": [
    {
     "data": {
      "image/png": "[encoded data removed]",
      "text/plain": [
       "<Figure size 432x288 with 1 Axes>"
      ]
     },
     "metadata": {
      "needs_background": "light"
     },
     "output_type": "display_data"
    }
   ],
   "source": [
    "data_by_new_user = data.groupby('new_user')\n",
    "conversion_new_user = data_by_new_user['converted'].mean()\n",
    "\n",
    "conversion_new_user.plot.bar()\n",
    "plt.xlabel('new_user')\n",
    "plt.ylabel('Conversion Rate')\n",
    "plt.grid()"
   ]
  },
  {
   "cell_type": "markdown",
   "metadata": {},
   "source": [
    "**Observation:** We see that existing users are much better than new users."
   ]
  },
  {
   "cell_type": "code",
   "execution_count": 18,
   "metadata": {
    "ExecuteTime": {
     "end_time": "2019-08-08T01:18:52.280499Z",
     "start_time": "2019-08-08T01:18:52.108738Z"
    }
   },
   "outputs": [
    {
     "data": {
      "image/png": "[encoded data removed]",
      "text/plain": [
       "<Figure size 432x288 with 1 Axes>"
      ]
     },
     "metadata": {
      "needs_background": "light"
     },
     "output_type": "display_data"
    }
   ],
   "source": [
    "data_by_source = data.groupby('source')\n",
    "conversion_source = data_by_source['converted'].mean()\n",
    "\n",
    "conversion_source.plot.bar()\n",
    "plt.xlabel('source');\n",
    "plt.ylabel('Conversion Rate');\n",
    "plt.grid()"
   ]
  },
  {
   "cell_type": "markdown",
   "metadata": {},
   "source": [
    "**Observation:** We see that the conversion is quite similar for all sources. "
   ]
  },
  {
   "cell_type": "code",
   "execution_count": 19,
   "metadata": {
    "ExecuteTime": {
     "end_time": "2019-08-08T01:18:52.467723Z",
     "start_time": "2019-08-08T01:18:52.281981Z"
    }
   },
   "outputs": [
    {
     "data": {
      "image/png": "[encoded data removed]",
      "text/plain": [
       "<Figure size 432x288 with 1 Axes>"
      ]
     },
     "metadata": {
      "needs_background": "light"
     },
     "output_type": "display_data"
    }
   ],
   "source": [
    "data_by_total_pages_visited = data.groupby('total_pages_visited')\n",
    "conversion_total_pages_visited = data_by_total_pages_visited['converted'].mean()\n",
    "\n",
    "\n",
    "conversion_total_pages_visited.plot()\n",
    "\n",
    "plt.xlabel('total_pages_visited');\n",
    "plt.ylabel('Conversion Rate');\n",
    "\n",
    "plt.ylim([-0.1,1.1])\n",
    "plt.grid()"
   ]
  },
  {
   "cell_type": "markdown",
   "metadata": {},
   "source": [
    "**Observation:**  We see higher conversion rate for customers visited more pages. However, this is least **actionable**. It's understandable that customers visit many pages because they already want to buy. Also, in order to buy you have to click on multiple pages."
   ]
  },
  {
   "cell_type": "markdown",
   "metadata": {},
   "source": [
    "### Actionable Insights\n",
    "Recall that the project is to analyse the conversion rate of different customer segments, and then come up with recommendations for the product team and the marketing team to improve the conversion rate. \n",
    "\n",
    "<img src=\"images/action_items.jpg\">"
   ]
  },
  {
   "cell_type": "markdown",
   "metadata": {},
   "source": [
    "## <font color='#1A9FFF'>Mini project</font>"
   ]
  },
  {
   "cell_type": "markdown",
   "metadata": {},
   "source": [
    "## <font color='#1A9FFF'>Mini project 1 - IMDB Movie</font>"
   ]
  },
  {
   "cell_type": "markdown",
   "metadata": {},
   "source": [
    "The data of this dataset comes from the Top 100 Movies List of All Time in IMDb. Movies recorded in this dataset are in this decade (between 2010-2016). There are 118 movies included in this dataset, and each movie entry bears 54 attributes. Most of the attributes are related to the rating. The goal of this dataset is to help us understand the success of movies with high rating.\n",
    "\n",
    "**The project aims to:**\n",
    "\n",
    "* What are the characteristics of top movies?\n",
    "* Are there any trend of top movies, for example, genre, budget, targeted age group or gender?"
   ]
  },
  {
   "cell_type": "markdown",
   "metadata": {},
   "source": [
    "## <font color='#1A9FFF'>Mini project 2 - Student Grade</font>"
   ]
  },
  {
   "cell_type": "markdown",
   "metadata": {},
   "source": [
    "This dataset is a survey obtained of students math and portuguese language courses in secondary school. It contains a lot of interesting social, gender and study information about students. From this dataset, we can find some relationship of certain information with their final grades.\n",
    "\n",
    "**The project aims to:**\n",
    "* Analyse the grade distribution for Math and Portuguese courses in this secondary school\n",
    "* Analyse and point out the different factors that may have affected the final grade (G3) of student for Math course"
   ]
  },
  {
   "cell_type": "markdown",
   "metadata": {},
   "source": [
    "## <font color='#1A9FFF'>Mini project 3 - Camera Property</font>"
   ]
  },
  {
   "cell_type": "markdown",
   "metadata": {},
   "source": [
    "We have a dataset of about 1000 cameras with 13 properties such as weight, focal length, price, etc. These cameras belong to 12 companys such as Canon, HP, Sony, etc, each company is represented by a code, refer to the first column of the dataset.\n",
    "\n",
    "**The project aims to:**\n",
    "* For each company/camera series, what is the trend of  different properties over time?\n",
    "* For all cameras released, what is the trend of different properties over time?\n",
    "* Compare the properties of cameras produced by different companies.\n",
    "* Compare the properties of cameras produced by different companies in some years."
   ]
  }
 ],
 "metadata": {
  "anaconda-cloud": {},
  "kernelspec": {
   "display_name": "pytorch3.7",
   "language": "python",
   "name": "pytorch"
  },
  "language_info": {
   "codemirror_mode": {
    "name": "ipython",
    "version": 3
   },
   "file_extension": ".py",
   "mimetype": "text/x-python",
   "name": "python",
   "nbconvert_exporter": "python",
   "pygments_lexer": "ipython3",
   "version": "3.7.3"
  },
  "nbpresent": {
   "slides": {
    "037d994f-b6de-4ed8-9958-170a56092b39": {
     "id": "037d994f-b6de-4ed8-9958-170a56092b39",
     "prev": "f99c1815-0594-49d9-b4a6-38db28a1f981",
     "regions": {
      "37f0a335-65b1-445f-a395-db357ab01119": {
       "attrs": {
        "height": 0.8,
        "width": 0.8,
        "x": 0.1,
        "y": 0.1
       },
       "content": {
        "cell": "f211b74a-02c1-4f5c-a141-ab15f23fd870",
        "part": "whole"
       },
       "id": "37f0a335-65b1-445f-a395-db357ab01119"
      }
     }
    },
    "060d6da1-97c1-481b-823c-b3c77259fca7": {
     "id": "060d6da1-97c1-481b-823c-b3c77259fca7",
     "prev": "5f566194-09f1-436c-ac43-fe638d2bb884",
     "regions": {
      "d0b5765e-ede3-4cd3-9ef1-048b2c8baf77": {
       "attrs": {
        "height": 0.8,
        "width": 0.8,
        "x": 0.1,
        "y": 0.1
       },
       "content": {
        "cell": "6fa8daa0-5a50-49aa-b02f-3d2eb667cfd8",
        "part": "whole"
       },
       "id": "d0b5765e-ede3-4cd3-9ef1-048b2c8baf77"
      }
     }
    },
    "08e66a80-ccc5-4849-adc3-449bfa5fe5ef": {
     "id": "08e66a80-ccc5-4849-adc3-449bfa5fe5ef",
     "prev": "3d501e6f-83c3-4d2b-a1d2-63ed4ffd669b",
     "regions": {
      "d8e9d007-2977-4ef6-b380-c5bd3013511d": {
       "attrs": {
        "height": 0.8,
        "width": 0.8,
        "x": 0.1,
        "y": 0.1
       },
       "content": {
        "cell": "62575982-17b0-47ed-a124-d3be68646120",
        "part": "whole"
       },
       "id": "d8e9d007-2977-4ef6-b380-c5bd3013511d"
      }
     }
    },
    "127f7ddf-d6f9-48bc-ba2d-5f1a755e33fb": {
     "id": "127f7ddf-d6f9-48bc-ba2d-5f1a755e33fb",
     "prev": "72acae5a-9cf4-4106-933f-029db77156bc",
     "regions": {
      "f5d4659e-65fc-423c-9c83-b01b1f2ec3f7": {
       "attrs": {
        "height": 0.8,
        "width": 0.8,
        "x": 0.1,
        "y": 0.1
       },
       "content": {
        "cell": "cdabcf10-7540-479d-b862-2ac5081394b6",
        "part": "whole"
       },
       "id": "f5d4659e-65fc-423c-9c83-b01b1f2ec3f7"
      }
     }
    },
    "165e09c7-bbd1-4084-9aff-a048766875cc": {
     "id": "165e09c7-bbd1-4084-9aff-a048766875cc",
     "prev": null,
     "regions": {
      "238b46c8-62e0-4de3-b50a-34ac24df7731": {
       "attrs": {
        "height": 0.8,
        "width": 0.8,
        "x": 0.1,
        "y": 0.1
       },
       "content": {
        "cell": "09c85bab-64bd-4b4b-b8fb-31159fe7ca37",
        "part": "whole"
       },
       "id": "238b46c8-62e0-4de3-b50a-34ac24df7731"
      }
     }
    },
    "184bbb61-bcc2-4b69-8999-3003a1ff1826": {
     "id": "184bbb61-bcc2-4b69-8999-3003a1ff1826",
     "prev": "4032a710-c3f4-4f48-bf95-7d25a67fb185",
     "regions": {
      "7ba39599-d99b-4d05-ba1f-e2f9ddf0eccb": {
       "attrs": {
        "height": 0.8,
        "width": 0.8,
        "x": 0.1,
        "y": 0.1
       },
       "content": {
        "cell": "613a6222-a014-4235-afba-c30af848f091",
        "part": "whole"
       },
       "id": "7ba39599-d99b-4d05-ba1f-e2f9ddf0eccb"
      }
     }
    },
    "189a8448-123c-453e-91ac-837b87f4c52f": {
     "id": "189a8448-123c-453e-91ac-837b87f4c52f",
     "prev": "060d6da1-97c1-481b-823c-b3c77259fca7",
     "regions": {
      "95b47586-50eb-47b4-906f-8bbdce003201": {
       "attrs": {
        "height": 0.8,
        "width": 0.8,
        "x": 0.1,
        "y": 0.1
       },
       "content": {
        "cell": "e154db37-0823-4b9c-9e33-6e3e45067c23",
        "part": "whole"
       },
       "id": "95b47586-50eb-47b4-906f-8bbdce003201"
      }
     }
    },
    "2a15b19c-721e-4309-8dc3-2767a9262c5e": {
     "id": "2a15b19c-721e-4309-8dc3-2767a9262c5e",
     "prev": "184bbb61-bcc2-4b69-8999-3003a1ff1826",
     "regions": {
      "4a81144e-9bc9-4229-8c71-4581b13cf463": {
       "attrs": {
        "height": 0.8,
        "width": 0.8,
        "x": 0.1,
        "y": 0.1
       },
       "content": {
        "cell": "6bba0292-12f7-4f35-849c-3adb3b915de9",
        "part": "whole"
       },
       "id": "4a81144e-9bc9-4229-8c71-4581b13cf463"
      }
     }
    },
    "2a8c384f-5eaa-416c-a129-bd48f289fece": {
     "id": "2a8c384f-5eaa-416c-a129-bd48f289fece",
     "prev": "a72d566b-3564-450d-803c-811a2e98e014",
     "regions": {
      "ec0d67be-e14f-44f8-a4b1-7a6b202bd3b8": {
       "attrs": {
        "height": 0.8,
        "width": 0.8,
        "x": 0.1,
        "y": 0.1
       },
       "content": {
        "cell": "b10664db-f67a-4b04-8b7a-edec9d65b8b2",
        "part": "whole"
       },
       "id": "ec0d67be-e14f-44f8-a4b1-7a6b202bd3b8"
      }
     }
    },
    "3013eaf0-1eb9-4115-a74a-2e386691f07d": {
     "id": "3013eaf0-1eb9-4115-a74a-2e386691f07d",
     "prev": "c5e98f18-a0fb-4365-9b37-19db45e9c0f1",
     "regions": {
      "dadf18ff-3d08-46e9-b74c-87131629f42a": {
       "attrs": {
        "height": 0.8,
        "width": 0.8,
        "x": 0.1,
        "y": 0.1
       },
       "content": {
        "cell": "e6065c64-81a1-48ab-89ae-230b5462d7c2",
        "part": "whole"
       },
       "id": "dadf18ff-3d08-46e9-b74c-87131629f42a"
      }
     }
    },
    "3aa278f9-1a89-496a-a3e2-dffc230a350d": {
     "id": "3aa278f9-1a89-496a-a3e2-dffc230a350d",
     "prev": "e2fbd982-c138-4d75-ac97-197ae3d6742f",
     "regions": {
      "a336704b-d60b-48d7-a21f-d352aecd5724": {
       "attrs": {
        "height": 0.8,
        "width": 0.8,
        "x": 0.1,
        "y": 0.1
       },
       "content": {
        "cell": "5289d41d-da2e-47dc-80a3-63992c8a86a0",
        "part": "whole"
       },
       "id": "a336704b-d60b-48d7-a21f-d352aecd5724"
      }
     }
    },
    "3d501e6f-83c3-4d2b-a1d2-63ed4ffd669b": {
     "id": "3d501e6f-83c3-4d2b-a1d2-63ed4ffd669b",
     "prev": "7d111e5d-8c4d-4983-a708-52ac154024b6",
     "regions": {
      "ff3c6ba0-25af-4880-bf0e-718997aa7a6d": {
       "attrs": {
        "height": 0.8,
        "width": 0.8,
        "x": 0.1,
        "y": 0.1
       },
       "content": {
        "cell": "46ca8126-4f24-46cc-be56-39dd744a9d80",
        "part": "whole"
       },
       "id": "ff3c6ba0-25af-4880-bf0e-718997aa7a6d"
      }
     }
    },
    "4032a710-c3f4-4f48-bf95-7d25a67fb185": {
     "id": "4032a710-c3f4-4f48-bf95-7d25a67fb185",
     "prev": "87092331-e05c-4411-9cfa-ee6ca5cefbc7",
     "regions": {
      "9cc776f3-0522-4ebe-a448-e2a0148ff531": {
       "attrs": {
        "height": 0.8,
        "width": 0.8,
        "x": 0.1,
        "y": 0.1
       },
       "content": {
        "cell": "9ed455c9-7c52-4e94-a3b7-da6264ea1b25",
        "part": "whole"
       },
       "id": "9cc776f3-0522-4ebe-a448-e2a0148ff531"
      }
     }
    },
    "43f95af2-3a38-45fa-aac9-2527905284ea": {
     "id": "43f95af2-3a38-45fa-aac9-2527905284ea",
     "prev": "cfce1e41-bd03-4f35-ac4c-a086e9f9eb5d",
     "regions": {
      "83564c2b-c332-4917-b705-32a6c96c3bfd": {
       "attrs": {
        "height": 0.8,
        "width": 0.8,
        "x": 0.1,
        "y": 0.1
       },
       "content": {
        "cell": "a2aa2619-ad43-46b8-87a5-ffcf2aa5e0b3",
        "part": "whole"
       },
       "id": "83564c2b-c332-4917-b705-32a6c96c3bfd"
      }
     }
    },
    "45fe1251-5f24-42a5-bd2f-e52699b44935": {
     "id": "45fe1251-5f24-42a5-bd2f-e52699b44935",
     "prev": "53db062a-5e1d-4e62-b54b-0f5422e09301",
     "regions": {
      "77315f0d-f653-4078-9a47-8ad9152d5376": {
       "attrs": {
        "height": 0.8,
        "width": 0.8,
        "x": 0.1,
        "y": 0.1
       },
       "content": {
        "cell": "21ec7619-3b05-4f2e-90bc-98c03cc7fe1f",
        "part": "whole"
       },
       "id": "77315f0d-f653-4078-9a47-8ad9152d5376"
      }
     }
    },
    "53db062a-5e1d-4e62-b54b-0f5422e09301": {
     "id": "53db062a-5e1d-4e62-b54b-0f5422e09301",
     "prev": "2a15b19c-721e-4309-8dc3-2767a9262c5e",
     "regions": {
      "b02973f5-07b3-45df-aab9-f587bd464b08": {
       "attrs": {
        "height": 0.8,
        "width": 0.8,
        "x": 0.1,
        "y": 0.1
       },
       "content": {
        "cell": "bc1a8e5b-fcb3-492c-8a12-90391166b6f4",
        "part": "whole"
       },
       "id": "b02973f5-07b3-45df-aab9-f587bd464b08"
      }
     }
    },
    "5ae57a89-fc55-4fcc-b22f-f7271836c305": {
     "id": "5ae57a89-fc55-4fcc-b22f-f7271836c305",
     "prev": "b62e5716-5847-4cf9-959a-b7adcc1b20ef",
     "regions": {
      "af4301f5-559a-4e5d-9e4b-e89becdf95a9": {
       "attrs": {
        "height": 0.8,
        "width": 0.8,
        "x": 0.1,
        "y": 0.1
       },
       "content": {
        "cell": "16912f32-f314-4833-a575-99fa8bdaa0f9",
        "part": "whole"
       },
       "id": "af4301f5-559a-4e5d-9e4b-e89becdf95a9"
      }
     }
    },
    "5f566194-09f1-436c-ac43-fe638d2bb884": {
     "id": "5f566194-09f1-436c-ac43-fe638d2bb884",
     "prev": "c8c84d6d-83b7-4a2b-81a0-aa08b5db606e",
     "regions": {
      "d50c0e6b-014f-45e2-a691-0c9b26d52cbf": {
       "attrs": {
        "height": 0.8,
        "width": 0.8,
        "x": 0.1,
        "y": 0.1
       },
       "content": {
        "cell": "b105392f-323d-4751-9609-54bd0325f0e1",
        "part": "whole"
       },
       "id": "d50c0e6b-014f-45e2-a691-0c9b26d52cbf"
      }
     }
    },
    "653e40a9-f90d-4e96-9c3a-cc0496bf63dc": {
     "id": "653e40a9-f90d-4e96-9c3a-cc0496bf63dc",
     "prev": "934f04be-37a9-4b4d-b3c2-7033bd37ecde",
     "regions": {
      "c2711c63-f19e-4012-a288-0cfa7ff5b417": {
       "attrs": {
        "height": 0.8,
        "width": 0.8,
        "x": 0.1,
        "y": 0.1
       },
       "content": {
        "cell": "08988c3b-64cd-48d0-a4f6-4b638c3fc0b9",
        "part": "whole"
       },
       "id": "c2711c63-f19e-4012-a288-0cfa7ff5b417"
      }
     }
    },
    "72acae5a-9cf4-4106-933f-029db77156bc": {
     "id": "72acae5a-9cf4-4106-933f-029db77156bc",
     "prev": "3aa278f9-1a89-496a-a3e2-dffc230a350d",
     "regions": {
      "30441cb5-c56b-4581-91bc-bf3445a22177": {
       "attrs": {
        "height": 0.8,
        "width": 0.8,
        "x": 0.1,
        "y": 0.1
       },
       "content": {
        "cell": "f5029f70-616e-4d5a-a31e-88f28fbc3b3e",
        "part": "whole"
       },
       "id": "30441cb5-c56b-4581-91bc-bf3445a22177"
      }
     }
    },
    "7d111e5d-8c4d-4983-a708-52ac154024b6": {
     "id": "7d111e5d-8c4d-4983-a708-52ac154024b6",
     "prev": "037d994f-b6de-4ed8-9958-170a56092b39",
     "regions": {
      "32bd581a-dcb2-4081-83e9-db01a8c61d8b": {
       "attrs": {
        "height": 0.8,
        "width": 0.8,
        "x": 0.1,
        "y": 0.1
       },
       "content": {
        "cell": "fc2879a2-4cee-480f-b05a-4d5827cad4cb",
        "part": "whole"
       },
       "id": "32bd581a-dcb2-4081-83e9-db01a8c61d8b"
      }
     }
    },
    "87092331-e05c-4411-9cfa-ee6ca5cefbc7": {
     "id": "87092331-e05c-4411-9cfa-ee6ca5cefbc7",
     "prev": "2a8c384f-5eaa-416c-a129-bd48f289fece",
     "regions": {
      "83217bed-9a51-46ea-80dc-7f05e56601d7": {
       "attrs": {
        "height": 0.8,
        "width": 0.8,
        "x": 0.1,
        "y": 0.1
       },
       "content": {
        "cell": "a2666c2d-d268-4943-91cd-668ce69be9bf",
        "part": "whole"
       },
       "id": "83217bed-9a51-46ea-80dc-7f05e56601d7"
      }
     }
    },
    "88e78a8c-b3c3-426c-9daf-001fbca578c0": {
     "id": "88e78a8c-b3c3-426c-9daf-001fbca578c0",
     "prev": "f640a13f-4d82-4684-9958-adb7dbd17370",
     "regions": {
      "df760d39-1832-4a05-a1fb-2341a1e09c93": {
       "attrs": {
        "height": 0.8,
        "width": 0.8,
        "x": 0.1,
        "y": 0.1
       },
       "content": {
        "cell": "4dd63516-02e8-465f-8989-9f578470492d",
        "part": "whole"
       },
       "id": "df760d39-1832-4a05-a1fb-2341a1e09c93"
      }
     }
    },
    "934f04be-37a9-4b4d-b3c2-7033bd37ecde": {
     "id": "934f04be-37a9-4b4d-b3c2-7033bd37ecde",
     "prev": "5ae57a89-fc55-4fcc-b22f-f7271836c305",
     "regions": {
      "d599307c-6699-427f-a19e-372e155d9442": {
       "attrs": {
        "height": 0.8,
        "width": 0.8,
        "x": 0.1,
        "y": 0.1
       },
       "content": {
        "cell": "3f90a2cb-cb76-431b-858d-a552dffe28d8",
        "part": "whole"
       },
       "id": "d599307c-6699-427f-a19e-372e155d9442"
      }
     }
    },
    "a72d566b-3564-450d-803c-811a2e98e014": {
     "id": "a72d566b-3564-450d-803c-811a2e98e014",
     "prev": "3013eaf0-1eb9-4115-a74a-2e386691f07d",
     "regions": {
      "9f8e5877-ed2d-4e3b-ba10-8395915d7c61": {
       "attrs": {
        "height": 0.8,
        "width": 0.8,
        "x": 0.1,
        "y": 0.1
       },
       "content": {
        "cell": "01fb2ffb-bfe4-4b73-9116-2f2dc20ccb52",
        "part": "whole"
       },
       "id": "9f8e5877-ed2d-4e3b-ba10-8395915d7c61"
      }
     }
    },
    "b62e5716-5847-4cf9-959a-b7adcc1b20ef": {
     "id": "b62e5716-5847-4cf9-959a-b7adcc1b20ef",
     "prev": "eaab4f5e-5ace-4025-b0f1-165754fb6d3d",
     "regions": {
      "f3621dc3-62e2-4479-ba98-a6f1f77ebf38": {
       "attrs": {
        "height": 0.8,
        "width": 0.8,
        "x": 0.1,
        "y": 0.1
       },
       "content": {
        "cell": "5d4f88a6-7241-4e46-8249-d50273fcf6db",
        "part": "whole"
       },
       "id": "f3621dc3-62e2-4479-ba98-a6f1f77ebf38"
      }
     }
    },
    "c2271e71-a302-42e2-86f9-a6a08f8b6aec": {
     "id": "c2271e71-a302-42e2-86f9-a6a08f8b6aec",
     "prev": "165e09c7-bbd1-4084-9aff-a048766875cc",
     "regions": {
      "041db447-bbb4-4163-bd58-104a84be857a": {
       "attrs": {
        "height": 0.8,
        "width": 0.8,
        "x": 0.1,
        "y": 0.1
       },
       "content": {
        "cell": "30248960-5166-415a-a908-d6d4e3a23434",
        "part": "whole"
       },
       "id": "041db447-bbb4-4163-bd58-104a84be857a"
      }
     }
    },
    "c5e98f18-a0fb-4365-9b37-19db45e9c0f1": {
     "id": "c5e98f18-a0fb-4365-9b37-19db45e9c0f1",
     "prev": "189a8448-123c-453e-91ac-837b87f4c52f",
     "regions": {
      "e4ef0b75-fac6-4a29-8e70-d8e288113551": {
       "attrs": {
        "height": 0.8,
        "width": 0.8,
        "x": 0.1,
        "y": 0.1
       },
       "content": {
        "cell": "8286f07a-5e70-4423-a3f0-bd54f49f8cd4",
        "part": "whole"
       },
       "id": "e4ef0b75-fac6-4a29-8e70-d8e288113551"
      }
     }
    },
    "c8c84d6d-83b7-4a2b-81a0-aa08b5db606e": {
     "id": "c8c84d6d-83b7-4a2b-81a0-aa08b5db606e",
     "prev": "c2271e71-a302-42e2-86f9-a6a08f8b6aec",
     "regions": {
      "4d30b2fb-54ae-41f8-a8c9-e820c775d124": {
       "attrs": {
        "height": 0.8,
        "width": 0.8,
        "x": 0.1,
        "y": 0.1
       },
       "content": {
        "cell": "d54fc4ad-016e-422b-af93-2b7efc3c16ed",
        "part": "whole"
       },
       "id": "4d30b2fb-54ae-41f8-a8c9-e820c775d124"
      }
     }
    },
    "cfce1e41-bd03-4f35-ac4c-a086e9f9eb5d": {
     "id": "cfce1e41-bd03-4f35-ac4c-a086e9f9eb5d",
     "prev": "653e40a9-f90d-4e96-9c3a-cc0496bf63dc",
     "regions": {
      "dc13713f-b2ee-4841-aa74-ed73d818a249": {
       "attrs": {
        "height": 0.8,
        "width": 0.8,
        "x": 0.1,
        "y": 0.1
       },
       "content": {
        "cell": "2cc66b77-a1d5-4dd0-bd69-8c9994dde5d6",
        "part": "whole"
       },
       "id": "dc13713f-b2ee-4841-aa74-ed73d818a249"
      }
     }
    },
    "da6b9e0b-0344-47d7-8d1a-d85cf8e53921": {
     "id": "da6b9e0b-0344-47d7-8d1a-d85cf8e53921",
     "prev": "43f95af2-3a38-45fa-aac9-2527905284ea",
     "regions": {
      "8f60e1e9-d492-4e14-9604-91591a2dc032": {
       "attrs": {
        "height": 0.8,
        "width": 0.8,
        "x": 0.1,
        "y": 0.1
       },
       "content": {
        "cell": "743bc2b3-b029-43cf-b7b4-3a734f90d171",
        "part": "whole"
       },
       "id": "8f60e1e9-d492-4e14-9604-91591a2dc032"
      }
     }
    },
    "e2fbd982-c138-4d75-ac97-197ae3d6742f": {
     "id": "e2fbd982-c138-4d75-ac97-197ae3d6742f",
     "prev": "da6b9e0b-0344-47d7-8d1a-d85cf8e53921",
     "regions": {
      "f26d0900-cdd5-4ab5-abd6-fdf56da270bc": {
       "attrs": {
        "height": 0.8,
        "width": 0.8,
        "x": 0.1,
        "y": 0.1
       },
       "content": {
        "cell": "e906b758-1796-40fe-89b0-2e69059130a7",
        "part": "whole"
       },
       "id": "f26d0900-cdd5-4ab5-abd6-fdf56da270bc"
      }
     }
    },
    "eaab4f5e-5ace-4025-b0f1-165754fb6d3d": {
     "id": "eaab4f5e-5ace-4025-b0f1-165754fb6d3d",
     "prev": "45fe1251-5f24-42a5-bd2f-e52699b44935",
     "regions": {
      "3fbba3a1-3f5c-41c4-8093-003a89c88653": {
       "attrs": {
        "height": 0.8,
        "width": 0.8,
        "x": 0.1,
        "y": 0.1
       },
       "content": {
        "cell": "a7179b38-5181-4549-b6ec-4988aa279c88",
        "part": "whole"
       },
       "id": "3fbba3a1-3f5c-41c4-8093-003a89c88653"
      }
     }
    },
    "f640a13f-4d82-4684-9958-adb7dbd17370": {
     "id": "f640a13f-4d82-4684-9958-adb7dbd17370",
     "prev": "127f7ddf-d6f9-48bc-ba2d-5f1a755e33fb",
     "regions": {
      "1b4dbe06-4c43-4de1-911a-b5a5e28e8bdb": {
       "attrs": {
        "height": 0.8,
        "width": 0.8,
        "x": 0.1,
        "y": 0.1
       },
       "content": {
        "cell": "0b3ee273-8060-4aea-901f-2299f15bceb2",
        "part": "whole"
       },
       "id": "1b4dbe06-4c43-4de1-911a-b5a5e28e8bdb"
      }
     }
    },
    "f99c1815-0594-49d9-b4a6-38db28a1f981": {
     "id": "f99c1815-0594-49d9-b4a6-38db28a1f981",
     "prev": "88e78a8c-b3c3-426c-9daf-001fbca578c0",
     "regions": {
      "395a719d-1249-4ee9-bc13-9ab8bb696b2c": {
       "attrs": {
        "height": 0.8,
        "width": 0.8,
        "x": 0.1,
        "y": 0.1
       },
       "content": {
        "cell": "1e3b98aa-0252-4548-b2c4-50c64d10064d",
        "part": "whole"
       },
       "id": "395a719d-1249-4ee9-bc13-9ab8bb696b2c"
      }
     }
    }
   },
   "themes": {}
  },
  "toc": {
   "base_numbering": 1,
   "nav_menu": {},
   "number_sections": true,
   "sideBar": true,
   "skip_h1_title": false,
   "title_cell": "Table of Contents",
   "title_sidebar": "Contents",
   "toc_cell": false,
   "toc_position": {},
   "toc_section_display": true,
   "toc_window_display": false
  }
 },
 "nbformat": 4,
 "nbformat_minor": 2
}
